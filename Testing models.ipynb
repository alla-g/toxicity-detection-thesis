{
  "nbformat": 4,
  "nbformat_minor": 0,
  "metadata": {
    "colab": {
      "name": "testing models.ipynb",
      "provenance": [],
      "collapsed_sections": [],
      "authorship_tag": "ABX9TyMhShMoH5sBrOvX3ni7770a",
      "include_colab_link": true
    },
    "kernelspec": {
      "name": "python3",
      "display_name": "Python 3"
    },
    "language_info": {
      "name": "python"
    },
    "accelerator": "GPU",
    "widgets": {
      "application/vnd.jupyter.widget-state+json": {
        "31a3908f1625496588c17d2e5e571760": {
          "model_module": "@jupyter-widgets/controls",
          "model_name": "HBoxModel",
          "model_module_version": "1.5.0",
          "state": {
            "_dom_classes": [],
            "_model_module": "@jupyter-widgets/controls",
            "_model_module_version": "1.5.0",
            "_model_name": "HBoxModel",
            "_view_count": null,
            "_view_module": "@jupyter-widgets/controls",
            "_view_module_version": "1.5.0",
            "_view_name": "HBoxView",
            "box_style": "",
            "children": [
              "IPY_MODEL_bcbdcd36235b4423927fb70016281f81",
              "IPY_MODEL_cbe44e4cf01c4f8dac5460fea10f2532",
              "IPY_MODEL_2014d9a8b1704d03bcdf604ba88add65"
            ],
            "layout": "IPY_MODEL_1111eb10903242c299a0e66607349697"
          }
        },
        "bcbdcd36235b4423927fb70016281f81": {
          "model_module": "@jupyter-widgets/controls",
          "model_name": "HTMLModel",
          "model_module_version": "1.5.0",
          "state": {
            "_dom_classes": [],
            "_model_module": "@jupyter-widgets/controls",
            "_model_module_version": "1.5.0",
            "_model_name": "HTMLModel",
            "_view_count": null,
            "_view_module": "@jupyter-widgets/controls",
            "_view_module_version": "1.5.0",
            "_view_name": "HTMLView",
            "description": "",
            "description_tooltip": null,
            "layout": "IPY_MODEL_704e18e64a514e59a761c7bc24e98216",
            "placeholder": "​",
            "style": "IPY_MODEL_8f018ca66d274939b802e06707b4a571",
            "value": "Downloading: 100%"
          }
        },
        "cbe44e4cf01c4f8dac5460fea10f2532": {
          "model_module": "@jupyter-widgets/controls",
          "model_name": "FloatProgressModel",
          "model_module_version": "1.5.0",
          "state": {
            "_dom_classes": [],
            "_model_module": "@jupyter-widgets/controls",
            "_model_module_version": "1.5.0",
            "_model_name": "FloatProgressModel",
            "_view_count": null,
            "_view_module": "@jupyter-widgets/controls",
            "_view_module_version": "1.5.0",
            "_view_name": "ProgressView",
            "bar_style": "success",
            "description": "",
            "description_tooltip": null,
            "layout": "IPY_MODEL_aaf57f5eebe74336919101754ef15ed3",
            "max": 540,
            "min": 0,
            "orientation": "horizontal",
            "style": "IPY_MODEL_66bc626b4bab41e0b00783acc8277dcf",
            "value": 540
          }
        },
        "2014d9a8b1704d03bcdf604ba88add65": {
          "model_module": "@jupyter-widgets/controls",
          "model_name": "HTMLModel",
          "model_module_version": "1.5.0",
          "state": {
            "_dom_classes": [],
            "_model_module": "@jupyter-widgets/controls",
            "_model_module_version": "1.5.0",
            "_model_name": "HTMLModel",
            "_view_count": null,
            "_view_module": "@jupyter-widgets/controls",
            "_view_module_version": "1.5.0",
            "_view_name": "HTMLView",
            "description": "",
            "description_tooltip": null,
            "layout": "IPY_MODEL_bc0fbe167c2843a7bc2b0b2306bbd1ba",
            "placeholder": "​",
            "style": "IPY_MODEL_71ef9690fe104dbb9747c6441bbc9f50",
            "value": " 540/540 [00:00&lt;00:00, 15.7kB/s]"
          }
        },
        "1111eb10903242c299a0e66607349697": {
          "model_module": "@jupyter-widgets/base",
          "model_name": "LayoutModel",
          "model_module_version": "1.2.0",
          "state": {
            "_model_module": "@jupyter-widgets/base",
            "_model_module_version": "1.2.0",
            "_model_name": "LayoutModel",
            "_view_count": null,
            "_view_module": "@jupyter-widgets/base",
            "_view_module_version": "1.2.0",
            "_view_name": "LayoutView",
            "align_content": null,
            "align_items": null,
            "align_self": null,
            "border": null,
            "bottom": null,
            "display": null,
            "flex": null,
            "flex_flow": null,
            "grid_area": null,
            "grid_auto_columns": null,
            "grid_auto_flow": null,
            "grid_auto_rows": null,
            "grid_column": null,
            "grid_gap": null,
            "grid_row": null,
            "grid_template_areas": null,
            "grid_template_columns": null,
            "grid_template_rows": null,
            "height": null,
            "justify_content": null,
            "justify_items": null,
            "left": null,
            "margin": null,
            "max_height": null,
            "max_width": null,
            "min_height": null,
            "min_width": null,
            "object_fit": null,
            "object_position": null,
            "order": null,
            "overflow": null,
            "overflow_x": null,
            "overflow_y": null,
            "padding": null,
            "right": null,
            "top": null,
            "visibility": null,
            "width": null
          }
        },
        "704e18e64a514e59a761c7bc24e98216": {
          "model_module": "@jupyter-widgets/base",
          "model_name": "LayoutModel",
          "model_module_version": "1.2.0",
          "state": {
            "_model_module": "@jupyter-widgets/base",
            "_model_module_version": "1.2.0",
            "_model_name": "LayoutModel",
            "_view_count": null,
            "_view_module": "@jupyter-widgets/base",
            "_view_module_version": "1.2.0",
            "_view_name": "LayoutView",
            "align_content": null,
            "align_items": null,
            "align_self": null,
            "border": null,
            "bottom": null,
            "display": null,
            "flex": null,
            "flex_flow": null,
            "grid_area": null,
            "grid_auto_columns": null,
            "grid_auto_flow": null,
            "grid_auto_rows": null,
            "grid_column": null,
            "grid_gap": null,
            "grid_row": null,
            "grid_template_areas": null,
            "grid_template_columns": null,
            "grid_template_rows": null,
            "height": null,
            "justify_content": null,
            "justify_items": null,
            "left": null,
            "margin": null,
            "max_height": null,
            "max_width": null,
            "min_height": null,
            "min_width": null,
            "object_fit": null,
            "object_position": null,
            "order": null,
            "overflow": null,
            "overflow_x": null,
            "overflow_y": null,
            "padding": null,
            "right": null,
            "top": null,
            "visibility": null,
            "width": null
          }
        },
        "8f018ca66d274939b802e06707b4a571": {
          "model_module": "@jupyter-widgets/controls",
          "model_name": "DescriptionStyleModel",
          "model_module_version": "1.5.0",
          "state": {
            "_model_module": "@jupyter-widgets/controls",
            "_model_module_version": "1.5.0",
            "_model_name": "DescriptionStyleModel",
            "_view_count": null,
            "_view_module": "@jupyter-widgets/base",
            "_view_module_version": "1.2.0",
            "_view_name": "StyleView",
            "description_width": ""
          }
        },
        "aaf57f5eebe74336919101754ef15ed3": {
          "model_module": "@jupyter-widgets/base",
          "model_name": "LayoutModel",
          "model_module_version": "1.2.0",
          "state": {
            "_model_module": "@jupyter-widgets/base",
            "_model_module_version": "1.2.0",
            "_model_name": "LayoutModel",
            "_view_count": null,
            "_view_module": "@jupyter-widgets/base",
            "_view_module_version": "1.2.0",
            "_view_name": "LayoutView",
            "align_content": null,
            "align_items": null,
            "align_self": null,
            "border": null,
            "bottom": null,
            "display": null,
            "flex": null,
            "flex_flow": null,
            "grid_area": null,
            "grid_auto_columns": null,
            "grid_auto_flow": null,
            "grid_auto_rows": null,
            "grid_column": null,
            "grid_gap": null,
            "grid_row": null,
            "grid_template_areas": null,
            "grid_template_columns": null,
            "grid_template_rows": null,
            "height": null,
            "justify_content": null,
            "justify_items": null,
            "left": null,
            "margin": null,
            "max_height": null,
            "max_width": null,
            "min_height": null,
            "min_width": null,
            "object_fit": null,
            "object_position": null,
            "order": null,
            "overflow": null,
            "overflow_x": null,
            "overflow_y": null,
            "padding": null,
            "right": null,
            "top": null,
            "visibility": null,
            "width": null
          }
        },
        "66bc626b4bab41e0b00783acc8277dcf": {
          "model_module": "@jupyter-widgets/controls",
          "model_name": "ProgressStyleModel",
          "model_module_version": "1.5.0",
          "state": {
            "_model_module": "@jupyter-widgets/controls",
            "_model_module_version": "1.5.0",
            "_model_name": "ProgressStyleModel",
            "_view_count": null,
            "_view_module": "@jupyter-widgets/base",
            "_view_module_version": "1.2.0",
            "_view_name": "StyleView",
            "bar_color": null,
            "description_width": ""
          }
        },
        "bc0fbe167c2843a7bc2b0b2306bbd1ba": {
          "model_module": "@jupyter-widgets/base",
          "model_name": "LayoutModel",
          "model_module_version": "1.2.0",
          "state": {
            "_model_module": "@jupyter-widgets/base",
            "_model_module_version": "1.2.0",
            "_model_name": "LayoutModel",
            "_view_count": null,
            "_view_module": "@jupyter-widgets/base",
            "_view_module_version": "1.2.0",
            "_view_name": "LayoutView",
            "align_content": null,
            "align_items": null,
            "align_self": null,
            "border": null,
            "bottom": null,
            "display": null,
            "flex": null,
            "flex_flow": null,
            "grid_area": null,
            "grid_auto_columns": null,
            "grid_auto_flow": null,
            "grid_auto_rows": null,
            "grid_column": null,
            "grid_gap": null,
            "grid_row": null,
            "grid_template_areas": null,
            "grid_template_columns": null,
            "grid_template_rows": null,
            "height": null,
            "justify_content": null,
            "justify_items": null,
            "left": null,
            "margin": null,
            "max_height": null,
            "max_width": null,
            "min_height": null,
            "min_width": null,
            "object_fit": null,
            "object_position": null,
            "order": null,
            "overflow": null,
            "overflow_x": null,
            "overflow_y": null,
            "padding": null,
            "right": null,
            "top": null,
            "visibility": null,
            "width": null
          }
        },
        "71ef9690fe104dbb9747c6441bbc9f50": {
          "model_module": "@jupyter-widgets/controls",
          "model_name": "DescriptionStyleModel",
          "model_module_version": "1.5.0",
          "state": {
            "_model_module": "@jupyter-widgets/controls",
            "_model_module_version": "1.5.0",
            "_model_name": "DescriptionStyleModel",
            "_view_count": null,
            "_view_module": "@jupyter-widgets/base",
            "_view_module_version": "1.2.0",
            "_view_name": "StyleView",
            "description_width": ""
          }
        },
        "1470f99980524a269bbb3e385afcde61": {
          "model_module": "@jupyter-widgets/controls",
          "model_name": "HBoxModel",
          "model_module_version": "1.5.0",
          "state": {
            "_dom_classes": [],
            "_model_module": "@jupyter-widgets/controls",
            "_model_module_version": "1.5.0",
            "_model_name": "HBoxModel",
            "_view_count": null,
            "_view_module": "@jupyter-widgets/controls",
            "_view_module_version": "1.5.0",
            "_view_name": "HBoxView",
            "box_style": "",
            "children": [
              "IPY_MODEL_02bcbfd230a04dcea8cd60bc62e8003b",
              "IPY_MODEL_76a0ddee6f984fd083b1cd6c6233eff1",
              "IPY_MODEL_bd63f87c93cd4099a9e713b8f51ef954"
            ],
            "layout": "IPY_MODEL_5b1cce7b6f4347769d12b527f6e13cc8"
          }
        },
        "02bcbfd230a04dcea8cd60bc62e8003b": {
          "model_module": "@jupyter-widgets/controls",
          "model_name": "HTMLModel",
          "model_module_version": "1.5.0",
          "state": {
            "_dom_classes": [],
            "_model_module": "@jupyter-widgets/controls",
            "_model_module_version": "1.5.0",
            "_model_name": "HTMLModel",
            "_view_count": null,
            "_view_module": "@jupyter-widgets/controls",
            "_view_module_version": "1.5.0",
            "_view_name": "HTMLView",
            "description": "",
            "description_tooltip": null,
            "layout": "IPY_MODEL_026b97aa5a9d429fa7ec2cf875ded0bf",
            "placeholder": "​",
            "style": "IPY_MODEL_206d7c5e6f374ee4bdaa9d34f2db64cb",
            "value": "Downloading: 100%"
          }
        },
        "76a0ddee6f984fd083b1cd6c6233eff1": {
          "model_module": "@jupyter-widgets/controls",
          "model_name": "FloatProgressModel",
          "model_module_version": "1.5.0",
          "state": {
            "_dom_classes": [],
            "_model_module": "@jupyter-widgets/controls",
            "_model_module_version": "1.5.0",
            "_model_name": "FloatProgressModel",
            "_view_count": null,
            "_view_module": "@jupyter-widgets/controls",
            "_view_module_version": "1.5.0",
            "_view_name": "ProgressView",
            "bar_style": "success",
            "description": "",
            "description_tooltip": null,
            "layout": "IPY_MODEL_154a8f8c737449d7903fa7892c928248",
            "max": 920,
            "min": 0,
            "orientation": "horizontal",
            "style": "IPY_MODEL_ae0d22c8b2fc433f8a88c607f32da619",
            "value": 920
          }
        },
        "bd63f87c93cd4099a9e713b8f51ef954": {
          "model_module": "@jupyter-widgets/controls",
          "model_name": "HTMLModel",
          "model_module_version": "1.5.0",
          "state": {
            "_dom_classes": [],
            "_model_module": "@jupyter-widgets/controls",
            "_model_module_version": "1.5.0",
            "_model_name": "HTMLModel",
            "_view_count": null,
            "_view_module": "@jupyter-widgets/controls",
            "_view_module_version": "1.5.0",
            "_view_name": "HTMLView",
            "description": "",
            "description_tooltip": null,
            "layout": "IPY_MODEL_98987358fb6d49fda1464225e36004d1",
            "placeholder": "​",
            "style": "IPY_MODEL_7c993ca9fc8a451ca32a22d2a5372947",
            "value": " 920/920 [00:00&lt;00:00, 28.9kB/s]"
          }
        },
        "5b1cce7b6f4347769d12b527f6e13cc8": {
          "model_module": "@jupyter-widgets/base",
          "model_name": "LayoutModel",
          "model_module_version": "1.2.0",
          "state": {
            "_model_module": "@jupyter-widgets/base",
            "_model_module_version": "1.2.0",
            "_model_name": "LayoutModel",
            "_view_count": null,
            "_view_module": "@jupyter-widgets/base",
            "_view_module_version": "1.2.0",
            "_view_name": "LayoutView",
            "align_content": null,
            "align_items": null,
            "align_self": null,
            "border": null,
            "bottom": null,
            "display": null,
            "flex": null,
            "flex_flow": null,
            "grid_area": null,
            "grid_auto_columns": null,
            "grid_auto_flow": null,
            "grid_auto_rows": null,
            "grid_column": null,
            "grid_gap": null,
            "grid_row": null,
            "grid_template_areas": null,
            "grid_template_columns": null,
            "grid_template_rows": null,
            "height": null,
            "justify_content": null,
            "justify_items": null,
            "left": null,
            "margin": null,
            "max_height": null,
            "max_width": null,
            "min_height": null,
            "min_width": null,
            "object_fit": null,
            "object_position": null,
            "order": null,
            "overflow": null,
            "overflow_x": null,
            "overflow_y": null,
            "padding": null,
            "right": null,
            "top": null,
            "visibility": null,
            "width": null
          }
        },
        "026b97aa5a9d429fa7ec2cf875ded0bf": {
          "model_module": "@jupyter-widgets/base",
          "model_name": "LayoutModel",
          "model_module_version": "1.2.0",
          "state": {
            "_model_module": "@jupyter-widgets/base",
            "_model_module_version": "1.2.0",
            "_model_name": "LayoutModel",
            "_view_count": null,
            "_view_module": "@jupyter-widgets/base",
            "_view_module_version": "1.2.0",
            "_view_name": "LayoutView",
            "align_content": null,
            "align_items": null,
            "align_self": null,
            "border": null,
            "bottom": null,
            "display": null,
            "flex": null,
            "flex_flow": null,
            "grid_area": null,
            "grid_auto_columns": null,
            "grid_auto_flow": null,
            "grid_auto_rows": null,
            "grid_column": null,
            "grid_gap": null,
            "grid_row": null,
            "grid_template_areas": null,
            "grid_template_columns": null,
            "grid_template_rows": null,
            "height": null,
            "justify_content": null,
            "justify_items": null,
            "left": null,
            "margin": null,
            "max_height": null,
            "max_width": null,
            "min_height": null,
            "min_width": null,
            "object_fit": null,
            "object_position": null,
            "order": null,
            "overflow": null,
            "overflow_x": null,
            "overflow_y": null,
            "padding": null,
            "right": null,
            "top": null,
            "visibility": null,
            "width": null
          }
        },
        "206d7c5e6f374ee4bdaa9d34f2db64cb": {
          "model_module": "@jupyter-widgets/controls",
          "model_name": "DescriptionStyleModel",
          "model_module_version": "1.5.0",
          "state": {
            "_model_module": "@jupyter-widgets/controls",
            "_model_module_version": "1.5.0",
            "_model_name": "DescriptionStyleModel",
            "_view_count": null,
            "_view_module": "@jupyter-widgets/base",
            "_view_module_version": "1.2.0",
            "_view_name": "StyleView",
            "description_width": ""
          }
        },
        "154a8f8c737449d7903fa7892c928248": {
          "model_module": "@jupyter-widgets/base",
          "model_name": "LayoutModel",
          "model_module_version": "1.2.0",
          "state": {
            "_model_module": "@jupyter-widgets/base",
            "_model_module_version": "1.2.0",
            "_model_name": "LayoutModel",
            "_view_count": null,
            "_view_module": "@jupyter-widgets/base",
            "_view_module_version": "1.2.0",
            "_view_name": "LayoutView",
            "align_content": null,
            "align_items": null,
            "align_self": null,
            "border": null,
            "bottom": null,
            "display": null,
            "flex": null,
            "flex_flow": null,
            "grid_area": null,
            "grid_auto_columns": null,
            "grid_auto_flow": null,
            "grid_auto_rows": null,
            "grid_column": null,
            "grid_gap": null,
            "grid_row": null,
            "grid_template_areas": null,
            "grid_template_columns": null,
            "grid_template_rows": null,
            "height": null,
            "justify_content": null,
            "justify_items": null,
            "left": null,
            "margin": null,
            "max_height": null,
            "max_width": null,
            "min_height": null,
            "min_width": null,
            "object_fit": null,
            "object_position": null,
            "order": null,
            "overflow": null,
            "overflow_x": null,
            "overflow_y": null,
            "padding": null,
            "right": null,
            "top": null,
            "visibility": null,
            "width": null
          }
        },
        "ae0d22c8b2fc433f8a88c607f32da619": {
          "model_module": "@jupyter-widgets/controls",
          "model_name": "ProgressStyleModel",
          "model_module_version": "1.5.0",
          "state": {
            "_model_module": "@jupyter-widgets/controls",
            "_model_module_version": "1.5.0",
            "_model_name": "ProgressStyleModel",
            "_view_count": null,
            "_view_module": "@jupyter-widgets/base",
            "_view_module_version": "1.2.0",
            "_view_name": "StyleView",
            "bar_color": null,
            "description_width": ""
          }
        },
        "98987358fb6d49fda1464225e36004d1": {
          "model_module": "@jupyter-widgets/base",
          "model_name": "LayoutModel",
          "model_module_version": "1.2.0",
          "state": {
            "_model_module": "@jupyter-widgets/base",
            "_model_module_version": "1.2.0",
            "_model_name": "LayoutModel",
            "_view_count": null,
            "_view_module": "@jupyter-widgets/base",
            "_view_module_version": "1.2.0",
            "_view_name": "LayoutView",
            "align_content": null,
            "align_items": null,
            "align_self": null,
            "border": null,
            "bottom": null,
            "display": null,
            "flex": null,
            "flex_flow": null,
            "grid_area": null,
            "grid_auto_columns": null,
            "grid_auto_flow": null,
            "grid_auto_rows": null,
            "grid_column": null,
            "grid_gap": null,
            "grid_row": null,
            "grid_template_areas": null,
            "grid_template_columns": null,
            "grid_template_rows": null,
            "height": null,
            "justify_content": null,
            "justify_items": null,
            "left": null,
            "margin": null,
            "max_height": null,
            "max_width": null,
            "min_height": null,
            "min_width": null,
            "object_fit": null,
            "object_position": null,
            "order": null,
            "overflow": null,
            "overflow_x": null,
            "overflow_y": null,
            "padding": null,
            "right": null,
            "top": null,
            "visibility": null,
            "width": null
          }
        },
        "7c993ca9fc8a451ca32a22d2a5372947": {
          "model_module": "@jupyter-widgets/controls",
          "model_name": "DescriptionStyleModel",
          "model_module_version": "1.5.0",
          "state": {
            "_model_module": "@jupyter-widgets/controls",
            "_model_module_version": "1.5.0",
            "_model_name": "DescriptionStyleModel",
            "_view_count": null,
            "_view_module": "@jupyter-widgets/base",
            "_view_module_version": "1.2.0",
            "_view_name": "StyleView",
            "description_width": ""
          }
        },
        "c1c6aae2d24041939b5638618039c00e": {
          "model_module": "@jupyter-widgets/controls",
          "model_name": "HBoxModel",
          "model_module_version": "1.5.0",
          "state": {
            "_dom_classes": [],
            "_model_module": "@jupyter-widgets/controls",
            "_model_module_version": "1.5.0",
            "_model_name": "HBoxModel",
            "_view_count": null,
            "_view_module": "@jupyter-widgets/controls",
            "_view_module_version": "1.5.0",
            "_view_name": "HBoxView",
            "box_style": "",
            "children": [
              "IPY_MODEL_2429789703b54b97a873a15c584f9385",
              "IPY_MODEL_d5464fc4477c4f1b97f7cf37d77b16b8",
              "IPY_MODEL_c3581ec962a54da6856dba883a5256f4"
            ],
            "layout": "IPY_MODEL_5513133a42704945b2d76b5f10358ec6"
          }
        },
        "2429789703b54b97a873a15c584f9385": {
          "model_module": "@jupyter-widgets/controls",
          "model_name": "HTMLModel",
          "model_module_version": "1.5.0",
          "state": {
            "_dom_classes": [],
            "_model_module": "@jupyter-widgets/controls",
            "_model_module_version": "1.5.0",
            "_model_name": "HTMLModel",
            "_view_count": null,
            "_view_module": "@jupyter-widgets/controls",
            "_view_module_version": "1.5.0",
            "_view_name": "HTMLView",
            "description": "",
            "description_tooltip": null,
            "layout": "IPY_MODEL_c93861cae47b48a2b95e4a754c2ccdea",
            "placeholder": "​",
            "style": "IPY_MODEL_b1a4cb7de76f43b794342165a8e6afc7",
            "value": "Downloading: 100%"
          }
        },
        "d5464fc4477c4f1b97f7cf37d77b16b8": {
          "model_module": "@jupyter-widgets/controls",
          "model_name": "FloatProgressModel",
          "model_module_version": "1.5.0",
          "state": {
            "_dom_classes": [],
            "_model_module": "@jupyter-widgets/controls",
            "_model_module_version": "1.5.0",
            "_model_name": "FloatProgressModel",
            "_view_count": null,
            "_view_module": "@jupyter-widgets/controls",
            "_view_module_version": "1.5.0",
            "_view_name": "ProgressView",
            "bar_style": "success",
            "description": "",
            "description_tooltip": null,
            "layout": "IPY_MODEL_54412a3d63224204ad95c3ae08c0584a",
            "max": 1649718,
            "min": 0,
            "orientation": "horizontal",
            "style": "IPY_MODEL_c7a747b135264256a4e8d35389ebf6f8",
            "value": 1649718
          }
        },
        "c3581ec962a54da6856dba883a5256f4": {
          "model_module": "@jupyter-widgets/controls",
          "model_name": "HTMLModel",
          "model_module_version": "1.5.0",
          "state": {
            "_dom_classes": [],
            "_model_module": "@jupyter-widgets/controls",
            "_model_module_version": "1.5.0",
            "_model_name": "HTMLModel",
            "_view_count": null,
            "_view_module": "@jupyter-widgets/controls",
            "_view_module_version": "1.5.0",
            "_view_name": "HTMLView",
            "description": "",
            "description_tooltip": null,
            "layout": "IPY_MODEL_9e06a65182c14889825d7c2157badf99",
            "placeholder": "​",
            "style": "IPY_MODEL_7b2c7a54e99645e689e36d60be92ccac",
            "value": " 1.57M/1.57M [00:01&lt;00:00, 1.62MB/s]"
          }
        },
        "5513133a42704945b2d76b5f10358ec6": {
          "model_module": "@jupyter-widgets/base",
          "model_name": "LayoutModel",
          "model_module_version": "1.2.0",
          "state": {
            "_model_module": "@jupyter-widgets/base",
            "_model_module_version": "1.2.0",
            "_model_name": "LayoutModel",
            "_view_count": null,
            "_view_module": "@jupyter-widgets/base",
            "_view_module_version": "1.2.0",
            "_view_name": "LayoutView",
            "align_content": null,
            "align_items": null,
            "align_self": null,
            "border": null,
            "bottom": null,
            "display": null,
            "flex": null,
            "flex_flow": null,
            "grid_area": null,
            "grid_auto_columns": null,
            "grid_auto_flow": null,
            "grid_auto_rows": null,
            "grid_column": null,
            "grid_gap": null,
            "grid_row": null,
            "grid_template_areas": null,
            "grid_template_columns": null,
            "grid_template_rows": null,
            "height": null,
            "justify_content": null,
            "justify_items": null,
            "left": null,
            "margin": null,
            "max_height": null,
            "max_width": null,
            "min_height": null,
            "min_width": null,
            "object_fit": null,
            "object_position": null,
            "order": null,
            "overflow": null,
            "overflow_x": null,
            "overflow_y": null,
            "padding": null,
            "right": null,
            "top": null,
            "visibility": null,
            "width": null
          }
        },
        "c93861cae47b48a2b95e4a754c2ccdea": {
          "model_module": "@jupyter-widgets/base",
          "model_name": "LayoutModel",
          "model_module_version": "1.2.0",
          "state": {
            "_model_module": "@jupyter-widgets/base",
            "_model_module_version": "1.2.0",
            "_model_name": "LayoutModel",
            "_view_count": null,
            "_view_module": "@jupyter-widgets/base",
            "_view_module_version": "1.2.0",
            "_view_name": "LayoutView",
            "align_content": null,
            "align_items": null,
            "align_self": null,
            "border": null,
            "bottom": null,
            "display": null,
            "flex": null,
            "flex_flow": null,
            "grid_area": null,
            "grid_auto_columns": null,
            "grid_auto_flow": null,
            "grid_auto_rows": null,
            "grid_column": null,
            "grid_gap": null,
            "grid_row": null,
            "grid_template_areas": null,
            "grid_template_columns": null,
            "grid_template_rows": null,
            "height": null,
            "justify_content": null,
            "justify_items": null,
            "left": null,
            "margin": null,
            "max_height": null,
            "max_width": null,
            "min_height": null,
            "min_width": null,
            "object_fit": null,
            "object_position": null,
            "order": null,
            "overflow": null,
            "overflow_x": null,
            "overflow_y": null,
            "padding": null,
            "right": null,
            "top": null,
            "visibility": null,
            "width": null
          }
        },
        "b1a4cb7de76f43b794342165a8e6afc7": {
          "model_module": "@jupyter-widgets/controls",
          "model_name": "DescriptionStyleModel",
          "model_module_version": "1.5.0",
          "state": {
            "_model_module": "@jupyter-widgets/controls",
            "_model_module_version": "1.5.0",
            "_model_name": "DescriptionStyleModel",
            "_view_count": null,
            "_view_module": "@jupyter-widgets/base",
            "_view_module_version": "1.2.0",
            "_view_name": "StyleView",
            "description_width": ""
          }
        },
        "54412a3d63224204ad95c3ae08c0584a": {
          "model_module": "@jupyter-widgets/base",
          "model_name": "LayoutModel",
          "model_module_version": "1.2.0",
          "state": {
            "_model_module": "@jupyter-widgets/base",
            "_model_module_version": "1.2.0",
            "_model_name": "LayoutModel",
            "_view_count": null,
            "_view_module": "@jupyter-widgets/base",
            "_view_module_version": "1.2.0",
            "_view_name": "LayoutView",
            "align_content": null,
            "align_items": null,
            "align_self": null,
            "border": null,
            "bottom": null,
            "display": null,
            "flex": null,
            "flex_flow": null,
            "grid_area": null,
            "grid_auto_columns": null,
            "grid_auto_flow": null,
            "grid_auto_rows": null,
            "grid_column": null,
            "grid_gap": null,
            "grid_row": null,
            "grid_template_areas": null,
            "grid_template_columns": null,
            "grid_template_rows": null,
            "height": null,
            "justify_content": null,
            "justify_items": null,
            "left": null,
            "margin": null,
            "max_height": null,
            "max_width": null,
            "min_height": null,
            "min_width": null,
            "object_fit": null,
            "object_position": null,
            "order": null,
            "overflow": null,
            "overflow_x": null,
            "overflow_y": null,
            "padding": null,
            "right": null,
            "top": null,
            "visibility": null,
            "width": null
          }
        },
        "c7a747b135264256a4e8d35389ebf6f8": {
          "model_module": "@jupyter-widgets/controls",
          "model_name": "ProgressStyleModel",
          "model_module_version": "1.5.0",
          "state": {
            "_model_module": "@jupyter-widgets/controls",
            "_model_module_version": "1.5.0",
            "_model_name": "ProgressStyleModel",
            "_view_count": null,
            "_view_module": "@jupyter-widgets/base",
            "_view_module_version": "1.2.0",
            "_view_name": "StyleView",
            "bar_color": null,
            "description_width": ""
          }
        },
        "9e06a65182c14889825d7c2157badf99": {
          "model_module": "@jupyter-widgets/base",
          "model_name": "LayoutModel",
          "model_module_version": "1.2.0",
          "state": {
            "_model_module": "@jupyter-widgets/base",
            "_model_module_version": "1.2.0",
            "_model_name": "LayoutModel",
            "_view_count": null,
            "_view_module": "@jupyter-widgets/base",
            "_view_module_version": "1.2.0",
            "_view_name": "LayoutView",
            "align_content": null,
            "align_items": null,
            "align_self": null,
            "border": null,
            "bottom": null,
            "display": null,
            "flex": null,
            "flex_flow": null,
            "grid_area": null,
            "grid_auto_columns": null,
            "grid_auto_flow": null,
            "grid_auto_rows": null,
            "grid_column": null,
            "grid_gap": null,
            "grid_row": null,
            "grid_template_areas": null,
            "grid_template_columns": null,
            "grid_template_rows": null,
            "height": null,
            "justify_content": null,
            "justify_items": null,
            "left": null,
            "margin": null,
            "max_height": null,
            "max_width": null,
            "min_height": null,
            "min_width": null,
            "object_fit": null,
            "object_position": null,
            "order": null,
            "overflow": null,
            "overflow_x": null,
            "overflow_y": null,
            "padding": null,
            "right": null,
            "top": null,
            "visibility": null,
            "width": null
          }
        },
        "7b2c7a54e99645e689e36d60be92ccac": {
          "model_module": "@jupyter-widgets/controls",
          "model_name": "DescriptionStyleModel",
          "model_module_version": "1.5.0",
          "state": {
            "_model_module": "@jupyter-widgets/controls",
            "_model_module_version": "1.5.0",
            "_model_name": "DescriptionStyleModel",
            "_view_count": null,
            "_view_module": "@jupyter-widgets/base",
            "_view_module_version": "1.2.0",
            "_view_name": "StyleView",
            "description_width": ""
          }
        },
        "23739e185a0b4ced8c6e2deb37076089": {
          "model_module": "@jupyter-widgets/controls",
          "model_name": "HBoxModel",
          "model_module_version": "1.5.0",
          "state": {
            "_dom_classes": [],
            "_model_module": "@jupyter-widgets/controls",
            "_model_module_version": "1.5.0",
            "_model_name": "HBoxModel",
            "_view_count": null,
            "_view_module": "@jupyter-widgets/controls",
            "_view_module_version": "1.5.0",
            "_view_name": "HBoxView",
            "box_style": "",
            "children": [
              "IPY_MODEL_484e5b614dfe4e7cbaba316ce3ebf975",
              "IPY_MODEL_836065283be64f228be9da2f4ee3d98b",
              "IPY_MODEL_3b92925ec2a74e3db5063598212a0e15"
            ],
            "layout": "IPY_MODEL_41e3f1d6d89b4de1b680261a3b47b14d"
          }
        },
        "484e5b614dfe4e7cbaba316ce3ebf975": {
          "model_module": "@jupyter-widgets/controls",
          "model_name": "HTMLModel",
          "model_module_version": "1.5.0",
          "state": {
            "_dom_classes": [],
            "_model_module": "@jupyter-widgets/controls",
            "_model_module_version": "1.5.0",
            "_model_name": "HTMLModel",
            "_view_count": null,
            "_view_module": "@jupyter-widgets/controls",
            "_view_module_version": "1.5.0",
            "_view_name": "HTMLView",
            "description": "",
            "description_tooltip": null,
            "layout": "IPY_MODEL_d641bfef0d054a07a10f9802865aad52",
            "placeholder": "​",
            "style": "IPY_MODEL_a18764e899454ac79c2a968785c7a1d8",
            "value": "Downloading: 100%"
          }
        },
        "836065283be64f228be9da2f4ee3d98b": {
          "model_module": "@jupyter-widgets/controls",
          "model_name": "FloatProgressModel",
          "model_module_version": "1.5.0",
          "state": {
            "_dom_classes": [],
            "_model_module": "@jupyter-widgets/controls",
            "_model_module_version": "1.5.0",
            "_model_name": "FloatProgressModel",
            "_view_count": null,
            "_view_module": "@jupyter-widgets/controls",
            "_view_module_version": "1.5.0",
            "_view_name": "ProgressView",
            "bar_style": "success",
            "description": "",
            "description_tooltip": null,
            "layout": "IPY_MODEL_2fd11e7a928c4df082619ad0b9e6b18e",
            "max": 112,
            "min": 0,
            "orientation": "horizontal",
            "style": "IPY_MODEL_c91fc375b06f44a989c57b362ef3c884",
            "value": 112
          }
        },
        "3b92925ec2a74e3db5063598212a0e15": {
          "model_module": "@jupyter-widgets/controls",
          "model_name": "HTMLModel",
          "model_module_version": "1.5.0",
          "state": {
            "_dom_classes": [],
            "_model_module": "@jupyter-widgets/controls",
            "_model_module_version": "1.5.0",
            "_model_name": "HTMLModel",
            "_view_count": null,
            "_view_module": "@jupyter-widgets/controls",
            "_view_module_version": "1.5.0",
            "_view_name": "HTMLView",
            "description": "",
            "description_tooltip": null,
            "layout": "IPY_MODEL_050c8c82cabd4bb19124e095f48ec7af",
            "placeholder": "​",
            "style": "IPY_MODEL_f733f7ea92054a4cbefc5508b959abaf",
            "value": " 112/112 [00:00&lt;00:00, 1.25kB/s]"
          }
        },
        "41e3f1d6d89b4de1b680261a3b47b14d": {
          "model_module": "@jupyter-widgets/base",
          "model_name": "LayoutModel",
          "model_module_version": "1.2.0",
          "state": {
            "_model_module": "@jupyter-widgets/base",
            "_model_module_version": "1.2.0",
            "_model_name": "LayoutModel",
            "_view_count": null,
            "_view_module": "@jupyter-widgets/base",
            "_view_module_version": "1.2.0",
            "_view_name": "LayoutView",
            "align_content": null,
            "align_items": null,
            "align_self": null,
            "border": null,
            "bottom": null,
            "display": null,
            "flex": null,
            "flex_flow": null,
            "grid_area": null,
            "grid_auto_columns": null,
            "grid_auto_flow": null,
            "grid_auto_rows": null,
            "grid_column": null,
            "grid_gap": null,
            "grid_row": null,
            "grid_template_areas": null,
            "grid_template_columns": null,
            "grid_template_rows": null,
            "height": null,
            "justify_content": null,
            "justify_items": null,
            "left": null,
            "margin": null,
            "max_height": null,
            "max_width": null,
            "min_height": null,
            "min_width": null,
            "object_fit": null,
            "object_position": null,
            "order": null,
            "overflow": null,
            "overflow_x": null,
            "overflow_y": null,
            "padding": null,
            "right": null,
            "top": null,
            "visibility": null,
            "width": null
          }
        },
        "d641bfef0d054a07a10f9802865aad52": {
          "model_module": "@jupyter-widgets/base",
          "model_name": "LayoutModel",
          "model_module_version": "1.2.0",
          "state": {
            "_model_module": "@jupyter-widgets/base",
            "_model_module_version": "1.2.0",
            "_model_name": "LayoutModel",
            "_view_count": null,
            "_view_module": "@jupyter-widgets/base",
            "_view_module_version": "1.2.0",
            "_view_name": "LayoutView",
            "align_content": null,
            "align_items": null,
            "align_self": null,
            "border": null,
            "bottom": null,
            "display": null,
            "flex": null,
            "flex_flow": null,
            "grid_area": null,
            "grid_auto_columns": null,
            "grid_auto_flow": null,
            "grid_auto_rows": null,
            "grid_column": null,
            "grid_gap": null,
            "grid_row": null,
            "grid_template_areas": null,
            "grid_template_columns": null,
            "grid_template_rows": null,
            "height": null,
            "justify_content": null,
            "justify_items": null,
            "left": null,
            "margin": null,
            "max_height": null,
            "max_width": null,
            "min_height": null,
            "min_width": null,
            "object_fit": null,
            "object_position": null,
            "order": null,
            "overflow": null,
            "overflow_x": null,
            "overflow_y": null,
            "padding": null,
            "right": null,
            "top": null,
            "visibility": null,
            "width": null
          }
        },
        "a18764e899454ac79c2a968785c7a1d8": {
          "model_module": "@jupyter-widgets/controls",
          "model_name": "DescriptionStyleModel",
          "model_module_version": "1.5.0",
          "state": {
            "_model_module": "@jupyter-widgets/controls",
            "_model_module_version": "1.5.0",
            "_model_name": "DescriptionStyleModel",
            "_view_count": null,
            "_view_module": "@jupyter-widgets/base",
            "_view_module_version": "1.2.0",
            "_view_name": "StyleView",
            "description_width": ""
          }
        },
        "2fd11e7a928c4df082619ad0b9e6b18e": {
          "model_module": "@jupyter-widgets/base",
          "model_name": "LayoutModel",
          "model_module_version": "1.2.0",
          "state": {
            "_model_module": "@jupyter-widgets/base",
            "_model_module_version": "1.2.0",
            "_model_name": "LayoutModel",
            "_view_count": null,
            "_view_module": "@jupyter-widgets/base",
            "_view_module_version": "1.2.0",
            "_view_name": "LayoutView",
            "align_content": null,
            "align_items": null,
            "align_self": null,
            "border": null,
            "bottom": null,
            "display": null,
            "flex": null,
            "flex_flow": null,
            "grid_area": null,
            "grid_auto_columns": null,
            "grid_auto_flow": null,
            "grid_auto_rows": null,
            "grid_column": null,
            "grid_gap": null,
            "grid_row": null,
            "grid_template_areas": null,
            "grid_template_columns": null,
            "grid_template_rows": null,
            "height": null,
            "justify_content": null,
            "justify_items": null,
            "left": null,
            "margin": null,
            "max_height": null,
            "max_width": null,
            "min_height": null,
            "min_width": null,
            "object_fit": null,
            "object_position": null,
            "order": null,
            "overflow": null,
            "overflow_x": null,
            "overflow_y": null,
            "padding": null,
            "right": null,
            "top": null,
            "visibility": null,
            "width": null
          }
        },
        "c91fc375b06f44a989c57b362ef3c884": {
          "model_module": "@jupyter-widgets/controls",
          "model_name": "ProgressStyleModel",
          "model_module_version": "1.5.0",
          "state": {
            "_model_module": "@jupyter-widgets/controls",
            "_model_module_version": "1.5.0",
            "_model_name": "ProgressStyleModel",
            "_view_count": null,
            "_view_module": "@jupyter-widgets/base",
            "_view_module_version": "1.2.0",
            "_view_name": "StyleView",
            "bar_color": null,
            "description_width": ""
          }
        },
        "050c8c82cabd4bb19124e095f48ec7af": {
          "model_module": "@jupyter-widgets/base",
          "model_name": "LayoutModel",
          "model_module_version": "1.2.0",
          "state": {
            "_model_module": "@jupyter-widgets/base",
            "_model_module_version": "1.2.0",
            "_model_name": "LayoutModel",
            "_view_count": null,
            "_view_module": "@jupyter-widgets/base",
            "_view_module_version": "1.2.0",
            "_view_name": "LayoutView",
            "align_content": null,
            "align_items": null,
            "align_self": null,
            "border": null,
            "bottom": null,
            "display": null,
            "flex": null,
            "flex_flow": null,
            "grid_area": null,
            "grid_auto_columns": null,
            "grid_auto_flow": null,
            "grid_auto_rows": null,
            "grid_column": null,
            "grid_gap": null,
            "grid_row": null,
            "grid_template_areas": null,
            "grid_template_columns": null,
            "grid_template_rows": null,
            "height": null,
            "justify_content": null,
            "justify_items": null,
            "left": null,
            "margin": null,
            "max_height": null,
            "max_width": null,
            "min_height": null,
            "min_width": null,
            "object_fit": null,
            "object_position": null,
            "order": null,
            "overflow": null,
            "overflow_x": null,
            "overflow_y": null,
            "padding": null,
            "right": null,
            "top": null,
            "visibility": null,
            "width": null
          }
        },
        "f733f7ea92054a4cbefc5508b959abaf": {
          "model_module": "@jupyter-widgets/controls",
          "model_name": "DescriptionStyleModel",
          "model_module_version": "1.5.0",
          "state": {
            "_model_module": "@jupyter-widgets/controls",
            "_model_module_version": "1.5.0",
            "_model_name": "DescriptionStyleModel",
            "_view_count": null,
            "_view_module": "@jupyter-widgets/base",
            "_view_module_version": "1.2.0",
            "_view_name": "StyleView",
            "description_width": ""
          }
        },
        "3c1db604adde4cd38a068559e7023f25": {
          "model_module": "@jupyter-widgets/controls",
          "model_name": "HBoxModel",
          "model_module_version": "1.5.0",
          "state": {
            "_dom_classes": [],
            "_model_module": "@jupyter-widgets/controls",
            "_model_module_version": "1.5.0",
            "_model_name": "HBoxModel",
            "_view_count": null,
            "_view_module": "@jupyter-widgets/controls",
            "_view_module_version": "1.5.0",
            "_view_name": "HBoxView",
            "box_style": "",
            "children": [
              "IPY_MODEL_b6e50293ecfc4feb85002d13eac80497",
              "IPY_MODEL_12bb1f48e20d4ee78e7d3240a9858f30",
              "IPY_MODEL_c9de047076294631b726871fc0450aa7"
            ],
            "layout": "IPY_MODEL_be0b24841a1e4f7dab7a78c4846bf691"
          }
        },
        "b6e50293ecfc4feb85002d13eac80497": {
          "model_module": "@jupyter-widgets/controls",
          "model_name": "HTMLModel",
          "model_module_version": "1.5.0",
          "state": {
            "_dom_classes": [],
            "_model_module": "@jupyter-widgets/controls",
            "_model_module_version": "1.5.0",
            "_model_name": "HTMLModel",
            "_view_count": null,
            "_view_module": "@jupyter-widgets/controls",
            "_view_module_version": "1.5.0",
            "_view_name": "HTMLView",
            "description": "",
            "description_tooltip": null,
            "layout": "IPY_MODEL_0a13412f19164f4cbaf9ac1c23ec4a8a",
            "placeholder": "​",
            "style": "IPY_MODEL_6e318195997f47dca94737848a0e1fb8",
            "value": "Downloading: 100%"
          }
        },
        "12bb1f48e20d4ee78e7d3240a9858f30": {
          "model_module": "@jupyter-widgets/controls",
          "model_name": "FloatProgressModel",
          "model_module_version": "1.5.0",
          "state": {
            "_dom_classes": [],
            "_model_module": "@jupyter-widgets/controls",
            "_model_module_version": "1.5.0",
            "_model_name": "FloatProgressModel",
            "_view_count": null,
            "_view_module": "@jupyter-widgets/controls",
            "_view_module_version": "1.5.0",
            "_view_name": "ProgressView",
            "bar_style": "success",
            "description": "",
            "description_tooltip": null,
            "layout": "IPY_MODEL_c95820012bc84f299bf80d8cebbffa67",
            "max": 711506441,
            "min": 0,
            "orientation": "horizontal",
            "style": "IPY_MODEL_60dabfd05e2640a3908ab1b2cd07032d",
            "value": 711506441
          }
        },
        "c9de047076294631b726871fc0450aa7": {
          "model_module": "@jupyter-widgets/controls",
          "model_name": "HTMLModel",
          "model_module_version": "1.5.0",
          "state": {
            "_dom_classes": [],
            "_model_module": "@jupyter-widgets/controls",
            "_model_module_version": "1.5.0",
            "_model_name": "HTMLModel",
            "_view_count": null,
            "_view_module": "@jupyter-widgets/controls",
            "_view_module_version": "1.5.0",
            "_view_name": "HTMLView",
            "description": "",
            "description_tooltip": null,
            "layout": "IPY_MODEL_b2aca99c4b9b4c9ba4dc4d74388a12d7",
            "placeholder": "​",
            "style": "IPY_MODEL_6a89f726a5da47909c55beb5daf48254",
            "value": " 679M/679M [00:42&lt;00:00, 22.1MB/s]"
          }
        },
        "be0b24841a1e4f7dab7a78c4846bf691": {
          "model_module": "@jupyter-widgets/base",
          "model_name": "LayoutModel",
          "model_module_version": "1.2.0",
          "state": {
            "_model_module": "@jupyter-widgets/base",
            "_model_module_version": "1.2.0",
            "_model_name": "LayoutModel",
            "_view_count": null,
            "_view_module": "@jupyter-widgets/base",
            "_view_module_version": "1.2.0",
            "_view_name": "LayoutView",
            "align_content": null,
            "align_items": null,
            "align_self": null,
            "border": null,
            "bottom": null,
            "display": null,
            "flex": null,
            "flex_flow": null,
            "grid_area": null,
            "grid_auto_columns": null,
            "grid_auto_flow": null,
            "grid_auto_rows": null,
            "grid_column": null,
            "grid_gap": null,
            "grid_row": null,
            "grid_template_areas": null,
            "grid_template_columns": null,
            "grid_template_rows": null,
            "height": null,
            "justify_content": null,
            "justify_items": null,
            "left": null,
            "margin": null,
            "max_height": null,
            "max_width": null,
            "min_height": null,
            "min_width": null,
            "object_fit": null,
            "object_position": null,
            "order": null,
            "overflow": null,
            "overflow_x": null,
            "overflow_y": null,
            "padding": null,
            "right": null,
            "top": null,
            "visibility": null,
            "width": null
          }
        },
        "0a13412f19164f4cbaf9ac1c23ec4a8a": {
          "model_module": "@jupyter-widgets/base",
          "model_name": "LayoutModel",
          "model_module_version": "1.2.0",
          "state": {
            "_model_module": "@jupyter-widgets/base",
            "_model_module_version": "1.2.0",
            "_model_name": "LayoutModel",
            "_view_count": null,
            "_view_module": "@jupyter-widgets/base",
            "_view_module_version": "1.2.0",
            "_view_name": "LayoutView",
            "align_content": null,
            "align_items": null,
            "align_self": null,
            "border": null,
            "bottom": null,
            "display": null,
            "flex": null,
            "flex_flow": null,
            "grid_area": null,
            "grid_auto_columns": null,
            "grid_auto_flow": null,
            "grid_auto_rows": null,
            "grid_column": null,
            "grid_gap": null,
            "grid_row": null,
            "grid_template_areas": null,
            "grid_template_columns": null,
            "grid_template_rows": null,
            "height": null,
            "justify_content": null,
            "justify_items": null,
            "left": null,
            "margin": null,
            "max_height": null,
            "max_width": null,
            "min_height": null,
            "min_width": null,
            "object_fit": null,
            "object_position": null,
            "order": null,
            "overflow": null,
            "overflow_x": null,
            "overflow_y": null,
            "padding": null,
            "right": null,
            "top": null,
            "visibility": null,
            "width": null
          }
        },
        "6e318195997f47dca94737848a0e1fb8": {
          "model_module": "@jupyter-widgets/controls",
          "model_name": "DescriptionStyleModel",
          "model_module_version": "1.5.0",
          "state": {
            "_model_module": "@jupyter-widgets/controls",
            "_model_module_version": "1.5.0",
            "_model_name": "DescriptionStyleModel",
            "_view_count": null,
            "_view_module": "@jupyter-widgets/base",
            "_view_module_version": "1.2.0",
            "_view_name": "StyleView",
            "description_width": ""
          }
        },
        "c95820012bc84f299bf80d8cebbffa67": {
          "model_module": "@jupyter-widgets/base",
          "model_name": "LayoutModel",
          "model_module_version": "1.2.0",
          "state": {
            "_model_module": "@jupyter-widgets/base",
            "_model_module_version": "1.2.0",
            "_model_name": "LayoutModel",
            "_view_count": null,
            "_view_module": "@jupyter-widgets/base",
            "_view_module_version": "1.2.0",
            "_view_name": "LayoutView",
            "align_content": null,
            "align_items": null,
            "align_self": null,
            "border": null,
            "bottom": null,
            "display": null,
            "flex": null,
            "flex_flow": null,
            "grid_area": null,
            "grid_auto_columns": null,
            "grid_auto_flow": null,
            "grid_auto_rows": null,
            "grid_column": null,
            "grid_gap": null,
            "grid_row": null,
            "grid_template_areas": null,
            "grid_template_columns": null,
            "grid_template_rows": null,
            "height": null,
            "justify_content": null,
            "justify_items": null,
            "left": null,
            "margin": null,
            "max_height": null,
            "max_width": null,
            "min_height": null,
            "min_width": null,
            "object_fit": null,
            "object_position": null,
            "order": null,
            "overflow": null,
            "overflow_x": null,
            "overflow_y": null,
            "padding": null,
            "right": null,
            "top": null,
            "visibility": null,
            "width": null
          }
        },
        "60dabfd05e2640a3908ab1b2cd07032d": {
          "model_module": "@jupyter-widgets/controls",
          "model_name": "ProgressStyleModel",
          "model_module_version": "1.5.0",
          "state": {
            "_model_module": "@jupyter-widgets/controls",
            "_model_module_version": "1.5.0",
            "_model_name": "ProgressStyleModel",
            "_view_count": null,
            "_view_module": "@jupyter-widgets/base",
            "_view_module_version": "1.2.0",
            "_view_name": "StyleView",
            "bar_color": null,
            "description_width": ""
          }
        },
        "b2aca99c4b9b4c9ba4dc4d74388a12d7": {
          "model_module": "@jupyter-widgets/base",
          "model_name": "LayoutModel",
          "model_module_version": "1.2.0",
          "state": {
            "_model_module": "@jupyter-widgets/base",
            "_model_module_version": "1.2.0",
            "_model_name": "LayoutModel",
            "_view_count": null,
            "_view_module": "@jupyter-widgets/base",
            "_view_module_version": "1.2.0",
            "_view_name": "LayoutView",
            "align_content": null,
            "align_items": null,
            "align_self": null,
            "border": null,
            "bottom": null,
            "display": null,
            "flex": null,
            "flex_flow": null,
            "grid_area": null,
            "grid_auto_columns": null,
            "grid_auto_flow": null,
            "grid_auto_rows": null,
            "grid_column": null,
            "grid_gap": null,
            "grid_row": null,
            "grid_template_areas": null,
            "grid_template_columns": null,
            "grid_template_rows": null,
            "height": null,
            "justify_content": null,
            "justify_items": null,
            "left": null,
            "margin": null,
            "max_height": null,
            "max_width": null,
            "min_height": null,
            "min_width": null,
            "object_fit": null,
            "object_position": null,
            "order": null,
            "overflow": null,
            "overflow_x": null,
            "overflow_y": null,
            "padding": null,
            "right": null,
            "top": null,
            "visibility": null,
            "width": null
          }
        },
        "6a89f726a5da47909c55beb5daf48254": {
          "model_module": "@jupyter-widgets/controls",
          "model_name": "DescriptionStyleModel",
          "model_module_version": "1.5.0",
          "state": {
            "_model_module": "@jupyter-widgets/controls",
            "_model_module_version": "1.5.0",
            "_model_name": "DescriptionStyleModel",
            "_view_count": null,
            "_view_module": "@jupyter-widgets/base",
            "_view_module_version": "1.2.0",
            "_view_name": "StyleView",
            "description_width": ""
          }
        },
        "d16346fb9ce44f5db30d997fbdcefbfa": {
          "model_module": "@jupyter-widgets/controls",
          "model_name": "HBoxModel",
          "model_module_version": "1.5.0",
          "state": {
            "_dom_classes": [],
            "_model_module": "@jupyter-widgets/controls",
            "_model_module_version": "1.5.0",
            "_model_name": "HBoxModel",
            "_view_count": null,
            "_view_module": "@jupyter-widgets/controls",
            "_view_module_version": "1.5.0",
            "_view_name": "HBoxView",
            "box_style": "",
            "children": [
              "IPY_MODEL_4b0c6f5099eb4409af254e86e67bc9da",
              "IPY_MODEL_a2321d0df54b4a958e3f913c067b21e7",
              "IPY_MODEL_8ca9cbb266f84739b4736405f8888904"
            ],
            "layout": "IPY_MODEL_991fa1b65f414f6ba82c235da7ef26dd"
          }
        },
        "4b0c6f5099eb4409af254e86e67bc9da": {
          "model_module": "@jupyter-widgets/controls",
          "model_name": "HTMLModel",
          "model_module_version": "1.5.0",
          "state": {
            "_dom_classes": [],
            "_model_module": "@jupyter-widgets/controls",
            "_model_module_version": "1.5.0",
            "_model_name": "HTMLModel",
            "_view_count": null,
            "_view_module": "@jupyter-widgets/controls",
            "_view_module_version": "1.5.0",
            "_view_name": "HTMLView",
            "description": "",
            "description_tooltip": null,
            "layout": "IPY_MODEL_706317b222fe4ba0a4321a8be62e2dde",
            "placeholder": "​",
            "style": "IPY_MODEL_a16f0b2a93d94c84a248013fadf58e47",
            "value": "Downloading: 100%"
          }
        },
        "a2321d0df54b4a958e3f913c067b21e7": {
          "model_module": "@jupyter-widgets/controls",
          "model_name": "FloatProgressModel",
          "model_module_version": "1.5.0",
          "state": {
            "_dom_classes": [],
            "_model_module": "@jupyter-widgets/controls",
            "_model_module_version": "1.5.0",
            "_model_name": "FloatProgressModel",
            "_view_count": null,
            "_view_module": "@jupyter-widgets/controls",
            "_view_module_version": "1.5.0",
            "_view_name": "ProgressView",
            "bar_style": "success",
            "description": "",
            "description_tooltip": null,
            "layout": "IPY_MODEL_e0b3c1f7c64d4bd98cf5ed272bd65066",
            "max": 377,
            "min": 0,
            "orientation": "horizontal",
            "style": "IPY_MODEL_a88168408cac4c249e59554e34210831",
            "value": 377
          }
        },
        "8ca9cbb266f84739b4736405f8888904": {
          "model_module": "@jupyter-widgets/controls",
          "model_name": "HTMLModel",
          "model_module_version": "1.5.0",
          "state": {
            "_dom_classes": [],
            "_model_module": "@jupyter-widgets/controls",
            "_model_module_version": "1.5.0",
            "_model_name": "HTMLModel",
            "_view_count": null,
            "_view_module": "@jupyter-widgets/controls",
            "_view_module_version": "1.5.0",
            "_view_name": "HTMLView",
            "description": "",
            "description_tooltip": null,
            "layout": "IPY_MODEL_a00c9a9fd3a34989a7cb67ba7c3daf02",
            "placeholder": "​",
            "style": "IPY_MODEL_fcd95c0920c644799c2671ed19336314",
            "value": " 377/377 [00:00&lt;00:00, 10.9kB/s]"
          }
        },
        "991fa1b65f414f6ba82c235da7ef26dd": {
          "model_module": "@jupyter-widgets/base",
          "model_name": "LayoutModel",
          "model_module_version": "1.2.0",
          "state": {
            "_model_module": "@jupyter-widgets/base",
            "_model_module_version": "1.2.0",
            "_model_name": "LayoutModel",
            "_view_count": null,
            "_view_module": "@jupyter-widgets/base",
            "_view_module_version": "1.2.0",
            "_view_name": "LayoutView",
            "align_content": null,
            "align_items": null,
            "align_self": null,
            "border": null,
            "bottom": null,
            "display": null,
            "flex": null,
            "flex_flow": null,
            "grid_area": null,
            "grid_auto_columns": null,
            "grid_auto_flow": null,
            "grid_auto_rows": null,
            "grid_column": null,
            "grid_gap": null,
            "grid_row": null,
            "grid_template_areas": null,
            "grid_template_columns": null,
            "grid_template_rows": null,
            "height": null,
            "justify_content": null,
            "justify_items": null,
            "left": null,
            "margin": null,
            "max_height": null,
            "max_width": null,
            "min_height": null,
            "min_width": null,
            "object_fit": null,
            "object_position": null,
            "order": null,
            "overflow": null,
            "overflow_x": null,
            "overflow_y": null,
            "padding": null,
            "right": null,
            "top": null,
            "visibility": null,
            "width": null
          }
        },
        "706317b222fe4ba0a4321a8be62e2dde": {
          "model_module": "@jupyter-widgets/base",
          "model_name": "LayoutModel",
          "model_module_version": "1.2.0",
          "state": {
            "_model_module": "@jupyter-widgets/base",
            "_model_module_version": "1.2.0",
            "_model_name": "LayoutModel",
            "_view_count": null,
            "_view_module": "@jupyter-widgets/base",
            "_view_module_version": "1.2.0",
            "_view_name": "LayoutView",
            "align_content": null,
            "align_items": null,
            "align_self": null,
            "border": null,
            "bottom": null,
            "display": null,
            "flex": null,
            "flex_flow": null,
            "grid_area": null,
            "grid_auto_columns": null,
            "grid_auto_flow": null,
            "grid_auto_rows": null,
            "grid_column": null,
            "grid_gap": null,
            "grid_row": null,
            "grid_template_areas": null,
            "grid_template_columns": null,
            "grid_template_rows": null,
            "height": null,
            "justify_content": null,
            "justify_items": null,
            "left": null,
            "margin": null,
            "max_height": null,
            "max_width": null,
            "min_height": null,
            "min_width": null,
            "object_fit": null,
            "object_position": null,
            "order": null,
            "overflow": null,
            "overflow_x": null,
            "overflow_y": null,
            "padding": null,
            "right": null,
            "top": null,
            "visibility": null,
            "width": null
          }
        },
        "a16f0b2a93d94c84a248013fadf58e47": {
          "model_module": "@jupyter-widgets/controls",
          "model_name": "DescriptionStyleModel",
          "model_module_version": "1.5.0",
          "state": {
            "_model_module": "@jupyter-widgets/controls",
            "_model_module_version": "1.5.0",
            "_model_name": "DescriptionStyleModel",
            "_view_count": null,
            "_view_module": "@jupyter-widgets/base",
            "_view_module_version": "1.2.0",
            "_view_name": "StyleView",
            "description_width": ""
          }
        },
        "e0b3c1f7c64d4bd98cf5ed272bd65066": {
          "model_module": "@jupyter-widgets/base",
          "model_name": "LayoutModel",
          "model_module_version": "1.2.0",
          "state": {
            "_model_module": "@jupyter-widgets/base",
            "_model_module_version": "1.2.0",
            "_model_name": "LayoutModel",
            "_view_count": null,
            "_view_module": "@jupyter-widgets/base",
            "_view_module_version": "1.2.0",
            "_view_name": "LayoutView",
            "align_content": null,
            "align_items": null,
            "align_self": null,
            "border": null,
            "bottom": null,
            "display": null,
            "flex": null,
            "flex_flow": null,
            "grid_area": null,
            "grid_auto_columns": null,
            "grid_auto_flow": null,
            "grid_auto_rows": null,
            "grid_column": null,
            "grid_gap": null,
            "grid_row": null,
            "grid_template_areas": null,
            "grid_template_columns": null,
            "grid_template_rows": null,
            "height": null,
            "justify_content": null,
            "justify_items": null,
            "left": null,
            "margin": null,
            "max_height": null,
            "max_width": null,
            "min_height": null,
            "min_width": null,
            "object_fit": null,
            "object_position": null,
            "order": null,
            "overflow": null,
            "overflow_x": null,
            "overflow_y": null,
            "padding": null,
            "right": null,
            "top": null,
            "visibility": null,
            "width": null
          }
        },
        "a88168408cac4c249e59554e34210831": {
          "model_module": "@jupyter-widgets/controls",
          "model_name": "ProgressStyleModel",
          "model_module_version": "1.5.0",
          "state": {
            "_model_module": "@jupyter-widgets/controls",
            "_model_module_version": "1.5.0",
            "_model_name": "ProgressStyleModel",
            "_view_count": null,
            "_view_module": "@jupyter-widgets/base",
            "_view_module_version": "1.2.0",
            "_view_name": "StyleView",
            "bar_color": null,
            "description_width": ""
          }
        },
        "a00c9a9fd3a34989a7cb67ba7c3daf02": {
          "model_module": "@jupyter-widgets/base",
          "model_name": "LayoutModel",
          "model_module_version": "1.2.0",
          "state": {
            "_model_module": "@jupyter-widgets/base",
            "_model_module_version": "1.2.0",
            "_model_name": "LayoutModel",
            "_view_count": null,
            "_view_module": "@jupyter-widgets/base",
            "_view_module_version": "1.2.0",
            "_view_name": "LayoutView",
            "align_content": null,
            "align_items": null,
            "align_self": null,
            "border": null,
            "bottom": null,
            "display": null,
            "flex": null,
            "flex_flow": null,
            "grid_area": null,
            "grid_auto_columns": null,
            "grid_auto_flow": null,
            "grid_auto_rows": null,
            "grid_column": null,
            "grid_gap": null,
            "grid_row": null,
            "grid_template_areas": null,
            "grid_template_columns": null,
            "grid_template_rows": null,
            "height": null,
            "justify_content": null,
            "justify_items": null,
            "left": null,
            "margin": null,
            "max_height": null,
            "max_width": null,
            "min_height": null,
            "min_width": null,
            "object_fit": null,
            "object_position": null,
            "order": null,
            "overflow": null,
            "overflow_x": null,
            "overflow_y": null,
            "padding": null,
            "right": null,
            "top": null,
            "visibility": null,
            "width": null
          }
        },
        "fcd95c0920c644799c2671ed19336314": {
          "model_module": "@jupyter-widgets/controls",
          "model_name": "DescriptionStyleModel",
          "model_module_version": "1.5.0",
          "state": {
            "_model_module": "@jupyter-widgets/controls",
            "_model_module_version": "1.5.0",
            "_model_name": "DescriptionStyleModel",
            "_view_count": null,
            "_view_module": "@jupyter-widgets/base",
            "_view_module_version": "1.2.0",
            "_view_name": "StyleView",
            "description_width": ""
          }
        },
        "e5aa58c86c8747bdb840e9a9d01e98df": {
          "model_module": "@jupyter-widgets/controls",
          "model_name": "HBoxModel",
          "model_module_version": "1.5.0",
          "state": {
            "_dom_classes": [],
            "_model_module": "@jupyter-widgets/controls",
            "_model_module_version": "1.5.0",
            "_model_name": "HBoxModel",
            "_view_count": null,
            "_view_module": "@jupyter-widgets/controls",
            "_view_module_version": "1.5.0",
            "_view_name": "HBoxView",
            "box_style": "",
            "children": [
              "IPY_MODEL_5c49cb207e8d424e99af8ede5bccb9b6",
              "IPY_MODEL_62c148276a6c462b97919973d0266038",
              "IPY_MODEL_c3720d8ec1604e6c84bbfed2bfc78f15"
            ],
            "layout": "IPY_MODEL_534380933729404986261fd01edf8d0c"
          }
        },
        "5c49cb207e8d424e99af8ede5bccb9b6": {
          "model_module": "@jupyter-widgets/controls",
          "model_name": "HTMLModel",
          "model_module_version": "1.5.0",
          "state": {
            "_dom_classes": [],
            "_model_module": "@jupyter-widgets/controls",
            "_model_module_version": "1.5.0",
            "_model_name": "HTMLModel",
            "_view_count": null,
            "_view_module": "@jupyter-widgets/controls",
            "_view_module_version": "1.5.0",
            "_view_name": "HTMLView",
            "description": "",
            "description_tooltip": null,
            "layout": "IPY_MODEL_564d3143624f4b7cb9cd5ef5eb08de78",
            "placeholder": "​",
            "style": "IPY_MODEL_1df6182f20f94bd485d6dcb3ca9799a6",
            "value": "Downloading: 100%"
          }
        },
        "62c148276a6c462b97919973d0266038": {
          "model_module": "@jupyter-widgets/controls",
          "model_name": "FloatProgressModel",
          "model_module_version": "1.5.0",
          "state": {
            "_dom_classes": [],
            "_model_module": "@jupyter-widgets/controls",
            "_model_module_version": "1.5.0",
            "_model_name": "FloatProgressModel",
            "_view_count": null,
            "_view_module": "@jupyter-widgets/controls",
            "_view_module_version": "1.5.0",
            "_view_name": "ProgressView",
            "bar_style": "success",
            "description": "",
            "description_tooltip": null,
            "layout": "IPY_MODEL_f518af93ad2945979f8d3977d0ae8b91",
            "max": 241082,
            "min": 0,
            "orientation": "horizontal",
            "style": "IPY_MODEL_d91a4e47f9c74843971b366e3e50ee2a",
            "value": 241082
          }
        },
        "c3720d8ec1604e6c84bbfed2bfc78f15": {
          "model_module": "@jupyter-widgets/controls",
          "model_name": "HTMLModel",
          "model_module_version": "1.5.0",
          "state": {
            "_dom_classes": [],
            "_model_module": "@jupyter-widgets/controls",
            "_model_module_version": "1.5.0",
            "_model_name": "HTMLModel",
            "_view_count": null,
            "_view_module": "@jupyter-widgets/controls",
            "_view_module_version": "1.5.0",
            "_view_name": "HTMLView",
            "description": "",
            "description_tooltip": null,
            "layout": "IPY_MODEL_f07c9a0375f0435bae7cad610808b62a",
            "placeholder": "​",
            "style": "IPY_MODEL_2d8ab5e0fb9f470090c686253affe91c",
            "value": " 235k/235k [00:00&lt;00:00, 277kB/s]"
          }
        },
        "534380933729404986261fd01edf8d0c": {
          "model_module": "@jupyter-widgets/base",
          "model_name": "LayoutModel",
          "model_module_version": "1.2.0",
          "state": {
            "_model_module": "@jupyter-widgets/base",
            "_model_module_version": "1.2.0",
            "_model_name": "LayoutModel",
            "_view_count": null,
            "_view_module": "@jupyter-widgets/base",
            "_view_module_version": "1.2.0",
            "_view_name": "LayoutView",
            "align_content": null,
            "align_items": null,
            "align_self": null,
            "border": null,
            "bottom": null,
            "display": null,
            "flex": null,
            "flex_flow": null,
            "grid_area": null,
            "grid_auto_columns": null,
            "grid_auto_flow": null,
            "grid_auto_rows": null,
            "grid_column": null,
            "grid_gap": null,
            "grid_row": null,
            "grid_template_areas": null,
            "grid_template_columns": null,
            "grid_template_rows": null,
            "height": null,
            "justify_content": null,
            "justify_items": null,
            "left": null,
            "margin": null,
            "max_height": null,
            "max_width": null,
            "min_height": null,
            "min_width": null,
            "object_fit": null,
            "object_position": null,
            "order": null,
            "overflow": null,
            "overflow_x": null,
            "overflow_y": null,
            "padding": null,
            "right": null,
            "top": null,
            "visibility": null,
            "width": null
          }
        },
        "564d3143624f4b7cb9cd5ef5eb08de78": {
          "model_module": "@jupyter-widgets/base",
          "model_name": "LayoutModel",
          "model_module_version": "1.2.0",
          "state": {
            "_model_module": "@jupyter-widgets/base",
            "_model_module_version": "1.2.0",
            "_model_name": "LayoutModel",
            "_view_count": null,
            "_view_module": "@jupyter-widgets/base",
            "_view_module_version": "1.2.0",
            "_view_name": "LayoutView",
            "align_content": null,
            "align_items": null,
            "align_self": null,
            "border": null,
            "bottom": null,
            "display": null,
            "flex": null,
            "flex_flow": null,
            "grid_area": null,
            "grid_auto_columns": null,
            "grid_auto_flow": null,
            "grid_auto_rows": null,
            "grid_column": null,
            "grid_gap": null,
            "grid_row": null,
            "grid_template_areas": null,
            "grid_template_columns": null,
            "grid_template_rows": null,
            "height": null,
            "justify_content": null,
            "justify_items": null,
            "left": null,
            "margin": null,
            "max_height": null,
            "max_width": null,
            "min_height": null,
            "min_width": null,
            "object_fit": null,
            "object_position": null,
            "order": null,
            "overflow": null,
            "overflow_x": null,
            "overflow_y": null,
            "padding": null,
            "right": null,
            "top": null,
            "visibility": null,
            "width": null
          }
        },
        "1df6182f20f94bd485d6dcb3ca9799a6": {
          "model_module": "@jupyter-widgets/controls",
          "model_name": "DescriptionStyleModel",
          "model_module_version": "1.5.0",
          "state": {
            "_model_module": "@jupyter-widgets/controls",
            "_model_module_version": "1.5.0",
            "_model_name": "DescriptionStyleModel",
            "_view_count": null,
            "_view_module": "@jupyter-widgets/base",
            "_view_module_version": "1.2.0",
            "_view_name": "StyleView",
            "description_width": ""
          }
        },
        "f518af93ad2945979f8d3977d0ae8b91": {
          "model_module": "@jupyter-widgets/base",
          "model_name": "LayoutModel",
          "model_module_version": "1.2.0",
          "state": {
            "_model_module": "@jupyter-widgets/base",
            "_model_module_version": "1.2.0",
            "_model_name": "LayoutModel",
            "_view_count": null,
            "_view_module": "@jupyter-widgets/base",
            "_view_module_version": "1.2.0",
            "_view_name": "LayoutView",
            "align_content": null,
            "align_items": null,
            "align_self": null,
            "border": null,
            "bottom": null,
            "display": null,
            "flex": null,
            "flex_flow": null,
            "grid_area": null,
            "grid_auto_columns": null,
            "grid_auto_flow": null,
            "grid_auto_rows": null,
            "grid_column": null,
            "grid_gap": null,
            "grid_row": null,
            "grid_template_areas": null,
            "grid_template_columns": null,
            "grid_template_rows": null,
            "height": null,
            "justify_content": null,
            "justify_items": null,
            "left": null,
            "margin": null,
            "max_height": null,
            "max_width": null,
            "min_height": null,
            "min_width": null,
            "object_fit": null,
            "object_position": null,
            "order": null,
            "overflow": null,
            "overflow_x": null,
            "overflow_y": null,
            "padding": null,
            "right": null,
            "top": null,
            "visibility": null,
            "width": null
          }
        },
        "d91a4e47f9c74843971b366e3e50ee2a": {
          "model_module": "@jupyter-widgets/controls",
          "model_name": "ProgressStyleModel",
          "model_module_version": "1.5.0",
          "state": {
            "_model_module": "@jupyter-widgets/controls",
            "_model_module_version": "1.5.0",
            "_model_name": "ProgressStyleModel",
            "_view_count": null,
            "_view_module": "@jupyter-widgets/base",
            "_view_module_version": "1.2.0",
            "_view_name": "StyleView",
            "bar_color": null,
            "description_width": ""
          }
        },
        "f07c9a0375f0435bae7cad610808b62a": {
          "model_module": "@jupyter-widgets/base",
          "model_name": "LayoutModel",
          "model_module_version": "1.2.0",
          "state": {
            "_model_module": "@jupyter-widgets/base",
            "_model_module_version": "1.2.0",
            "_model_name": "LayoutModel",
            "_view_count": null,
            "_view_module": "@jupyter-widgets/base",
            "_view_module_version": "1.2.0",
            "_view_name": "LayoutView",
            "align_content": null,
            "align_items": null,
            "align_self": null,
            "border": null,
            "bottom": null,
            "display": null,
            "flex": null,
            "flex_flow": null,
            "grid_area": null,
            "grid_auto_columns": null,
            "grid_auto_flow": null,
            "grid_auto_rows": null,
            "grid_column": null,
            "grid_gap": null,
            "grid_row": null,
            "grid_template_areas": null,
            "grid_template_columns": null,
            "grid_template_rows": null,
            "height": null,
            "justify_content": null,
            "justify_items": null,
            "left": null,
            "margin": null,
            "max_height": null,
            "max_width": null,
            "min_height": null,
            "min_width": null,
            "object_fit": null,
            "object_position": null,
            "order": null,
            "overflow": null,
            "overflow_x": null,
            "overflow_y": null,
            "padding": null,
            "right": null,
            "top": null,
            "visibility": null,
            "width": null
          }
        },
        "2d8ab5e0fb9f470090c686253affe91c": {
          "model_module": "@jupyter-widgets/controls",
          "model_name": "DescriptionStyleModel",
          "model_module_version": "1.5.0",
          "state": {
            "_model_module": "@jupyter-widgets/controls",
            "_model_module_version": "1.5.0",
            "_model_name": "DescriptionStyleModel",
            "_view_count": null,
            "_view_module": "@jupyter-widgets/base",
            "_view_module_version": "1.2.0",
            "_view_name": "StyleView",
            "description_width": ""
          }
        },
        "33fa50f9eb6e4531af59b1ea343d8082": {
          "model_module": "@jupyter-widgets/controls",
          "model_name": "HBoxModel",
          "model_module_version": "1.5.0",
          "state": {
            "_dom_classes": [],
            "_model_module": "@jupyter-widgets/controls",
            "_model_module_version": "1.5.0",
            "_model_name": "HBoxModel",
            "_view_count": null,
            "_view_module": "@jupyter-widgets/controls",
            "_view_module_version": "1.5.0",
            "_view_name": "HBoxView",
            "box_style": "",
            "children": [
              "IPY_MODEL_16b935c90af64f7c8c982f7f89818f62",
              "IPY_MODEL_daf7ea1da3934173a8dee93f29ba8bf5",
              "IPY_MODEL_56cbcb882c3248499d15f2801b10a088"
            ],
            "layout": "IPY_MODEL_bc7239a6bc154fc78cba32d5d41e678a"
          }
        },
        "16b935c90af64f7c8c982f7f89818f62": {
          "model_module": "@jupyter-widgets/controls",
          "model_name": "HTMLModel",
          "model_module_version": "1.5.0",
          "state": {
            "_dom_classes": [],
            "_model_module": "@jupyter-widgets/controls",
            "_model_module_version": "1.5.0",
            "_model_name": "HTMLModel",
            "_view_count": null,
            "_view_module": "@jupyter-widgets/controls",
            "_view_module_version": "1.5.0",
            "_view_name": "HTMLView",
            "description": "",
            "description_tooltip": null,
            "layout": "IPY_MODEL_f2dcc3bc033c4ff3b8b4498994307a6c",
            "placeholder": "​",
            "style": "IPY_MODEL_3d09673386094657a3c6f8ab5d859777",
            "value": "Downloading: 100%"
          }
        },
        "daf7ea1da3934173a8dee93f29ba8bf5": {
          "model_module": "@jupyter-widgets/controls",
          "model_name": "FloatProgressModel",
          "model_module_version": "1.5.0",
          "state": {
            "_dom_classes": [],
            "_model_module": "@jupyter-widgets/controls",
            "_model_module_version": "1.5.0",
            "_model_name": "FloatProgressModel",
            "_view_count": null,
            "_view_module": "@jupyter-widgets/controls",
            "_view_module_version": "1.5.0",
            "_view_name": "ProgressView",
            "bar_style": "success",
            "description": "",
            "description_tooltip": null,
            "layout": "IPY_MODEL_4b2ffaff6f1d43f5a86f1ab4293bdf42",
            "max": 468029,
            "min": 0,
            "orientation": "horizontal",
            "style": "IPY_MODEL_e597297a37ae4a6d817aea07855a3434",
            "value": 468029
          }
        },
        "56cbcb882c3248499d15f2801b10a088": {
          "model_module": "@jupyter-widgets/controls",
          "model_name": "HTMLModel",
          "model_module_version": "1.5.0",
          "state": {
            "_dom_classes": [],
            "_model_module": "@jupyter-widgets/controls",
            "_model_module_version": "1.5.0",
            "_model_name": "HTMLModel",
            "_view_count": null,
            "_view_module": "@jupyter-widgets/controls",
            "_view_module_version": "1.5.0",
            "_view_name": "HTMLView",
            "description": "",
            "description_tooltip": null,
            "layout": "IPY_MODEL_84ae7dcb69884cc89a9b87d4f2d6df35",
            "placeholder": "​",
            "style": "IPY_MODEL_703f27c96b214c3bbfbbf941e4c70d15",
            "value": " 457k/457k [00:01&lt;00:00, 543kB/s]"
          }
        },
        "bc7239a6bc154fc78cba32d5d41e678a": {
          "model_module": "@jupyter-widgets/base",
          "model_name": "LayoutModel",
          "model_module_version": "1.2.0",
          "state": {
            "_model_module": "@jupyter-widgets/base",
            "_model_module_version": "1.2.0",
            "_model_name": "LayoutModel",
            "_view_count": null,
            "_view_module": "@jupyter-widgets/base",
            "_view_module_version": "1.2.0",
            "_view_name": "LayoutView",
            "align_content": null,
            "align_items": null,
            "align_self": null,
            "border": null,
            "bottom": null,
            "display": null,
            "flex": null,
            "flex_flow": null,
            "grid_area": null,
            "grid_auto_columns": null,
            "grid_auto_flow": null,
            "grid_auto_rows": null,
            "grid_column": null,
            "grid_gap": null,
            "grid_row": null,
            "grid_template_areas": null,
            "grid_template_columns": null,
            "grid_template_rows": null,
            "height": null,
            "justify_content": null,
            "justify_items": null,
            "left": null,
            "margin": null,
            "max_height": null,
            "max_width": null,
            "min_height": null,
            "min_width": null,
            "object_fit": null,
            "object_position": null,
            "order": null,
            "overflow": null,
            "overflow_x": null,
            "overflow_y": null,
            "padding": null,
            "right": null,
            "top": null,
            "visibility": null,
            "width": null
          }
        },
        "f2dcc3bc033c4ff3b8b4498994307a6c": {
          "model_module": "@jupyter-widgets/base",
          "model_name": "LayoutModel",
          "model_module_version": "1.2.0",
          "state": {
            "_model_module": "@jupyter-widgets/base",
            "_model_module_version": "1.2.0",
            "_model_name": "LayoutModel",
            "_view_count": null,
            "_view_module": "@jupyter-widgets/base",
            "_view_module_version": "1.2.0",
            "_view_name": "LayoutView",
            "align_content": null,
            "align_items": null,
            "align_self": null,
            "border": null,
            "bottom": null,
            "display": null,
            "flex": null,
            "flex_flow": null,
            "grid_area": null,
            "grid_auto_columns": null,
            "grid_auto_flow": null,
            "grid_auto_rows": null,
            "grid_column": null,
            "grid_gap": null,
            "grid_row": null,
            "grid_template_areas": null,
            "grid_template_columns": null,
            "grid_template_rows": null,
            "height": null,
            "justify_content": null,
            "justify_items": null,
            "left": null,
            "margin": null,
            "max_height": null,
            "max_width": null,
            "min_height": null,
            "min_width": null,
            "object_fit": null,
            "object_position": null,
            "order": null,
            "overflow": null,
            "overflow_x": null,
            "overflow_y": null,
            "padding": null,
            "right": null,
            "top": null,
            "visibility": null,
            "width": null
          }
        },
        "3d09673386094657a3c6f8ab5d859777": {
          "model_module": "@jupyter-widgets/controls",
          "model_name": "DescriptionStyleModel",
          "model_module_version": "1.5.0",
          "state": {
            "_model_module": "@jupyter-widgets/controls",
            "_model_module_version": "1.5.0",
            "_model_name": "DescriptionStyleModel",
            "_view_count": null,
            "_view_module": "@jupyter-widgets/base",
            "_view_module_version": "1.2.0",
            "_view_name": "StyleView",
            "description_width": ""
          }
        },
        "4b2ffaff6f1d43f5a86f1ab4293bdf42": {
          "model_module": "@jupyter-widgets/base",
          "model_name": "LayoutModel",
          "model_module_version": "1.2.0",
          "state": {
            "_model_module": "@jupyter-widgets/base",
            "_model_module_version": "1.2.0",
            "_model_name": "LayoutModel",
            "_view_count": null,
            "_view_module": "@jupyter-widgets/base",
            "_view_module_version": "1.2.0",
            "_view_name": "LayoutView",
            "align_content": null,
            "align_items": null,
            "align_self": null,
            "border": null,
            "bottom": null,
            "display": null,
            "flex": null,
            "flex_flow": null,
            "grid_area": null,
            "grid_auto_columns": null,
            "grid_auto_flow": null,
            "grid_auto_rows": null,
            "grid_column": null,
            "grid_gap": null,
            "grid_row": null,
            "grid_template_areas": null,
            "grid_template_columns": null,
            "grid_template_rows": null,
            "height": null,
            "justify_content": null,
            "justify_items": null,
            "left": null,
            "margin": null,
            "max_height": null,
            "max_width": null,
            "min_height": null,
            "min_width": null,
            "object_fit": null,
            "object_position": null,
            "order": null,
            "overflow": null,
            "overflow_x": null,
            "overflow_y": null,
            "padding": null,
            "right": null,
            "top": null,
            "visibility": null,
            "width": null
          }
        },
        "e597297a37ae4a6d817aea07855a3434": {
          "model_module": "@jupyter-widgets/controls",
          "model_name": "ProgressStyleModel",
          "model_module_version": "1.5.0",
          "state": {
            "_model_module": "@jupyter-widgets/controls",
            "_model_module_version": "1.5.0",
            "_model_name": "ProgressStyleModel",
            "_view_count": null,
            "_view_module": "@jupyter-widgets/base",
            "_view_module_version": "1.2.0",
            "_view_name": "StyleView",
            "bar_color": null,
            "description_width": ""
          }
        },
        "84ae7dcb69884cc89a9b87d4f2d6df35": {
          "model_module": "@jupyter-widgets/base",
          "model_name": "LayoutModel",
          "model_module_version": "1.2.0",
          "state": {
            "_model_module": "@jupyter-widgets/base",
            "_model_module_version": "1.2.0",
            "_model_name": "LayoutModel",
            "_view_count": null,
            "_view_module": "@jupyter-widgets/base",
            "_view_module_version": "1.2.0",
            "_view_name": "LayoutView",
            "align_content": null,
            "align_items": null,
            "align_self": null,
            "border": null,
            "bottom": null,
            "display": null,
            "flex": null,
            "flex_flow": null,
            "grid_area": null,
            "grid_auto_columns": null,
            "grid_auto_flow": null,
            "grid_auto_rows": null,
            "grid_column": null,
            "grid_gap": null,
            "grid_row": null,
            "grid_template_areas": null,
            "grid_template_columns": null,
            "grid_template_rows": null,
            "height": null,
            "justify_content": null,
            "justify_items": null,
            "left": null,
            "margin": null,
            "max_height": null,
            "max_width": null,
            "min_height": null,
            "min_width": null,
            "object_fit": null,
            "object_position": null,
            "order": null,
            "overflow": null,
            "overflow_x": null,
            "overflow_y": null,
            "padding": null,
            "right": null,
            "top": null,
            "visibility": null,
            "width": null
          }
        },
        "703f27c96b214c3bbfbbf941e4c70d15": {
          "model_module": "@jupyter-widgets/controls",
          "model_name": "DescriptionStyleModel",
          "model_module_version": "1.5.0",
          "state": {
            "_model_module": "@jupyter-widgets/controls",
            "_model_module_version": "1.5.0",
            "_model_name": "DescriptionStyleModel",
            "_view_count": null,
            "_view_module": "@jupyter-widgets/base",
            "_view_module_version": "1.2.0",
            "_view_name": "StyleView",
            "description_width": ""
          }
        },
        "371d49a947f64b608a4d1fb5975ba5f5": {
          "model_module": "@jupyter-widgets/controls",
          "model_name": "HBoxModel",
          "model_module_version": "1.5.0",
          "state": {
            "_dom_classes": [],
            "_model_module": "@jupyter-widgets/controls",
            "_model_module_version": "1.5.0",
            "_model_name": "HBoxModel",
            "_view_count": null,
            "_view_module": "@jupyter-widgets/controls",
            "_view_module_version": "1.5.0",
            "_view_name": "HBoxView",
            "box_style": "",
            "children": [
              "IPY_MODEL_793d4112ff604f5c95eb4ce1f7a12272",
              "IPY_MODEL_f24e4080b703444baa323fe5679a44b2",
              "IPY_MODEL_a2812a9cc4344c878b5c54a17f41fd72"
            ],
            "layout": "IPY_MODEL_d388556d465948dfbc9ca80bb5843af4"
          }
        },
        "793d4112ff604f5c95eb4ce1f7a12272": {
          "model_module": "@jupyter-widgets/controls",
          "model_name": "HTMLModel",
          "model_module_version": "1.5.0",
          "state": {
            "_dom_classes": [],
            "_model_module": "@jupyter-widgets/controls",
            "_model_module_version": "1.5.0",
            "_model_name": "HTMLModel",
            "_view_count": null,
            "_view_module": "@jupyter-widgets/controls",
            "_view_module_version": "1.5.0",
            "_view_name": "HTMLView",
            "description": "",
            "description_tooltip": null,
            "layout": "IPY_MODEL_b2935debdf4048cf8f952befe7006d59",
            "placeholder": "​",
            "style": "IPY_MODEL_e7c73c306aeb4a1099952d437d7f19bb",
            "value": "Downloading: 100%"
          }
        },
        "f24e4080b703444baa323fe5679a44b2": {
          "model_module": "@jupyter-widgets/controls",
          "model_name": "FloatProgressModel",
          "model_module_version": "1.5.0",
          "state": {
            "_dom_classes": [],
            "_model_module": "@jupyter-widgets/controls",
            "_model_module_version": "1.5.0",
            "_model_name": "FloatProgressModel",
            "_view_count": null,
            "_view_module": "@jupyter-widgets/controls",
            "_view_module_version": "1.5.0",
            "_view_name": "ProgressView",
            "bar_style": "success",
            "description": "",
            "description_tooltip": null,
            "layout": "IPY_MODEL_c2d47324c48e4e6f9fd047da08d78f13",
            "max": 112,
            "min": 0,
            "orientation": "horizontal",
            "style": "IPY_MODEL_49b3558e18b643939f658207e45f9b29",
            "value": 112
          }
        },
        "a2812a9cc4344c878b5c54a17f41fd72": {
          "model_module": "@jupyter-widgets/controls",
          "model_name": "HTMLModel",
          "model_module_version": "1.5.0",
          "state": {
            "_dom_classes": [],
            "_model_module": "@jupyter-widgets/controls",
            "_model_module_version": "1.5.0",
            "_model_name": "HTMLModel",
            "_view_count": null,
            "_view_module": "@jupyter-widgets/controls",
            "_view_module_version": "1.5.0",
            "_view_name": "HTMLView",
            "description": "",
            "description_tooltip": null,
            "layout": "IPY_MODEL_78181969e7df477f9bf7eb13651b1f37",
            "placeholder": "​",
            "style": "IPY_MODEL_201a40d88b54470483d6ffbd87c9210c",
            "value": " 112/112 [00:00&lt;00:00, 1.24kB/s]"
          }
        },
        "d388556d465948dfbc9ca80bb5843af4": {
          "model_module": "@jupyter-widgets/base",
          "model_name": "LayoutModel",
          "model_module_version": "1.2.0",
          "state": {
            "_model_module": "@jupyter-widgets/base",
            "_model_module_version": "1.2.0",
            "_model_name": "LayoutModel",
            "_view_count": null,
            "_view_module": "@jupyter-widgets/base",
            "_view_module_version": "1.2.0",
            "_view_name": "LayoutView",
            "align_content": null,
            "align_items": null,
            "align_self": null,
            "border": null,
            "bottom": null,
            "display": null,
            "flex": null,
            "flex_flow": null,
            "grid_area": null,
            "grid_auto_columns": null,
            "grid_auto_flow": null,
            "grid_auto_rows": null,
            "grid_column": null,
            "grid_gap": null,
            "grid_row": null,
            "grid_template_areas": null,
            "grid_template_columns": null,
            "grid_template_rows": null,
            "height": null,
            "justify_content": null,
            "justify_items": null,
            "left": null,
            "margin": null,
            "max_height": null,
            "max_width": null,
            "min_height": null,
            "min_width": null,
            "object_fit": null,
            "object_position": null,
            "order": null,
            "overflow": null,
            "overflow_x": null,
            "overflow_y": null,
            "padding": null,
            "right": null,
            "top": null,
            "visibility": null,
            "width": null
          }
        },
        "b2935debdf4048cf8f952befe7006d59": {
          "model_module": "@jupyter-widgets/base",
          "model_name": "LayoutModel",
          "model_module_version": "1.2.0",
          "state": {
            "_model_module": "@jupyter-widgets/base",
            "_model_module_version": "1.2.0",
            "_model_name": "LayoutModel",
            "_view_count": null,
            "_view_module": "@jupyter-widgets/base",
            "_view_module_version": "1.2.0",
            "_view_name": "LayoutView",
            "align_content": null,
            "align_items": null,
            "align_self": null,
            "border": null,
            "bottom": null,
            "display": null,
            "flex": null,
            "flex_flow": null,
            "grid_area": null,
            "grid_auto_columns": null,
            "grid_auto_flow": null,
            "grid_auto_rows": null,
            "grid_column": null,
            "grid_gap": null,
            "grid_row": null,
            "grid_template_areas": null,
            "grid_template_columns": null,
            "grid_template_rows": null,
            "height": null,
            "justify_content": null,
            "justify_items": null,
            "left": null,
            "margin": null,
            "max_height": null,
            "max_width": null,
            "min_height": null,
            "min_width": null,
            "object_fit": null,
            "object_position": null,
            "order": null,
            "overflow": null,
            "overflow_x": null,
            "overflow_y": null,
            "padding": null,
            "right": null,
            "top": null,
            "visibility": null,
            "width": null
          }
        },
        "e7c73c306aeb4a1099952d437d7f19bb": {
          "model_module": "@jupyter-widgets/controls",
          "model_name": "DescriptionStyleModel",
          "model_module_version": "1.5.0",
          "state": {
            "_model_module": "@jupyter-widgets/controls",
            "_model_module_version": "1.5.0",
            "_model_name": "DescriptionStyleModel",
            "_view_count": null,
            "_view_module": "@jupyter-widgets/base",
            "_view_module_version": "1.2.0",
            "_view_name": "StyleView",
            "description_width": ""
          }
        },
        "c2d47324c48e4e6f9fd047da08d78f13": {
          "model_module": "@jupyter-widgets/base",
          "model_name": "LayoutModel",
          "model_module_version": "1.2.0",
          "state": {
            "_model_module": "@jupyter-widgets/base",
            "_model_module_version": "1.2.0",
            "_model_name": "LayoutModel",
            "_view_count": null,
            "_view_module": "@jupyter-widgets/base",
            "_view_module_version": "1.2.0",
            "_view_name": "LayoutView",
            "align_content": null,
            "align_items": null,
            "align_self": null,
            "border": null,
            "bottom": null,
            "display": null,
            "flex": null,
            "flex_flow": null,
            "grid_area": null,
            "grid_auto_columns": null,
            "grid_auto_flow": null,
            "grid_auto_rows": null,
            "grid_column": null,
            "grid_gap": null,
            "grid_row": null,
            "grid_template_areas": null,
            "grid_template_columns": null,
            "grid_template_rows": null,
            "height": null,
            "justify_content": null,
            "justify_items": null,
            "left": null,
            "margin": null,
            "max_height": null,
            "max_width": null,
            "min_height": null,
            "min_width": null,
            "object_fit": null,
            "object_position": null,
            "order": null,
            "overflow": null,
            "overflow_x": null,
            "overflow_y": null,
            "padding": null,
            "right": null,
            "top": null,
            "visibility": null,
            "width": null
          }
        },
        "49b3558e18b643939f658207e45f9b29": {
          "model_module": "@jupyter-widgets/controls",
          "model_name": "ProgressStyleModel",
          "model_module_version": "1.5.0",
          "state": {
            "_model_module": "@jupyter-widgets/controls",
            "_model_module_version": "1.5.0",
            "_model_name": "ProgressStyleModel",
            "_view_count": null,
            "_view_module": "@jupyter-widgets/base",
            "_view_module_version": "1.2.0",
            "_view_name": "StyleView",
            "bar_color": null,
            "description_width": ""
          }
        },
        "78181969e7df477f9bf7eb13651b1f37": {
          "model_module": "@jupyter-widgets/base",
          "model_name": "LayoutModel",
          "model_module_version": "1.2.0",
          "state": {
            "_model_module": "@jupyter-widgets/base",
            "_model_module_version": "1.2.0",
            "_model_name": "LayoutModel",
            "_view_count": null,
            "_view_module": "@jupyter-widgets/base",
            "_view_module_version": "1.2.0",
            "_view_name": "LayoutView",
            "align_content": null,
            "align_items": null,
            "align_self": null,
            "border": null,
            "bottom": null,
            "display": null,
            "flex": null,
            "flex_flow": null,
            "grid_area": null,
            "grid_auto_columns": null,
            "grid_auto_flow": null,
            "grid_auto_rows": null,
            "grid_column": null,
            "grid_gap": null,
            "grid_row": null,
            "grid_template_areas": null,
            "grid_template_columns": null,
            "grid_template_rows": null,
            "height": null,
            "justify_content": null,
            "justify_items": null,
            "left": null,
            "margin": null,
            "max_height": null,
            "max_width": null,
            "min_height": null,
            "min_width": null,
            "object_fit": null,
            "object_position": null,
            "order": null,
            "overflow": null,
            "overflow_x": null,
            "overflow_y": null,
            "padding": null,
            "right": null,
            "top": null,
            "visibility": null,
            "width": null
          }
        },
        "201a40d88b54470483d6ffbd87c9210c": {
          "model_module": "@jupyter-widgets/controls",
          "model_name": "DescriptionStyleModel",
          "model_module_version": "1.5.0",
          "state": {
            "_model_module": "@jupyter-widgets/controls",
            "_model_module_version": "1.5.0",
            "_model_name": "DescriptionStyleModel",
            "_view_count": null,
            "_view_module": "@jupyter-widgets/base",
            "_view_module_version": "1.2.0",
            "_view_name": "StyleView",
            "description_width": ""
          }
        },
        "3b71d8df99cb4192a44aac30421528cd": {
          "model_module": "@jupyter-widgets/controls",
          "model_name": "HBoxModel",
          "model_module_version": "1.5.0",
          "state": {
            "_dom_classes": [],
            "_model_module": "@jupyter-widgets/controls",
            "_model_module_version": "1.5.0",
            "_model_name": "HBoxModel",
            "_view_count": null,
            "_view_module": "@jupyter-widgets/controls",
            "_view_module_version": "1.5.0",
            "_view_name": "HBoxView",
            "box_style": "",
            "children": [
              "IPY_MODEL_9f970e6957054a9f87c60765f4886994",
              "IPY_MODEL_b21e930f4c62410d90271075b2dd5d5d",
              "IPY_MODEL_60231b2117d4435b803e86c7d027ba86"
            ],
            "layout": "IPY_MODEL_d3eb1a15470248489254a44d79160742"
          }
        },
        "9f970e6957054a9f87c60765f4886994": {
          "model_module": "@jupyter-widgets/controls",
          "model_name": "HTMLModel",
          "model_module_version": "1.5.0",
          "state": {
            "_dom_classes": [],
            "_model_module": "@jupyter-widgets/controls",
            "_model_module_version": "1.5.0",
            "_model_name": "HTMLModel",
            "_view_count": null,
            "_view_module": "@jupyter-widgets/controls",
            "_view_module_version": "1.5.0",
            "_view_name": "HTMLView",
            "description": "",
            "description_tooltip": null,
            "layout": "IPY_MODEL_a8997d570ca74f24925184b679fc3ab6",
            "placeholder": "​",
            "style": "IPY_MODEL_500c4dd1c15a417d8d3ac70fa0424a1b",
            "value": "Downloading: 100%"
          }
        },
        "b21e930f4c62410d90271075b2dd5d5d": {
          "model_module": "@jupyter-widgets/controls",
          "model_name": "FloatProgressModel",
          "model_module_version": "1.5.0",
          "state": {
            "_dom_classes": [],
            "_model_module": "@jupyter-widgets/controls",
            "_model_module_version": "1.5.0",
            "_model_name": "FloatProgressModel",
            "_view_count": null,
            "_view_module": "@jupyter-widgets/controls",
            "_view_module_version": "1.5.0",
            "_view_name": "ProgressView",
            "bar_style": "success",
            "description": "",
            "description_tooltip": null,
            "layout": "IPY_MODEL_998493f787ea479cac579a2769da45ec",
            "max": 957,
            "min": 0,
            "orientation": "horizontal",
            "style": "IPY_MODEL_78bf23c8ad074289ab17d96e7bfeaa67",
            "value": 957
          }
        },
        "60231b2117d4435b803e86c7d027ba86": {
          "model_module": "@jupyter-widgets/controls",
          "model_name": "HTMLModel",
          "model_module_version": "1.5.0",
          "state": {
            "_dom_classes": [],
            "_model_module": "@jupyter-widgets/controls",
            "_model_module_version": "1.5.0",
            "_model_name": "HTMLModel",
            "_view_count": null,
            "_view_module": "@jupyter-widgets/controls",
            "_view_module_version": "1.5.0",
            "_view_name": "HTMLView",
            "description": "",
            "description_tooltip": null,
            "layout": "IPY_MODEL_888399741fbc43feb2aeeb85d5bc8d81",
            "placeholder": "​",
            "style": "IPY_MODEL_f745652094814efba971c12675d3bdec",
            "value": " 957/957 [00:00&lt;00:00, 31.1kB/s]"
          }
        },
        "d3eb1a15470248489254a44d79160742": {
          "model_module": "@jupyter-widgets/base",
          "model_name": "LayoutModel",
          "model_module_version": "1.2.0",
          "state": {
            "_model_module": "@jupyter-widgets/base",
            "_model_module_version": "1.2.0",
            "_model_name": "LayoutModel",
            "_view_count": null,
            "_view_module": "@jupyter-widgets/base",
            "_view_module_version": "1.2.0",
            "_view_name": "LayoutView",
            "align_content": null,
            "align_items": null,
            "align_self": null,
            "border": null,
            "bottom": null,
            "display": null,
            "flex": null,
            "flex_flow": null,
            "grid_area": null,
            "grid_auto_columns": null,
            "grid_auto_flow": null,
            "grid_auto_rows": null,
            "grid_column": null,
            "grid_gap": null,
            "grid_row": null,
            "grid_template_areas": null,
            "grid_template_columns": null,
            "grid_template_rows": null,
            "height": null,
            "justify_content": null,
            "justify_items": null,
            "left": null,
            "margin": null,
            "max_height": null,
            "max_width": null,
            "min_height": null,
            "min_width": null,
            "object_fit": null,
            "object_position": null,
            "order": null,
            "overflow": null,
            "overflow_x": null,
            "overflow_y": null,
            "padding": null,
            "right": null,
            "top": null,
            "visibility": null,
            "width": null
          }
        },
        "a8997d570ca74f24925184b679fc3ab6": {
          "model_module": "@jupyter-widgets/base",
          "model_name": "LayoutModel",
          "model_module_version": "1.2.0",
          "state": {
            "_model_module": "@jupyter-widgets/base",
            "_model_module_version": "1.2.0",
            "_model_name": "LayoutModel",
            "_view_count": null,
            "_view_module": "@jupyter-widgets/base",
            "_view_module_version": "1.2.0",
            "_view_name": "LayoutView",
            "align_content": null,
            "align_items": null,
            "align_self": null,
            "border": null,
            "bottom": null,
            "display": null,
            "flex": null,
            "flex_flow": null,
            "grid_area": null,
            "grid_auto_columns": null,
            "grid_auto_flow": null,
            "grid_auto_rows": null,
            "grid_column": null,
            "grid_gap": null,
            "grid_row": null,
            "grid_template_areas": null,
            "grid_template_columns": null,
            "grid_template_rows": null,
            "height": null,
            "justify_content": null,
            "justify_items": null,
            "left": null,
            "margin": null,
            "max_height": null,
            "max_width": null,
            "min_height": null,
            "min_width": null,
            "object_fit": null,
            "object_position": null,
            "order": null,
            "overflow": null,
            "overflow_x": null,
            "overflow_y": null,
            "padding": null,
            "right": null,
            "top": null,
            "visibility": null,
            "width": null
          }
        },
        "500c4dd1c15a417d8d3ac70fa0424a1b": {
          "model_module": "@jupyter-widgets/controls",
          "model_name": "DescriptionStyleModel",
          "model_module_version": "1.5.0",
          "state": {
            "_model_module": "@jupyter-widgets/controls",
            "_model_module_version": "1.5.0",
            "_model_name": "DescriptionStyleModel",
            "_view_count": null,
            "_view_module": "@jupyter-widgets/base",
            "_view_module_version": "1.2.0",
            "_view_name": "StyleView",
            "description_width": ""
          }
        },
        "998493f787ea479cac579a2769da45ec": {
          "model_module": "@jupyter-widgets/base",
          "model_name": "LayoutModel",
          "model_module_version": "1.2.0",
          "state": {
            "_model_module": "@jupyter-widgets/base",
            "_model_module_version": "1.2.0",
            "_model_name": "LayoutModel",
            "_view_count": null,
            "_view_module": "@jupyter-widgets/base",
            "_view_module_version": "1.2.0",
            "_view_name": "LayoutView",
            "align_content": null,
            "align_items": null,
            "align_self": null,
            "border": null,
            "bottom": null,
            "display": null,
            "flex": null,
            "flex_flow": null,
            "grid_area": null,
            "grid_auto_columns": null,
            "grid_auto_flow": null,
            "grid_auto_rows": null,
            "grid_column": null,
            "grid_gap": null,
            "grid_row": null,
            "grid_template_areas": null,
            "grid_template_columns": null,
            "grid_template_rows": null,
            "height": null,
            "justify_content": null,
            "justify_items": null,
            "left": null,
            "margin": null,
            "max_height": null,
            "max_width": null,
            "min_height": null,
            "min_width": null,
            "object_fit": null,
            "object_position": null,
            "order": null,
            "overflow": null,
            "overflow_x": null,
            "overflow_y": null,
            "padding": null,
            "right": null,
            "top": null,
            "visibility": null,
            "width": null
          }
        },
        "78bf23c8ad074289ab17d96e7bfeaa67": {
          "model_module": "@jupyter-widgets/controls",
          "model_name": "ProgressStyleModel",
          "model_module_version": "1.5.0",
          "state": {
            "_model_module": "@jupyter-widgets/controls",
            "_model_module_version": "1.5.0",
            "_model_name": "ProgressStyleModel",
            "_view_count": null,
            "_view_module": "@jupyter-widgets/base",
            "_view_module_version": "1.2.0",
            "_view_name": "StyleView",
            "bar_color": null,
            "description_width": ""
          }
        },
        "888399741fbc43feb2aeeb85d5bc8d81": {
          "model_module": "@jupyter-widgets/base",
          "model_name": "LayoutModel",
          "model_module_version": "1.2.0",
          "state": {
            "_model_module": "@jupyter-widgets/base",
            "_model_module_version": "1.2.0",
            "_model_name": "LayoutModel",
            "_view_count": null,
            "_view_module": "@jupyter-widgets/base",
            "_view_module_version": "1.2.0",
            "_view_name": "LayoutView",
            "align_content": null,
            "align_items": null,
            "align_self": null,
            "border": null,
            "bottom": null,
            "display": null,
            "flex": null,
            "flex_flow": null,
            "grid_area": null,
            "grid_auto_columns": null,
            "grid_auto_flow": null,
            "grid_auto_rows": null,
            "grid_column": null,
            "grid_gap": null,
            "grid_row": null,
            "grid_template_areas": null,
            "grid_template_columns": null,
            "grid_template_rows": null,
            "height": null,
            "justify_content": null,
            "justify_items": null,
            "left": null,
            "margin": null,
            "max_height": null,
            "max_width": null,
            "min_height": null,
            "min_width": null,
            "object_fit": null,
            "object_position": null,
            "order": null,
            "overflow": null,
            "overflow_x": null,
            "overflow_y": null,
            "padding": null,
            "right": null,
            "top": null,
            "visibility": null,
            "width": null
          }
        },
        "f745652094814efba971c12675d3bdec": {
          "model_module": "@jupyter-widgets/controls",
          "model_name": "DescriptionStyleModel",
          "model_module_version": "1.5.0",
          "state": {
            "_model_module": "@jupyter-widgets/controls",
            "_model_module_version": "1.5.0",
            "_model_name": "DescriptionStyleModel",
            "_view_count": null,
            "_view_module": "@jupyter-widgets/base",
            "_view_module_version": "1.2.0",
            "_view_name": "StyleView",
            "description_width": ""
          }
        },
        "18c71a3fe1c647e3a1c87851605f21dc": {
          "model_module": "@jupyter-widgets/controls",
          "model_name": "HBoxModel",
          "model_module_version": "1.5.0",
          "state": {
            "_dom_classes": [],
            "_model_module": "@jupyter-widgets/controls",
            "_model_module_version": "1.5.0",
            "_model_name": "HBoxModel",
            "_view_count": null,
            "_view_module": "@jupyter-widgets/controls",
            "_view_module_version": "1.5.0",
            "_view_name": "HBoxView",
            "box_style": "",
            "children": [
              "IPY_MODEL_b84d029952f342f4bf57e3717f37e0bf",
              "IPY_MODEL_66742e3a589a4662b6db9b5871737110",
              "IPY_MODEL_7818add05a83440984e958cdd64fbd81"
            ],
            "layout": "IPY_MODEL_06b2f3d11ba84135b6a98476a46540ae"
          }
        },
        "b84d029952f342f4bf57e3717f37e0bf": {
          "model_module": "@jupyter-widgets/controls",
          "model_name": "HTMLModel",
          "model_module_version": "1.5.0",
          "state": {
            "_dom_classes": [],
            "_model_module": "@jupyter-widgets/controls",
            "_model_module_version": "1.5.0",
            "_model_name": "HTMLModel",
            "_view_count": null,
            "_view_module": "@jupyter-widgets/controls",
            "_view_module_version": "1.5.0",
            "_view_name": "HTMLView",
            "description": "",
            "description_tooltip": null,
            "layout": "IPY_MODEL_522c11a734154ef0874e649797890c46",
            "placeholder": "​",
            "style": "IPY_MODEL_025f11a8ea0341c6b207719cfc68095b",
            "value": "Downloading: 100%"
          }
        },
        "66742e3a589a4662b6db9b5871737110": {
          "model_module": "@jupyter-widgets/controls",
          "model_name": "FloatProgressModel",
          "model_module_version": "1.5.0",
          "state": {
            "_dom_classes": [],
            "_model_module": "@jupyter-widgets/controls",
            "_model_module_version": "1.5.0",
            "_model_name": "FloatProgressModel",
            "_view_count": null,
            "_view_module": "@jupyter-widgets/controls",
            "_view_module_version": "1.5.0",
            "_view_name": "ProgressView",
            "bar_style": "success",
            "description": "",
            "description_tooltip": null,
            "layout": "IPY_MODEL_51a3d02b5f0c46f5b3a73f2344595783",
            "max": 47168503,
            "min": 0,
            "orientation": "horizontal",
            "style": "IPY_MODEL_00db6dbf86694846b2f6a9d640bec437",
            "value": 47168503
          }
        },
        "7818add05a83440984e958cdd64fbd81": {
          "model_module": "@jupyter-widgets/controls",
          "model_name": "HTMLModel",
          "model_module_version": "1.5.0",
          "state": {
            "_dom_classes": [],
            "_model_module": "@jupyter-widgets/controls",
            "_model_module_version": "1.5.0",
            "_model_name": "HTMLModel",
            "_view_count": null,
            "_view_module": "@jupyter-widgets/controls",
            "_view_module_version": "1.5.0",
            "_view_name": "HTMLView",
            "description": "",
            "description_tooltip": null,
            "layout": "IPY_MODEL_1f9a42642f8c4b5b9f0ed6b2f69f1e5c",
            "placeholder": "​",
            "style": "IPY_MODEL_2fb5c2742f6e433780eb6260332b1b97",
            "value": " 45.0M/45.0M [00:00&lt;00:00, 61.0MB/s]"
          }
        },
        "06b2f3d11ba84135b6a98476a46540ae": {
          "model_module": "@jupyter-widgets/base",
          "model_name": "LayoutModel",
          "model_module_version": "1.2.0",
          "state": {
            "_model_module": "@jupyter-widgets/base",
            "_model_module_version": "1.2.0",
            "_model_name": "LayoutModel",
            "_view_count": null,
            "_view_module": "@jupyter-widgets/base",
            "_view_module_version": "1.2.0",
            "_view_name": "LayoutView",
            "align_content": null,
            "align_items": null,
            "align_self": null,
            "border": null,
            "bottom": null,
            "display": null,
            "flex": null,
            "flex_flow": null,
            "grid_area": null,
            "grid_auto_columns": null,
            "grid_auto_flow": null,
            "grid_auto_rows": null,
            "grid_column": null,
            "grid_gap": null,
            "grid_row": null,
            "grid_template_areas": null,
            "grid_template_columns": null,
            "grid_template_rows": null,
            "height": null,
            "justify_content": null,
            "justify_items": null,
            "left": null,
            "margin": null,
            "max_height": null,
            "max_width": null,
            "min_height": null,
            "min_width": null,
            "object_fit": null,
            "object_position": null,
            "order": null,
            "overflow": null,
            "overflow_x": null,
            "overflow_y": null,
            "padding": null,
            "right": null,
            "top": null,
            "visibility": null,
            "width": null
          }
        },
        "522c11a734154ef0874e649797890c46": {
          "model_module": "@jupyter-widgets/base",
          "model_name": "LayoutModel",
          "model_module_version": "1.2.0",
          "state": {
            "_model_module": "@jupyter-widgets/base",
            "_model_module_version": "1.2.0",
            "_model_name": "LayoutModel",
            "_view_count": null,
            "_view_module": "@jupyter-widgets/base",
            "_view_module_version": "1.2.0",
            "_view_name": "LayoutView",
            "align_content": null,
            "align_items": null,
            "align_self": null,
            "border": null,
            "bottom": null,
            "display": null,
            "flex": null,
            "flex_flow": null,
            "grid_area": null,
            "grid_auto_columns": null,
            "grid_auto_flow": null,
            "grid_auto_rows": null,
            "grid_column": null,
            "grid_gap": null,
            "grid_row": null,
            "grid_template_areas": null,
            "grid_template_columns": null,
            "grid_template_rows": null,
            "height": null,
            "justify_content": null,
            "justify_items": null,
            "left": null,
            "margin": null,
            "max_height": null,
            "max_width": null,
            "min_height": null,
            "min_width": null,
            "object_fit": null,
            "object_position": null,
            "order": null,
            "overflow": null,
            "overflow_x": null,
            "overflow_y": null,
            "padding": null,
            "right": null,
            "top": null,
            "visibility": null,
            "width": null
          }
        },
        "025f11a8ea0341c6b207719cfc68095b": {
          "model_module": "@jupyter-widgets/controls",
          "model_name": "DescriptionStyleModel",
          "model_module_version": "1.5.0",
          "state": {
            "_model_module": "@jupyter-widgets/controls",
            "_model_module_version": "1.5.0",
            "_model_name": "DescriptionStyleModel",
            "_view_count": null,
            "_view_module": "@jupyter-widgets/base",
            "_view_module_version": "1.2.0",
            "_view_name": "StyleView",
            "description_width": ""
          }
        },
        "51a3d02b5f0c46f5b3a73f2344595783": {
          "model_module": "@jupyter-widgets/base",
          "model_name": "LayoutModel",
          "model_module_version": "1.2.0",
          "state": {
            "_model_module": "@jupyter-widgets/base",
            "_model_module_version": "1.2.0",
            "_model_name": "LayoutModel",
            "_view_count": null,
            "_view_module": "@jupyter-widgets/base",
            "_view_module_version": "1.2.0",
            "_view_name": "LayoutView",
            "align_content": null,
            "align_items": null,
            "align_self": null,
            "border": null,
            "bottom": null,
            "display": null,
            "flex": null,
            "flex_flow": null,
            "grid_area": null,
            "grid_auto_columns": null,
            "grid_auto_flow": null,
            "grid_auto_rows": null,
            "grid_column": null,
            "grid_gap": null,
            "grid_row": null,
            "grid_template_areas": null,
            "grid_template_columns": null,
            "grid_template_rows": null,
            "height": null,
            "justify_content": null,
            "justify_items": null,
            "left": null,
            "margin": null,
            "max_height": null,
            "max_width": null,
            "min_height": null,
            "min_width": null,
            "object_fit": null,
            "object_position": null,
            "order": null,
            "overflow": null,
            "overflow_x": null,
            "overflow_y": null,
            "padding": null,
            "right": null,
            "top": null,
            "visibility": null,
            "width": null
          }
        },
        "00db6dbf86694846b2f6a9d640bec437": {
          "model_module": "@jupyter-widgets/controls",
          "model_name": "ProgressStyleModel",
          "model_module_version": "1.5.0",
          "state": {
            "_model_module": "@jupyter-widgets/controls",
            "_model_module_version": "1.5.0",
            "_model_name": "ProgressStyleModel",
            "_view_count": null,
            "_view_module": "@jupyter-widgets/base",
            "_view_module_version": "1.2.0",
            "_view_name": "StyleView",
            "bar_color": null,
            "description_width": ""
          }
        },
        "1f9a42642f8c4b5b9f0ed6b2f69f1e5c": {
          "model_module": "@jupyter-widgets/base",
          "model_name": "LayoutModel",
          "model_module_version": "1.2.0",
          "state": {
            "_model_module": "@jupyter-widgets/base",
            "_model_module_version": "1.2.0",
            "_model_name": "LayoutModel",
            "_view_count": null,
            "_view_module": "@jupyter-widgets/base",
            "_view_module_version": "1.2.0",
            "_view_name": "LayoutView",
            "align_content": null,
            "align_items": null,
            "align_self": null,
            "border": null,
            "bottom": null,
            "display": null,
            "flex": null,
            "flex_flow": null,
            "grid_area": null,
            "grid_auto_columns": null,
            "grid_auto_flow": null,
            "grid_auto_rows": null,
            "grid_column": null,
            "grid_gap": null,
            "grid_row": null,
            "grid_template_areas": null,
            "grid_template_columns": null,
            "grid_template_rows": null,
            "height": null,
            "justify_content": null,
            "justify_items": null,
            "left": null,
            "margin": null,
            "max_height": null,
            "max_width": null,
            "min_height": null,
            "min_width": null,
            "object_fit": null,
            "object_position": null,
            "order": null,
            "overflow": null,
            "overflow_x": null,
            "overflow_y": null,
            "padding": null,
            "right": null,
            "top": null,
            "visibility": null,
            "width": null
          }
        },
        "2fb5c2742f6e433780eb6260332b1b97": {
          "model_module": "@jupyter-widgets/controls",
          "model_name": "DescriptionStyleModel",
          "model_module_version": "1.5.0",
          "state": {
            "_model_module": "@jupyter-widgets/controls",
            "_model_module_version": "1.5.0",
            "_model_name": "DescriptionStyleModel",
            "_view_count": null,
            "_view_module": "@jupyter-widgets/base",
            "_view_module_version": "1.2.0",
            "_view_name": "StyleView",
            "description_width": ""
          }
        },
        "d20af2250f6a43ec821690c9ba1725ca": {
          "model_module": "@jupyter-widgets/controls",
          "model_name": "HBoxModel",
          "model_module_version": "1.4.0",
          "state": {
            "_dom_classes": [],
            "_model_module": "@jupyter-widgets/controls",
            "_model_module_version": "1.4.0",
            "_model_name": "HBoxModel",
            "_view_count": null,
            "_view_module": "@jupyter-widgets/controls",
            "_view_module_version": "1.4.0",
            "_view_name": "HBoxView",
            "box_style": "",
            "children": [
              "IPY_MODEL_d45f51d781f14bf588b5aed706b37d93",
              "IPY_MODEL_7106a686f710436ba81e2ef78b3266e9"
            ],
            "layout": "IPY_MODEL_76ced8c966034da5b82293ddfe67aa08"
          }
        },
        "d45f51d781f14bf588b5aed706b37d93": {
          "model_module": "@jupyter-widgets/controls",
          "model_name": "IntProgressModel",
          "model_module_version": "1.4.0",
          "state": {
            "_dom_classes": [],
            "_model_module": "@jupyter-widgets/controls",
            "_model_module_version": "1.4.0",
            "_model_name": "IntProgressModel",
            "_view_count": null,
            "_view_module": "@jupyter-widgets/controls",
            "_view_module_version": "1.4.0",
            "_view_name": "ProgressView",
            "bar_style": "success",
            "description": "Downloading",
            "description_tooltip": null,
            "layout": "IPY_MODEL_5317067303fd41ffab832c430a71677b",
            "max": 1649718,
            "min": 0,
            "orientation": "horizontal",
            "style": "IPY_MODEL_6c114fa1e75e45b38fd8af1acf05f0b0",
            "value": 1649718
          }
        },
        "7106a686f710436ba81e2ef78b3266e9": {
          "model_module": "@jupyter-widgets/controls",
          "model_name": "HTMLModel",
          "model_module_version": "1.4.0",
          "state": {
            "_dom_classes": [],
            "_model_module": "@jupyter-widgets/controls",
            "_model_module_version": "1.4.0",
            "_model_name": "HTMLModel",
            "_view_count": null,
            "_view_module": "@jupyter-widgets/controls",
            "_view_module_version": "1.4.0",
            "_view_name": "HTMLView",
            "description": "",
            "description_tooltip": null,
            "layout": "IPY_MODEL_19f94604e43944c89f5ea455740f1dd0",
            "placeholder": "​",
            "style": "IPY_MODEL_6c967622460a4197b44a27092d3de1d7",
            "value": "100% 1.65M/1.65M [00:01&lt;00:00, 963kB/s]"
          }
        },
        "76ced8c966034da5b82293ddfe67aa08": {
          "model_module": "@jupyter-widgets/base",
          "model_name": "LayoutModel",
          "model_module_version": "1.1.0",
          "state": {
            "_model_module": "@jupyter-widgets/base",
            "_model_module_version": "1.1.0",
            "_model_name": "LayoutModel",
            "_view_count": null,
            "_view_module": "@jupyter-widgets/base",
            "_view_module_version": "1.1.0",
            "_view_name": "LayoutView",
            "align_content": null,
            "align_items": null,
            "align_self": null,
            "border": null,
            "bottom": null,
            "display": null,
            "flex": null,
            "flex_flow": null,
            "grid_area": null,
            "grid_auto_columns": null,
            "grid_auto_flow": null,
            "grid_auto_rows": null,
            "grid_column": null,
            "grid_gap": null,
            "grid_row": null,
            "grid_template_areas": null,
            "grid_template_columns": null,
            "grid_template_rows": null,
            "height": null,
            "justify_content": null,
            "left": null,
            "margin": null,
            "max_height": null,
            "max_width": null,
            "min_height": null,
            "min_width": null,
            "order": null,
            "overflow": null,
            "overflow_x": null,
            "overflow_y": null,
            "padding": null,
            "right": null,
            "top": null,
            "visibility": null,
            "width": null
          }
        },
        "5317067303fd41ffab832c430a71677b": {
          "model_module": "@jupyter-widgets/base",
          "model_name": "LayoutModel",
          "model_module_version": "1.1.0",
          "state": {
            "_model_module": "@jupyter-widgets/base",
            "_model_module_version": "1.1.0",
            "_model_name": "LayoutModel",
            "_view_count": null,
            "_view_module": "@jupyter-widgets/base",
            "_view_module_version": "1.1.0",
            "_view_name": "LayoutView",
            "align_content": null,
            "align_items": null,
            "align_self": null,
            "border": null,
            "bottom": null,
            "display": null,
            "flex": null,
            "flex_flow": null,
            "grid_area": null,
            "grid_auto_columns": null,
            "grid_auto_flow": null,
            "grid_auto_rows": null,
            "grid_column": null,
            "grid_gap": null,
            "grid_row": null,
            "grid_template_areas": null,
            "grid_template_columns": null,
            "grid_template_rows": null,
            "height": null,
            "justify_content": null,
            "left": null,
            "margin": null,
            "max_height": null,
            "max_width": null,
            "min_height": null,
            "min_width": null,
            "order": null,
            "overflow": null,
            "overflow_x": null,
            "overflow_y": null,
            "padding": null,
            "right": null,
            "top": null,
            "visibility": null,
            "width": null
          }
        },
        "6c114fa1e75e45b38fd8af1acf05f0b0": {
          "model_module": "@jupyter-widgets/controls",
          "model_name": "ProgressStyleModel",
          "model_module_version": "1.4.0",
          "state": {
            "_model_module": "@jupyter-widgets/controls",
            "_model_module_version": "1.4.0",
            "_model_name": "ProgressStyleModel",
            "_view_count": null,
            "_view_module": "@jupyter-widgets/base",
            "_view_module_version": "1.1.0",
            "_view_name": "StyleView",
            "bar_color": null,
            "description_width": "initial"
          }
        },
        "19f94604e43944c89f5ea455740f1dd0": {
          "model_module": "@jupyter-widgets/base",
          "model_name": "LayoutModel",
          "model_module_version": "1.1.0",
          "state": {
            "_model_module": "@jupyter-widgets/base",
            "_model_module_version": "1.1.0",
            "_model_name": "LayoutModel",
            "_view_count": null,
            "_view_module": "@jupyter-widgets/base",
            "_view_module_version": "1.1.0",
            "_view_name": "LayoutView",
            "align_content": null,
            "align_items": null,
            "align_self": null,
            "border": null,
            "bottom": null,
            "display": null,
            "flex": null,
            "flex_flow": null,
            "grid_area": null,
            "grid_auto_columns": null,
            "grid_auto_flow": null,
            "grid_auto_rows": null,
            "grid_column": null,
            "grid_gap": null,
            "grid_row": null,
            "grid_template_areas": null,
            "grid_template_columns": null,
            "grid_template_rows": null,
            "height": null,
            "justify_content": null,
            "left": null,
            "margin": null,
            "max_height": null,
            "max_width": null,
            "min_height": null,
            "min_width": null,
            "order": null,
            "overflow": null,
            "overflow_x": null,
            "overflow_y": null,
            "padding": null,
            "right": null,
            "top": null,
            "visibility": null,
            "width": null
          }
        },
        "6c967622460a4197b44a27092d3de1d7": {
          "model_module": "@jupyter-widgets/controls",
          "model_name": "DescriptionStyleModel",
          "model_module_version": "1.4.0",
          "state": {
            "_model_module": "@jupyter-widgets/controls",
            "_model_module_version": "1.4.0",
            "_model_name": "DescriptionStyleModel",
            "_view_count": null,
            "_view_module": "@jupyter-widgets/base",
            "_view_module_version": "1.1.0",
            "_view_name": "StyleView",
            "description_width": ""
          }
        },
        "c9e979dfcad741ba816ca5daa5769874": {
          "model_module": "@jupyter-widgets/controls",
          "model_name": "HBoxModel",
          "model_module_version": "1.4.0",
          "state": {
            "_dom_classes": [],
            "_model_module": "@jupyter-widgets/controls",
            "_model_module_version": "1.4.0",
            "_model_name": "HBoxModel",
            "_view_count": null,
            "_view_module": "@jupyter-widgets/controls",
            "_view_module_version": "1.4.0",
            "_view_name": "HBoxView",
            "box_style": "",
            "children": [
              "IPY_MODEL_2d2ee06efa5e40fdb6886d002d4b7242",
              "IPY_MODEL_29320ee064644590a8b7eb6da718c8b8"
            ],
            "layout": "IPY_MODEL_6bf48acd63544ba090e1f689bf3f4870"
          }
        },
        "2d2ee06efa5e40fdb6886d002d4b7242": {
          "model_module": "@jupyter-widgets/controls",
          "model_name": "IntProgressModel",
          "model_module_version": "1.4.0",
          "state": {
            "_dom_classes": [],
            "_model_module": "@jupyter-widgets/controls",
            "_model_module_version": "1.4.0",
            "_model_name": "IntProgressModel",
            "_view_count": null,
            "_view_module": "@jupyter-widgets/controls",
            "_view_module_version": "1.4.0",
            "_view_name": "ProgressView",
            "bar_style": "success",
            "description": "Downloading",
            "description_tooltip": null,
            "layout": "IPY_MODEL_0c091358bcbf43478a3a17e53156b2ff",
            "max": 112,
            "min": 0,
            "orientation": "horizontal",
            "style": "IPY_MODEL_7f0e7dd8c14b49a6b512e6d416b738cd",
            "value": 112
          }
        },
        "29320ee064644590a8b7eb6da718c8b8": {
          "model_module": "@jupyter-widgets/controls",
          "model_name": "HTMLModel",
          "model_module_version": "1.4.0",
          "state": {
            "_dom_classes": [],
            "_model_module": "@jupyter-widgets/controls",
            "_model_module_version": "1.4.0",
            "_model_name": "HTMLModel",
            "_view_count": null,
            "_view_module": "@jupyter-widgets/controls",
            "_view_module_version": "1.4.0",
            "_view_name": "HTMLView",
            "description": "",
            "description_tooltip": null,
            "layout": "IPY_MODEL_f58a1fe396d5408fb72d713abd2ca6e7",
            "placeholder": "​",
            "style": "IPY_MODEL_868b1ecec4b44e49bf8e08393f645c71",
            "value": "100% 112/112 [00:00&lt;00:00, 1.16kB/s]"
          }
        },
        "6bf48acd63544ba090e1f689bf3f4870": {
          "model_module": "@jupyter-widgets/base",
          "model_name": "LayoutModel",
          "model_module_version": "1.1.0",
          "state": {
            "_model_module": "@jupyter-widgets/base",
            "_model_module_version": "1.1.0",
            "_model_name": "LayoutModel",
            "_view_count": null,
            "_view_module": "@jupyter-widgets/base",
            "_view_module_version": "1.1.0",
            "_view_name": "LayoutView",
            "align_content": null,
            "align_items": null,
            "align_self": null,
            "border": null,
            "bottom": null,
            "display": null,
            "flex": null,
            "flex_flow": null,
            "grid_area": null,
            "grid_auto_columns": null,
            "grid_auto_flow": null,
            "grid_auto_rows": null,
            "grid_column": null,
            "grid_gap": null,
            "grid_row": null,
            "grid_template_areas": null,
            "grid_template_columns": null,
            "grid_template_rows": null,
            "height": null,
            "justify_content": null,
            "left": null,
            "margin": null,
            "max_height": null,
            "max_width": null,
            "min_height": null,
            "min_width": null,
            "order": null,
            "overflow": null,
            "overflow_x": null,
            "overflow_y": null,
            "padding": null,
            "right": null,
            "top": null,
            "visibility": null,
            "width": null
          }
        },
        "0c091358bcbf43478a3a17e53156b2ff": {
          "model_module": "@jupyter-widgets/base",
          "model_name": "LayoutModel",
          "model_module_version": "1.1.0",
          "state": {
            "_model_module": "@jupyter-widgets/base",
            "_model_module_version": "1.1.0",
            "_model_name": "LayoutModel",
            "_view_count": null,
            "_view_module": "@jupyter-widgets/base",
            "_view_module_version": "1.1.0",
            "_view_name": "LayoutView",
            "align_content": null,
            "align_items": null,
            "align_self": null,
            "border": null,
            "bottom": null,
            "display": null,
            "flex": null,
            "flex_flow": null,
            "grid_area": null,
            "grid_auto_columns": null,
            "grid_auto_flow": null,
            "grid_auto_rows": null,
            "grid_column": null,
            "grid_gap": null,
            "grid_row": null,
            "grid_template_areas": null,
            "grid_template_columns": null,
            "grid_template_rows": null,
            "height": null,
            "justify_content": null,
            "left": null,
            "margin": null,
            "max_height": null,
            "max_width": null,
            "min_height": null,
            "min_width": null,
            "order": null,
            "overflow": null,
            "overflow_x": null,
            "overflow_y": null,
            "padding": null,
            "right": null,
            "top": null,
            "visibility": null,
            "width": null
          }
        },
        "7f0e7dd8c14b49a6b512e6d416b738cd": {
          "model_module": "@jupyter-widgets/controls",
          "model_name": "ProgressStyleModel",
          "model_module_version": "1.4.0",
          "state": {
            "_model_module": "@jupyter-widgets/controls",
            "_model_module_version": "1.4.0",
            "_model_name": "ProgressStyleModel",
            "_view_count": null,
            "_view_module": "@jupyter-widgets/base",
            "_view_module_version": "1.1.0",
            "_view_name": "StyleView",
            "bar_color": null,
            "description_width": "initial"
          }
        },
        "f58a1fe396d5408fb72d713abd2ca6e7": {
          "model_module": "@jupyter-widgets/base",
          "model_name": "LayoutModel",
          "model_module_version": "1.1.0",
          "state": {
            "_model_module": "@jupyter-widgets/base",
            "_model_module_version": "1.1.0",
            "_model_name": "LayoutModel",
            "_view_count": null,
            "_view_module": "@jupyter-widgets/base",
            "_view_module_version": "1.1.0",
            "_view_name": "LayoutView",
            "align_content": null,
            "align_items": null,
            "align_self": null,
            "border": null,
            "bottom": null,
            "display": null,
            "flex": null,
            "flex_flow": null,
            "grid_area": null,
            "grid_auto_columns": null,
            "grid_auto_flow": null,
            "grid_auto_rows": null,
            "grid_column": null,
            "grid_gap": null,
            "grid_row": null,
            "grid_template_areas": null,
            "grid_template_columns": null,
            "grid_template_rows": null,
            "height": null,
            "justify_content": null,
            "left": null,
            "margin": null,
            "max_height": null,
            "max_width": null,
            "min_height": null,
            "min_width": null,
            "order": null,
            "overflow": null,
            "overflow_x": null,
            "overflow_y": null,
            "padding": null,
            "right": null,
            "top": null,
            "visibility": null,
            "width": null
          }
        },
        "868b1ecec4b44e49bf8e08393f645c71": {
          "model_module": "@jupyter-widgets/controls",
          "model_name": "DescriptionStyleModel",
          "model_module_version": "1.4.0",
          "state": {
            "_model_module": "@jupyter-widgets/controls",
            "_model_module_version": "1.4.0",
            "_model_name": "DescriptionStyleModel",
            "_view_count": null,
            "_view_module": "@jupyter-widgets/base",
            "_view_module_version": "1.1.0",
            "_view_name": "StyleView",
            "description_width": ""
          }
        },
        "f3bbfceb18174487945316ec27d82f83": {
          "model_module": "@jupyter-widgets/controls",
          "model_name": "HBoxModel",
          "model_module_version": "1.4.0",
          "state": {
            "_dom_classes": [],
            "_model_module": "@jupyter-widgets/controls",
            "_model_module_version": "1.4.0",
            "_model_name": "HBoxModel",
            "_view_count": null,
            "_view_module": "@jupyter-widgets/controls",
            "_view_module_version": "1.4.0",
            "_view_name": "HBoxView",
            "box_style": "",
            "children": [
              "IPY_MODEL_4c5eb191460147e8bb4badbe35ca37f6",
              "IPY_MODEL_b0455531846a4e67a9fb5d45c725826e"
            ],
            "layout": "IPY_MODEL_25de9b734aa04c5994efd4fef1f0b331"
          }
        },
        "4c5eb191460147e8bb4badbe35ca37f6": {
          "model_module": "@jupyter-widgets/controls",
          "model_name": "IntProgressModel",
          "model_module_version": "1.4.0",
          "state": {
            "_dom_classes": [],
            "_model_module": "@jupyter-widgets/controls",
            "_model_module_version": "1.4.0",
            "_model_name": "IntProgressModel",
            "_view_count": null,
            "_view_module": "@jupyter-widgets/controls",
            "_view_module_version": "1.4.0",
            "_view_name": "ProgressView",
            "bar_style": "success",
            "description": "Downloading",
            "description_tooltip": null,
            "layout": "IPY_MODEL_876a9007e6324823bfd358efac03689f",
            "max": 2,
            "min": 0,
            "orientation": "horizontal",
            "style": "IPY_MODEL_0f9dce5ea484441fbb8e8f76621fd48d",
            "value": 2
          }
        },
        "b0455531846a4e67a9fb5d45c725826e": {
          "model_module": "@jupyter-widgets/controls",
          "model_name": "HTMLModel",
          "model_module_version": "1.4.0",
          "state": {
            "_dom_classes": [],
            "_model_module": "@jupyter-widgets/controls",
            "_model_module_version": "1.4.0",
            "_model_name": "HTMLModel",
            "_view_count": null,
            "_view_module": "@jupyter-widgets/controls",
            "_view_module_version": "1.4.0",
            "_view_name": "HTMLView",
            "description": "",
            "description_tooltip": null,
            "layout": "IPY_MODEL_d659e6badb9e4a7fbe31632324c40149",
            "placeholder": "​",
            "style": "IPY_MODEL_ec735c1535ed41f39bd9b8f5fe525a12",
            "value": "100% 2.00/2.00 [00:00&lt;00:00, 25.2B/s]"
          }
        },
        "25de9b734aa04c5994efd4fef1f0b331": {
          "model_module": "@jupyter-widgets/base",
          "model_name": "LayoutModel",
          "model_module_version": "1.1.0",
          "state": {
            "_model_module": "@jupyter-widgets/base",
            "_model_module_version": "1.1.0",
            "_model_name": "LayoutModel",
            "_view_count": null,
            "_view_module": "@jupyter-widgets/base",
            "_view_module_version": "1.1.0",
            "_view_name": "LayoutView",
            "align_content": null,
            "align_items": null,
            "align_self": null,
            "border": null,
            "bottom": null,
            "display": null,
            "flex": null,
            "flex_flow": null,
            "grid_area": null,
            "grid_auto_columns": null,
            "grid_auto_flow": null,
            "grid_auto_rows": null,
            "grid_column": null,
            "grid_gap": null,
            "grid_row": null,
            "grid_template_areas": null,
            "grid_template_columns": null,
            "grid_template_rows": null,
            "height": null,
            "justify_content": null,
            "left": null,
            "margin": null,
            "max_height": null,
            "max_width": null,
            "min_height": null,
            "min_width": null,
            "order": null,
            "overflow": null,
            "overflow_x": null,
            "overflow_y": null,
            "padding": null,
            "right": null,
            "top": null,
            "visibility": null,
            "width": null
          }
        },
        "876a9007e6324823bfd358efac03689f": {
          "model_module": "@jupyter-widgets/base",
          "model_name": "LayoutModel",
          "model_module_version": "1.1.0",
          "state": {
            "_model_module": "@jupyter-widgets/base",
            "_model_module_version": "1.1.0",
            "_model_name": "LayoutModel",
            "_view_count": null,
            "_view_module": "@jupyter-widgets/base",
            "_view_module_version": "1.1.0",
            "_view_name": "LayoutView",
            "align_content": null,
            "align_items": null,
            "align_self": null,
            "border": null,
            "bottom": null,
            "display": null,
            "flex": null,
            "flex_flow": null,
            "grid_area": null,
            "grid_auto_columns": null,
            "grid_auto_flow": null,
            "grid_auto_rows": null,
            "grid_column": null,
            "grid_gap": null,
            "grid_row": null,
            "grid_template_areas": null,
            "grid_template_columns": null,
            "grid_template_rows": null,
            "height": null,
            "justify_content": null,
            "left": null,
            "margin": null,
            "max_height": null,
            "max_width": null,
            "min_height": null,
            "min_width": null,
            "order": null,
            "overflow": null,
            "overflow_x": null,
            "overflow_y": null,
            "padding": null,
            "right": null,
            "top": null,
            "visibility": null,
            "width": null
          }
        },
        "0f9dce5ea484441fbb8e8f76621fd48d": {
          "model_module": "@jupyter-widgets/controls",
          "model_name": "ProgressStyleModel",
          "model_module_version": "1.4.0",
          "state": {
            "_model_module": "@jupyter-widgets/controls",
            "_model_module_version": "1.4.0",
            "_model_name": "ProgressStyleModel",
            "_view_count": null,
            "_view_module": "@jupyter-widgets/base",
            "_view_module_version": "1.1.0",
            "_view_name": "StyleView",
            "bar_color": null,
            "description_width": "initial"
          }
        },
        "d659e6badb9e4a7fbe31632324c40149": {
          "model_module": "@jupyter-widgets/base",
          "model_name": "LayoutModel",
          "model_module_version": "1.1.0",
          "state": {
            "_model_module": "@jupyter-widgets/base",
            "_model_module_version": "1.1.0",
            "_model_name": "LayoutModel",
            "_view_count": null,
            "_view_module": "@jupyter-widgets/base",
            "_view_module_version": "1.1.0",
            "_view_name": "LayoutView",
            "align_content": null,
            "align_items": null,
            "align_self": null,
            "border": null,
            "bottom": null,
            "display": null,
            "flex": null,
            "flex_flow": null,
            "grid_area": null,
            "grid_auto_columns": null,
            "grid_auto_flow": null,
            "grid_auto_rows": null,
            "grid_column": null,
            "grid_gap": null,
            "grid_row": null,
            "grid_template_areas": null,
            "grid_template_columns": null,
            "grid_template_rows": null,
            "height": null,
            "justify_content": null,
            "left": null,
            "margin": null,
            "max_height": null,
            "max_width": null,
            "min_height": null,
            "min_width": null,
            "order": null,
            "overflow": null,
            "overflow_x": null,
            "overflow_y": null,
            "padding": null,
            "right": null,
            "top": null,
            "visibility": null,
            "width": null
          }
        },
        "ec735c1535ed41f39bd9b8f5fe525a12": {
          "model_module": "@jupyter-widgets/controls",
          "model_name": "DescriptionStyleModel",
          "model_module_version": "1.4.0",
          "state": {
            "_model_module": "@jupyter-widgets/controls",
            "_model_module_version": "1.4.0",
            "_model_name": "DescriptionStyleModel",
            "_view_count": null,
            "_view_module": "@jupyter-widgets/base",
            "_view_module_version": "1.1.0",
            "_view_name": "StyleView",
            "description_width": ""
          }
        },
        "0ae5aa286eb34eaab71b048d71ba428f": {
          "model_module": "@jupyter-widgets/controls",
          "model_name": "HBoxModel",
          "model_module_version": "1.4.0",
          "state": {
            "_dom_classes": [],
            "_model_module": "@jupyter-widgets/controls",
            "_model_module_version": "1.4.0",
            "_model_name": "HBoxModel",
            "_view_count": null,
            "_view_module": "@jupyter-widgets/controls",
            "_view_module_version": "1.4.0",
            "_view_name": "HBoxView",
            "box_style": "",
            "children": [
              "IPY_MODEL_d6fb5629f82840f4bac1c9887e0a893d",
              "IPY_MODEL_7816ade1d3a84522802e39aff537d732"
            ],
            "layout": "IPY_MODEL_345fd3c9959a42a7aebf9974a229d114"
          }
        },
        "d6fb5629f82840f4bac1c9887e0a893d": {
          "model_module": "@jupyter-widgets/controls",
          "model_name": "IntProgressModel",
          "model_module_version": "1.4.0",
          "state": {
            "_dom_classes": [],
            "_model_module": "@jupyter-widgets/controls",
            "_model_module_version": "1.4.0",
            "_model_name": "IntProgressModel",
            "_view_count": null,
            "_view_module": "@jupyter-widgets/controls",
            "_view_module_version": "1.4.0",
            "_view_name": "ProgressView",
            "bar_style": "success",
            "description": "Downloading",
            "description_tooltip": null,
            "layout": "IPY_MODEL_334f4f6182db402ab40967dce4a10506",
            "max": 642,
            "min": 0,
            "orientation": "horizontal",
            "style": "IPY_MODEL_d93caa8c7a1645f7b19efce0315a0a61",
            "value": 642
          }
        },
        "7816ade1d3a84522802e39aff537d732": {
          "model_module": "@jupyter-widgets/controls",
          "model_name": "HTMLModel",
          "model_module_version": "1.4.0",
          "state": {
            "_dom_classes": [],
            "_model_module": "@jupyter-widgets/controls",
            "_model_module_version": "1.4.0",
            "_model_name": "HTMLModel",
            "_view_count": null,
            "_view_module": "@jupyter-widgets/controls",
            "_view_module_version": "1.4.0",
            "_view_name": "HTMLView",
            "description": "",
            "description_tooltip": null,
            "layout": "IPY_MODEL_4bab1c8a8f9a471b9c28abc018ba0012",
            "placeholder": "​",
            "style": "IPY_MODEL_f9a2477c5ebb4c2e9f61d882b97c7914",
            "value": "100% 642/642 [00:00&lt;00:00, 8.56kB/s]"
          }
        },
        "345fd3c9959a42a7aebf9974a229d114": {
          "model_module": "@jupyter-widgets/base",
          "model_name": "LayoutModel",
          "model_module_version": "1.1.0",
          "state": {
            "_model_module": "@jupyter-widgets/base",
            "_model_module_version": "1.1.0",
            "_model_name": "LayoutModel",
            "_view_count": null,
            "_view_module": "@jupyter-widgets/base",
            "_view_module_version": "1.1.0",
            "_view_name": "LayoutView",
            "align_content": null,
            "align_items": null,
            "align_self": null,
            "border": null,
            "bottom": null,
            "display": null,
            "flex": null,
            "flex_flow": null,
            "grid_area": null,
            "grid_auto_columns": null,
            "grid_auto_flow": null,
            "grid_auto_rows": null,
            "grid_column": null,
            "grid_gap": null,
            "grid_row": null,
            "grid_template_areas": null,
            "grid_template_columns": null,
            "grid_template_rows": null,
            "height": null,
            "justify_content": null,
            "left": null,
            "margin": null,
            "max_height": null,
            "max_width": null,
            "min_height": null,
            "min_width": null,
            "order": null,
            "overflow": null,
            "overflow_x": null,
            "overflow_y": null,
            "padding": null,
            "right": null,
            "top": null,
            "visibility": null,
            "width": null
          }
        },
        "334f4f6182db402ab40967dce4a10506": {
          "model_module": "@jupyter-widgets/base",
          "model_name": "LayoutModel",
          "model_module_version": "1.1.0",
          "state": {
            "_model_module": "@jupyter-widgets/base",
            "_model_module_version": "1.1.0",
            "_model_name": "LayoutModel",
            "_view_count": null,
            "_view_module": "@jupyter-widgets/base",
            "_view_module_version": "1.1.0",
            "_view_name": "LayoutView",
            "align_content": null,
            "align_items": null,
            "align_self": null,
            "border": null,
            "bottom": null,
            "display": null,
            "flex": null,
            "flex_flow": null,
            "grid_area": null,
            "grid_auto_columns": null,
            "grid_auto_flow": null,
            "grid_auto_rows": null,
            "grid_column": null,
            "grid_gap": null,
            "grid_row": null,
            "grid_template_areas": null,
            "grid_template_columns": null,
            "grid_template_rows": null,
            "height": null,
            "justify_content": null,
            "left": null,
            "margin": null,
            "max_height": null,
            "max_width": null,
            "min_height": null,
            "min_width": null,
            "order": null,
            "overflow": null,
            "overflow_x": null,
            "overflow_y": null,
            "padding": null,
            "right": null,
            "top": null,
            "visibility": null,
            "width": null
          }
        },
        "d93caa8c7a1645f7b19efce0315a0a61": {
          "model_module": "@jupyter-widgets/controls",
          "model_name": "ProgressStyleModel",
          "model_module_version": "1.4.0",
          "state": {
            "_model_module": "@jupyter-widgets/controls",
            "_model_module_version": "1.4.0",
            "_model_name": "ProgressStyleModel",
            "_view_count": null,
            "_view_module": "@jupyter-widgets/base",
            "_view_module_version": "1.1.0",
            "_view_name": "StyleView",
            "bar_color": null,
            "description_width": "initial"
          }
        },
        "4bab1c8a8f9a471b9c28abc018ba0012": {
          "model_module": "@jupyter-widgets/base",
          "model_name": "LayoutModel",
          "model_module_version": "1.1.0",
          "state": {
            "_model_module": "@jupyter-widgets/base",
            "_model_module_version": "1.1.0",
            "_model_name": "LayoutModel",
            "_view_count": null,
            "_view_module": "@jupyter-widgets/base",
            "_view_module_version": "1.1.0",
            "_view_name": "LayoutView",
            "align_content": null,
            "align_items": null,
            "align_self": null,
            "border": null,
            "bottom": null,
            "display": null,
            "flex": null,
            "flex_flow": null,
            "grid_area": null,
            "grid_auto_columns": null,
            "grid_auto_flow": null,
            "grid_auto_rows": null,
            "grid_column": null,
            "grid_gap": null,
            "grid_row": null,
            "grid_template_areas": null,
            "grid_template_columns": null,
            "grid_template_rows": null,
            "height": null,
            "justify_content": null,
            "left": null,
            "margin": null,
            "max_height": null,
            "max_width": null,
            "min_height": null,
            "min_width": null,
            "order": null,
            "overflow": null,
            "overflow_x": null,
            "overflow_y": null,
            "padding": null,
            "right": null,
            "top": null,
            "visibility": null,
            "width": null
          }
        },
        "f9a2477c5ebb4c2e9f61d882b97c7914": {
          "model_module": "@jupyter-widgets/controls",
          "model_name": "DescriptionStyleModel",
          "model_module_version": "1.4.0",
          "state": {
            "_model_module": "@jupyter-widgets/controls",
            "_model_module_version": "1.4.0",
            "_model_name": "DescriptionStyleModel",
            "_view_count": null,
            "_view_module": "@jupyter-widgets/base",
            "_view_module_version": "1.1.0",
            "_view_name": "StyleView",
            "description_width": ""
          }
        },
        "130c48f58e5c4ea783d20c2a8ad6f03e": {
          "model_module": "@jupyter-widgets/controls",
          "model_name": "HBoxModel",
          "model_module_version": "1.4.0",
          "state": {
            "_dom_classes": [],
            "_model_module": "@jupyter-widgets/controls",
            "_model_module_version": "1.4.0",
            "_model_name": "HBoxModel",
            "_view_count": null,
            "_view_module": "@jupyter-widgets/controls",
            "_view_module_version": "1.4.0",
            "_view_name": "HBoxView",
            "box_style": "",
            "children": [
              "IPY_MODEL_f9b59e35ec944b4da673f9f9e0058d37",
              "IPY_MODEL_0676f14cb85c41d19da0c9d2d4af85c7"
            ],
            "layout": "IPY_MODEL_1fce8069fa404175882dc9f72e619879"
          }
        },
        "f9b59e35ec944b4da673f9f9e0058d37": {
          "model_module": "@jupyter-widgets/controls",
          "model_name": "IntProgressModel",
          "model_module_version": "1.4.0",
          "state": {
            "_dom_classes": [],
            "_model_module": "@jupyter-widgets/controls",
            "_model_module_version": "1.4.0",
            "_model_name": "IntProgressModel",
            "_view_count": null,
            "_view_module": "@jupyter-widgets/controls",
            "_view_module_version": "1.4.0",
            "_view_name": "ProgressView",
            "bar_style": "success",
            "description": "Downloading",
            "description_tooltip": null,
            "layout": "IPY_MODEL_ab0aac15d8ce404294f369f17da9adb2",
            "max": 711456796,
            "min": 0,
            "orientation": "horizontal",
            "style": "IPY_MODEL_e7d8e92f8ae84ce58d3cb62c60502c5c",
            "value": 711456796
          }
        },
        "0676f14cb85c41d19da0c9d2d4af85c7": {
          "model_module": "@jupyter-widgets/controls",
          "model_name": "HTMLModel",
          "model_module_version": "1.4.0",
          "state": {
            "_dom_classes": [],
            "_model_module": "@jupyter-widgets/controls",
            "_model_module_version": "1.4.0",
            "_model_name": "HTMLModel",
            "_view_count": null,
            "_view_module": "@jupyter-widgets/controls",
            "_view_module_version": "1.4.0",
            "_view_name": "HTMLView",
            "description": "",
            "description_tooltip": null,
            "layout": "IPY_MODEL_0077e2c0ec6d4c2f9cd97ce16920448d",
            "placeholder": "​",
            "style": "IPY_MODEL_f5330c49d118429e87d92ab4ccbb9b38",
            "value": "100% 711M/711M [00:55&lt;00:00, 12.9MB/s]"
          }
        },
        "1fce8069fa404175882dc9f72e619879": {
          "model_module": "@jupyter-widgets/base",
          "model_name": "LayoutModel",
          "model_module_version": "1.1.0",
          "state": {
            "_model_module": "@jupyter-widgets/base",
            "_model_module_version": "1.1.0",
            "_model_name": "LayoutModel",
            "_view_count": null,
            "_view_module": "@jupyter-widgets/base",
            "_view_module_version": "1.1.0",
            "_view_name": "LayoutView",
            "align_content": null,
            "align_items": null,
            "align_self": null,
            "border": null,
            "bottom": null,
            "display": null,
            "flex": null,
            "flex_flow": null,
            "grid_area": null,
            "grid_auto_columns": null,
            "grid_auto_flow": null,
            "grid_auto_rows": null,
            "grid_column": null,
            "grid_gap": null,
            "grid_row": null,
            "grid_template_areas": null,
            "grid_template_columns": null,
            "grid_template_rows": null,
            "height": null,
            "justify_content": null,
            "left": null,
            "margin": null,
            "max_height": null,
            "max_width": null,
            "min_height": null,
            "min_width": null,
            "order": null,
            "overflow": null,
            "overflow_x": null,
            "overflow_y": null,
            "padding": null,
            "right": null,
            "top": null,
            "visibility": null,
            "width": null
          }
        },
        "ab0aac15d8ce404294f369f17da9adb2": {
          "model_module": "@jupyter-widgets/base",
          "model_name": "LayoutModel",
          "model_module_version": "1.1.0",
          "state": {
            "_model_module": "@jupyter-widgets/base",
            "_model_module_version": "1.1.0",
            "_model_name": "LayoutModel",
            "_view_count": null,
            "_view_module": "@jupyter-widgets/base",
            "_view_module_version": "1.1.0",
            "_view_name": "LayoutView",
            "align_content": null,
            "align_items": null,
            "align_self": null,
            "border": null,
            "bottom": null,
            "display": null,
            "flex": null,
            "flex_flow": null,
            "grid_area": null,
            "grid_auto_columns": null,
            "grid_auto_flow": null,
            "grid_auto_rows": null,
            "grid_column": null,
            "grid_gap": null,
            "grid_row": null,
            "grid_template_areas": null,
            "grid_template_columns": null,
            "grid_template_rows": null,
            "height": null,
            "justify_content": null,
            "left": null,
            "margin": null,
            "max_height": null,
            "max_width": null,
            "min_height": null,
            "min_width": null,
            "order": null,
            "overflow": null,
            "overflow_x": null,
            "overflow_y": null,
            "padding": null,
            "right": null,
            "top": null,
            "visibility": null,
            "width": null
          }
        },
        "e7d8e92f8ae84ce58d3cb62c60502c5c": {
          "model_module": "@jupyter-widgets/controls",
          "model_name": "ProgressStyleModel",
          "model_module_version": "1.4.0",
          "state": {
            "_model_module": "@jupyter-widgets/controls",
            "_model_module_version": "1.4.0",
            "_model_name": "ProgressStyleModel",
            "_view_count": null,
            "_view_module": "@jupyter-widgets/base",
            "_view_module_version": "1.1.0",
            "_view_name": "StyleView",
            "bar_color": null,
            "description_width": "initial"
          }
        },
        "0077e2c0ec6d4c2f9cd97ce16920448d": {
          "model_module": "@jupyter-widgets/base",
          "model_name": "LayoutModel",
          "model_module_version": "1.1.0",
          "state": {
            "_model_module": "@jupyter-widgets/base",
            "_model_module_version": "1.1.0",
            "_model_name": "LayoutModel",
            "_view_count": null,
            "_view_module": "@jupyter-widgets/base",
            "_view_module_version": "1.1.0",
            "_view_name": "LayoutView",
            "align_content": null,
            "align_items": null,
            "align_self": null,
            "border": null,
            "bottom": null,
            "display": null,
            "flex": null,
            "flex_flow": null,
            "grid_area": null,
            "grid_auto_columns": null,
            "grid_auto_flow": null,
            "grid_auto_rows": null,
            "grid_column": null,
            "grid_gap": null,
            "grid_row": null,
            "grid_template_areas": null,
            "grid_template_columns": null,
            "grid_template_rows": null,
            "height": null,
            "justify_content": null,
            "left": null,
            "margin": null,
            "max_height": null,
            "max_width": null,
            "min_height": null,
            "min_width": null,
            "order": null,
            "overflow": null,
            "overflow_x": null,
            "overflow_y": null,
            "padding": null,
            "right": null,
            "top": null,
            "visibility": null,
            "width": null
          }
        },
        "f5330c49d118429e87d92ab4ccbb9b38": {
          "model_module": "@jupyter-widgets/controls",
          "model_name": "DescriptionStyleModel",
          "model_module_version": "1.4.0",
          "state": {
            "_model_module": "@jupyter-widgets/controls",
            "_model_module_version": "1.4.0",
            "_model_name": "DescriptionStyleModel",
            "_view_count": null,
            "_view_module": "@jupyter-widgets/base",
            "_view_module_version": "1.1.0",
            "_view_name": "StyleView",
            "description_width": ""
          }
        }
      }
    }
  },
  "cells": [
    {
      "cell_type": "markdown",
      "metadata": {
        "id": "view-in-github",
        "colab_type": "text"
      },
      "source": [
        "<a href=\"https://colab.research.google.com/github/alla-g/toxicity-detection-thesis/blob/main/testing_models.ipynb\" target=\"_parent\"><img src=\"https://colab.research.google.com/assets/colab-badge.svg\" alt=\"Open In Colab\"/></a>"
      ]
    },
    {
      "cell_type": "markdown",
      "source": [
        "# Testing available toxicity detection models"
      ],
      "metadata": {
        "id": "rSFYguTUavNL"
      }
    },
    {
      "cell_type": "markdown",
      "source": [
        "## Получение данных"
      ],
      "metadata": {
        "id": "YmFYqIiUa14m"
      }
    },
    {
      "cell_type": "code",
      "source": [
        "%cd /content"
      ],
      "metadata": {
        "colab": {
          "base_uri": "https://localhost:8080/"
        },
        "id": "L05N8SlrChpF",
        "outputId": "fe153149-8fb9-4ecb-dbb0-fa889761fb71"
      },
      "execution_count": null,
      "outputs": [
        {
          "output_type": "stream",
          "name": "stdout",
          "text": [
            "/content\n"
          ]
        }
      ]
    },
    {
      "cell_type": "code",
      "source": [
        "! pwd"
      ],
      "metadata": {
        "colab": {
          "base_uri": "https://localhost:8080/"
        },
        "id": "g4sx-YyHpoAE",
        "outputId": "255a96be-b64d-43cc-cfac-89b653dd042e"
      },
      "execution_count": null,
      "outputs": [
        {
          "output_type": "stream",
          "name": "stdout",
          "text": [
            "/content\n"
          ]
        }
      ]
    },
    {
      "cell_type": "code",
      "source": [
        "!git clone https://github.com/alla-g/toxicity-detection-thesis.git"
      ],
      "metadata": {
        "id": "mS6LiB6eEgj4"
      },
      "execution_count": null,
      "outputs": []
    },
    {
      "cell_type": "code",
      "source": [
        "import re\n",
        "import pandas as pd"
      ],
      "metadata": {
        "id": "AkVISFpCbIzv"
      },
      "execution_count": null,
      "outputs": []
    },
    {
      "cell_type": "code",
      "source": [
        "uncorrected_data = pd.read_csv('toxicity-detection-thesis/hypothesis_testing_data/uncorrected_data_NEW.tsv', sep='\\t')\n",
        "corrected_data = pd.read_csv('toxicity-detection-thesis/hypothesis_testing_data/corrected_data_NEW.tsv', sep='\\t')\n",
        "processed_data = pd.read_csv('toxicity-detection-thesis/hypothesis_testing_data/preprocessed_data_NEW.tsv', sep='\\t')"
      ],
      "metadata": {
        "id": "gq4F39hEYTz0"
      },
      "execution_count": null,
      "outputs": []
    },
    {
      "cell_type": "markdown",
      "source": [
        "Удалить ссылку на того, кому отвечают:"
      ],
      "metadata": {
        "id": "NVNm_pTH0XwJ"
      }
    },
    {
      "cell_type": "code",
      "source": [
        "pattern = re.compile('^\\[.+\\], ')\n",
        "uncorrected_data['text'] = uncorrected_data['comments'].str.replace(pattern, '', regex=True)\n",
        "corrected_data['text'] = corrected_data['corrected'].str.replace(pattern, '', regex=True)\n",
        "processed_data['text'] = processed_data['preprocessed'].str.replace(pattern, '', regex=True)"
      ],
      "metadata": {
        "id": "xjOdrT2J0Ufu"
      },
      "execution_count": null,
      "outputs": []
    },
    {
      "cell_type": "markdown",
      "source": [
        "Распределение классов:"
      ],
      "metadata": {
        "id": "gfCvvBspMe_k"
      }
    },
    {
      "cell_type": "code",
      "source": [
        "uncorrected_data['toxicity'].value_counts()"
      ],
      "metadata": {
        "colab": {
          "base_uri": "https://localhost:8080/"
        },
        "id": "btGeVKfgia8O",
        "outputId": "48ea3724-c1f6-49c8-e790-3156e34e6c80"
      },
      "execution_count": null,
      "outputs": [
        {
          "output_type": "execute_result",
          "data": {
            "text/plain": [
              "1    90\n",
              "0    36\n",
              "Name: toxicity, dtype: int64"
            ]
          },
          "metadata": {},
          "execution_count": 7
        }
      ]
    },
    {
      "cell_type": "markdown",
      "source": [
        "## Обзор моделей\n",
        "Перечислены все существующие модели и их результаты, недоступные для воспроизведения перечёркнуты\n",
        "\n",
        "**Нейросетевые:**\n",
        "* RuBERT (Smetanin, 2020) `0.922 F-score`.  \n",
        "Модель **доступна** на [huggingface](https://huggingface.co/sismetanin/rubert-toxic-pikabu-2ch)\n",
        "* ~~RuBERT (Saitov & Derczynski, 2021) `0.85 F-score`.  \n",
        "Обученная модель недоступна, данные есть, можно взять их и учить заново - но не указаны гиперпараметры~~\n",
        "* ~~CNN (Potapova & Gordeev, 2016) `0.667 accuracy`.  \n",
        "Модель недоступна, данные недоступны, есть описание в статье~~\n",
        "* RuBERT (Dale, n.d.) `no metrics`  \n",
        "Модель **доступна** на [huggingface](https://huggingface.co/cointegrated/rubert-tiny-toxicity)\n",
        "* wCNN + USE (Barsukov, 2021) `0.872 F-score`  \n",
        "Модель **доступна** в питоновском модуле [toxicity](https://pypi.org/project/toxicity/)\n",
        "\n",
        "**Классическое МО**:\n",
        "* MNB (Smetanin, 2020) `0.832 F-score`  \n",
        "Есть данные и параметры, можно обучить снова\n",
        "* SVM (Saitov & Derczynski, 2021) `0.88 F-score`  \n",
        "Для этого доступен [колаб](https://colab.research.google.com/drive/1slSZpA_OHZQgz4R4GzqVFdbVhWYz6aEn?usp=sharing) с препроцессингом и обучением\n",
        "* ~~Random Forest (Potapova & Gordeev, 2016) `0.591 accuracy`  \n",
        "Данных нет~~\n",
        "* LogReg (Barsukov, 2021) `0.781 F-score`  \n",
        "Тетрадка с кодом **доступна** по [ссылке](https://github.com/nsbarsukov/toxic-comments-detector)"
      ],
      "metadata": {
        "id": "Z1Yg-fqbdVF1"
      }
    },
    {
      "cell_type": "markdown",
      "source": [
        "### Нейросетевые"
      ],
      "metadata": {
        "id": "JCiyIfKqLgdD"
      }
    },
    {
      "cell_type": "markdown",
      "source": [
        "#### RuBERT (Smetanin, 2020)\n",
        "`0.922 F-score`.  \n",
        "Модель доступна на [huggingface](https://huggingface.co/sismetanin/rubert-toxic-pikabu-2ch)"
      ],
      "metadata": {
        "id": "WZs0kFCisrf-"
      }
    },
    {
      "cell_type": "code",
      "source": [
        "! pip install transformers"
      ],
      "metadata": {
        "id": "rZN4kO8fuDdE",
        "colab": {
          "base_uri": "https://localhost:8080/"
        },
        "outputId": "10f394d7-0948-477d-a430-d56894ddfd45"
      },
      "execution_count": null,
      "outputs": [
        {
          "output_type": "stream",
          "name": "stdout",
          "text": [
            "\u001b[33mWARNING: Ignoring invalid distribution -ensorflow (/usr/local/lib/python3.7/dist-packages)\u001b[0m\n",
            "\u001b[33mWARNING: Ignoring invalid distribution -ensorflow (/usr/local/lib/python3.7/dist-packages)\u001b[0m\n",
            "Requirement already satisfied: transformers in /usr/local/lib/python3.7/dist-packages (2.8.0)\n",
            "Requirement already satisfied: boto3 in /usr/local/lib/python3.7/dist-packages (from transformers) (1.23.5)\n",
            "Requirement already satisfied: tokenizers==0.5.2 in /usr/local/lib/python3.7/dist-packages (from transformers) (0.5.2)\n",
            "Requirement already satisfied: tqdm>=4.27 in /usr/local/lib/python3.7/dist-packages (from transformers) (4.30.0)\n",
            "Requirement already satisfied: regex!=2019.12.17 in /usr/local/lib/python3.7/dist-packages (from transformers) (2019.12.20)\n",
            "Requirement already satisfied: requests in /usr/local/lib/python3.7/dist-packages (from transformers) (2.23.0)\n",
            "Requirement already satisfied: filelock in /usr/local/lib/python3.7/dist-packages (from transformers) (3.7.0)\n",
            "Requirement already satisfied: numpy in /usr/local/lib/python3.7/dist-packages (from transformers) (1.18.1)\n",
            "Requirement already satisfied: sentencepiece in /usr/local/lib/python3.7/dist-packages (from transformers) (0.1.96)\n",
            "Requirement already satisfied: sacremoses in /usr/local/lib/python3.7/dist-packages (from transformers) (0.0.53)\n",
            "Requirement already satisfied: jmespath<2.0.0,>=0.7.1 in /usr/local/lib/python3.7/dist-packages (from boto3->transformers) (1.0.0)\n",
            "Requirement already satisfied: botocore<1.27.0,>=1.26.5 in /usr/local/lib/python3.7/dist-packages (from boto3->transformers) (1.26.5)\n",
            "Requirement already satisfied: s3transfer<0.6.0,>=0.5.0 in /usr/local/lib/python3.7/dist-packages (from boto3->transformers) (0.5.2)\n",
            "Requirement already satisfied: urllib3<1.27,>=1.25.4 in /usr/local/lib/python3.7/dist-packages (from botocore<1.27.0,>=1.26.5->boto3->transformers) (1.25.11)\n",
            "Requirement already satisfied: python-dateutil<3.0.0,>=2.1 in /usr/local/lib/python3.7/dist-packages (from botocore<1.27.0,>=1.26.5->boto3->transformers) (2.8.2)\n",
            "Requirement already satisfied: six>=1.5 in /usr/local/lib/python3.7/dist-packages (from python-dateutil<3.0.0,>=2.1->botocore<1.27.0,>=1.26.5->boto3->transformers) (1.15.0)\n",
            "Requirement already satisfied: idna<3,>=2.5 in /usr/local/lib/python3.7/dist-packages (from requests->transformers) (2.10)\n",
            "Requirement already satisfied: certifi>=2017.4.17 in /usr/local/lib/python3.7/dist-packages (from requests->transformers) (2021.10.8)\n",
            "Requirement already satisfied: chardet<4,>=3.0.2 in /usr/local/lib/python3.7/dist-packages (from requests->transformers) (3.0.4)\n",
            "Requirement already satisfied: joblib in /usr/local/lib/python3.7/dist-packages (from sacremoses->transformers) (0.13.2)\n",
            "Requirement already satisfied: click in /usr/local/lib/python3.7/dist-packages (from sacremoses->transformers) (7.1.2)\n",
            "\u001b[33mWARNING: Ignoring invalid distribution -ensorflow (/usr/local/lib/python3.7/dist-packages)\u001b[0m\n"
          ]
        }
      ]
    },
    {
      "cell_type": "code",
      "source": [
        "import torch\n",
        "import numpy as np\n",
        "import seaborn as sns\n",
        "import matplotlib.pyplot as plt\n",
        "\n",
        "from transformers import AutoTokenizer, AutoModelForSequenceClassification, \\\n",
        "TextClassificationPipeline\n",
        "from sklearn.metrics import precision_recall_fscore_support, accuracy_score, \\\n",
        "confusion_matrix\n",
        "\n",
        "RANDOM_SEED = 42\n",
        "np.random.seed(RANDOM_SEED)\n",
        "torch.manual_seed(RANDOM_SEED)"
      ],
      "metadata": {
        "id": "ZXxfRHS-uU0V",
        "colab": {
          "base_uri": "https://localhost:8080/"
        },
        "outputId": "86d4f7f9-ae28-4788-c8a8-e63674125f06"
      },
      "execution_count": null,
      "outputs": [
        {
          "output_type": "execute_result",
          "data": {
            "text/plain": [
              "<torch._C.Generator at 0x7fbb175333d0>"
            ]
          },
          "metadata": {},
          "execution_count": 8
        }
      ]
    },
    {
      "cell_type": "code",
      "source": [
        "device = torch.device(\"cuda:0\" if torch.cuda.is_available() else \"cpu\")\n",
        "device"
      ],
      "metadata": {
        "colab": {
          "base_uri": "https://localhost:8080/"
        },
        "id": "a37d90SR8S2_",
        "outputId": "fe17c1a4-b10c-4668-a3b2-203bed9bdaa2"
      },
      "execution_count": null,
      "outputs": [
        {
          "output_type": "execute_result",
          "data": {
            "text/plain": [
              "device(type='cuda', index=0)"
            ]
          },
          "metadata": {},
          "execution_count": 9
        }
      ]
    },
    {
      "cell_type": "code",
      "source": [
        "def plot_matrix(golds, preds):\n",
        "    \"\"\"\n",
        "    plots confusion matrix\n",
        "    \"\"\"\n",
        "    cm = confusion_matrix(golds, preds)\n",
        "    ax = sns.heatmap(cm, annot=True, cmap='Blues')\n",
        "\n",
        "    ax.set_title('Confusion Matrix');\n",
        "    ax.set_xlabel('\\nPredicted Values')\n",
        "    ax.set_ylabel('True Values ')\n",
        "\n",
        "    ax.xaxis.set_ticklabels(['Not toxic','Toxic'])\n",
        "    ax.yaxis.set_ticklabels(['Not toxic','Toxic'])\n",
        "\n",
        "    plt.show()"
      ],
      "metadata": {
        "id": "VOfTXq8A_awO"
      },
      "execution_count": null,
      "outputs": []
    },
    {
      "cell_type": "code",
      "source": [
        "def save_predictions(uncor, cor, proc, modelname):\n",
        "    \"\"\"\n",
        "    saves all predictions of one model to file\n",
        "    \"\"\"\n",
        "    df = pd.DataFrame({'true_label': uncor['true_labels'],\n",
        "                       'uncorrected_text': uncor['text'],\n",
        "                       'pred_on_uncor': uncor['predicted'],\n",
        "                       'corrected_text': cor['text'],\n",
        "                       'pred_on_cor': cor['predicted'],\n",
        "                       'processed_text': proc['text'],\n",
        "                       'pred_on_proc': proc['predicted']})\n",
        "    df.to_csv(f'{modelname}.tsv', sep='\\t', index=False)\n",
        "    print(f'{modelname} data saved successfully')"
      ],
      "metadata": {
        "id": "Ltle38rYzqyP"
      },
      "execution_count": null,
      "outputs": []
    },
    {
      "cell_type": "code",
      "source": [
        "rubert_smetanin_tokenizer = AutoTokenizer.from_pretrained('sismetanin/rubert-toxic-pikabu-2ch')\n",
        "rubert_smetanin_model = AutoModelForSequenceClassification.from_pretrained('sismetanin/rubert-toxic-pikabu-2ch')"
      ],
      "metadata": {
        "colab": {
          "base_uri": "https://localhost:8080/",
          "height": 205,
          "referenced_widgets": [
            "31a3908f1625496588c17d2e5e571760",
            "bcbdcd36235b4423927fb70016281f81",
            "cbe44e4cf01c4f8dac5460fea10f2532",
            "2014d9a8b1704d03bcdf604ba88add65",
            "1111eb10903242c299a0e66607349697",
            "704e18e64a514e59a761c7bc24e98216",
            "8f018ca66d274939b802e06707b4a571",
            "aaf57f5eebe74336919101754ef15ed3",
            "66bc626b4bab41e0b00783acc8277dcf",
            "bc0fbe167c2843a7bc2b0b2306bbd1ba",
            "71ef9690fe104dbb9747c6441bbc9f50",
            "1470f99980524a269bbb3e385afcde61",
            "02bcbfd230a04dcea8cd60bc62e8003b",
            "76a0ddee6f984fd083b1cd6c6233eff1",
            "bd63f87c93cd4099a9e713b8f51ef954",
            "5b1cce7b6f4347769d12b527f6e13cc8",
            "026b97aa5a9d429fa7ec2cf875ded0bf",
            "206d7c5e6f374ee4bdaa9d34f2db64cb",
            "154a8f8c737449d7903fa7892c928248",
            "ae0d22c8b2fc433f8a88c607f32da619",
            "98987358fb6d49fda1464225e36004d1",
            "7c993ca9fc8a451ca32a22d2a5372947",
            "c1c6aae2d24041939b5638618039c00e",
            "2429789703b54b97a873a15c584f9385",
            "d5464fc4477c4f1b97f7cf37d77b16b8",
            "c3581ec962a54da6856dba883a5256f4",
            "5513133a42704945b2d76b5f10358ec6",
            "c93861cae47b48a2b95e4a754c2ccdea",
            "b1a4cb7de76f43b794342165a8e6afc7",
            "54412a3d63224204ad95c3ae08c0584a",
            "c7a747b135264256a4e8d35389ebf6f8",
            "9e06a65182c14889825d7c2157badf99",
            "7b2c7a54e99645e689e36d60be92ccac",
            "23739e185a0b4ced8c6e2deb37076089",
            "484e5b614dfe4e7cbaba316ce3ebf975",
            "836065283be64f228be9da2f4ee3d98b",
            "3b92925ec2a74e3db5063598212a0e15",
            "41e3f1d6d89b4de1b680261a3b47b14d",
            "d641bfef0d054a07a10f9802865aad52",
            "a18764e899454ac79c2a968785c7a1d8",
            "2fd11e7a928c4df082619ad0b9e6b18e",
            "c91fc375b06f44a989c57b362ef3c884",
            "050c8c82cabd4bb19124e095f48ec7af",
            "f733f7ea92054a4cbefc5508b959abaf",
            "3c1db604adde4cd38a068559e7023f25",
            "b6e50293ecfc4feb85002d13eac80497",
            "12bb1f48e20d4ee78e7d3240a9858f30",
            "c9de047076294631b726871fc0450aa7",
            "be0b24841a1e4f7dab7a78c4846bf691",
            "0a13412f19164f4cbaf9ac1c23ec4a8a",
            "6e318195997f47dca94737848a0e1fb8",
            "c95820012bc84f299bf80d8cebbffa67",
            "60dabfd05e2640a3908ab1b2cd07032d",
            "b2aca99c4b9b4c9ba4dc4d74388a12d7",
            "6a89f726a5da47909c55beb5daf48254"
          ]
        },
        "id": "BIh9mrcstJPk",
        "outputId": "e29f3667-e45d-46e4-b48c-4c3e3cb32026"
      },
      "execution_count": null,
      "outputs": [
        {
          "output_type": "display_data",
          "data": {
            "text/plain": [
              "Downloading:   0%|          | 0.00/540 [00:00<?, ?B/s]"
            ],
            "application/vnd.jupyter.widget-view+json": {
              "version_major": 2,
              "version_minor": 0,
              "model_id": "31a3908f1625496588c17d2e5e571760"
            }
          },
          "metadata": {}
        },
        {
          "output_type": "display_data",
          "data": {
            "text/plain": [
              "Downloading:   0%|          | 0.00/920 [00:00<?, ?B/s]"
            ],
            "application/vnd.jupyter.widget-view+json": {
              "version_major": 2,
              "version_minor": 0,
              "model_id": "1470f99980524a269bbb3e385afcde61"
            }
          },
          "metadata": {}
        },
        {
          "output_type": "display_data",
          "data": {
            "text/plain": [
              "Downloading:   0%|          | 0.00/1.57M [00:00<?, ?B/s]"
            ],
            "application/vnd.jupyter.widget-view+json": {
              "version_major": 2,
              "version_minor": 0,
              "model_id": "c1c6aae2d24041939b5638618039c00e"
            }
          },
          "metadata": {}
        },
        {
          "output_type": "display_data",
          "data": {
            "text/plain": [
              "Downloading:   0%|          | 0.00/112 [00:00<?, ?B/s]"
            ],
            "application/vnd.jupyter.widget-view+json": {
              "version_major": 2,
              "version_minor": 0,
              "model_id": "23739e185a0b4ced8c6e2deb37076089"
            }
          },
          "metadata": {}
        },
        {
          "output_type": "display_data",
          "data": {
            "text/plain": [
              "Downloading:   0%|          | 0.00/679M [00:00<?, ?B/s]"
            ],
            "application/vnd.jupyter.widget-view+json": {
              "version_major": 2,
              "version_minor": 0,
              "model_id": "3c1db604adde4cd38a068559e7023f25"
            }
          },
          "metadata": {}
        }
      ]
    },
    {
      "cell_type": "code",
      "source": [
        "pipe = TextClassificationPipeline(model=rubert_smetanin_model,\n",
        "                                  tokenizer=rubert_smetanin_tokenizer,\n",
        "                                  device=0)"
      ],
      "metadata": {
        "id": "4w7xi8LatJUC"
      },
      "execution_count": null,
      "outputs": []
    },
    {
      "cell_type": "code",
      "source": [
        "def eval_rubert_smetanin(pipe, dataset):\n",
        "    \"\"\"\n",
        "    takes a pipe object and a dataset in df format, returns dictionaries\n",
        "    with metrics and texts \n",
        "    \"\"\"\n",
        "    text_list = dataset.text.to_list()\n",
        "    golds = dataset.toxicity.to_list()\n",
        "\n",
        "    output = pipe(text_list)\n",
        "    preds = [int(item['label'].split('_')[1]) for item in output]\n",
        "\n",
        "    precision, recall, f1, _ = precision_recall_fscore_support(golds, preds,\n",
        "                                                               average='binary')\n",
        "    acc = accuracy_score(golds, preds)\n",
        "    plot_matrix(golds, preds)\n",
        "    \n",
        "    return {'accuracy': acc,\n",
        "            'f1': f1,\n",
        "            'precision': precision,\n",
        "            'recall': recall}, \\\n",
        "           {'true_labels': golds,\n",
        "            'text': text_list,\n",
        "            'predicted': preds}"
      ],
      "metadata": {
        "id": "mQCwiz_auoYg"
      },
      "execution_count": null,
      "outputs": []
    },
    {
      "cell_type": "code",
      "source": [
        "uncor_rubert_smetanin, uncor_rubert_smetanin_data = eval_rubert_smetanin(pipe, uncorrected_data)\n",
        "uncor_rubert_smetanin"
      ],
      "metadata": {
        "colab": {
          "base_uri": "https://localhost:8080/",
          "height": 379
        },
        "id": "ZmCq81cJyQ4H",
        "outputId": "32a99cd1-004d-4400-a35e-b4e1a86b4a2d"
      },
      "execution_count": null,
      "outputs": [
        {
          "output_type": "display_data",
          "data": {
            "text/plain": [
              "<Figure size 432x288 with 2 Axes>"
            ],
            "image/png": "[encoded data removed]"
          },
          "metadata": {
            "needs_background": "light"
          }
        },
        {
          "output_type": "execute_result",
          "data": {
            "text/plain": [
              "{'accuracy': 0.7380952380952381,\n",
              " 'f1': 0.8114285714285714,\n",
              " 'precision': 0.8352941176470589,\n",
              " 'recall': 0.7888888888888889}"
            ]
          },
          "metadata": {},
          "execution_count": 16
        }
      ]
    },
    {
      "cell_type": "code",
      "source": [
        "cor_rubert_smetanin, cor_rubert_smetanin_data = eval_rubert_smetanin(pipe, corrected_data)\n",
        "cor_rubert_smetanin"
      ],
      "metadata": {
        "colab": {
          "base_uri": "https://localhost:8080/",
          "height": 379
        },
        "id": "S602BSmj86R8",
        "outputId": "cf8a79e6-b895-446d-e044-e16daba2a463"
      },
      "execution_count": null,
      "outputs": [
        {
          "output_type": "display_data",
          "data": {
            "text/plain": [
              "<Figure size 432x288 with 2 Axes>"
            ],
            "image/png": "[encoded data removed]"
          },
          "metadata": {
            "needs_background": "light"
          }
        },
        {
          "output_type": "execute_result",
          "data": {
            "text/plain": [
              "{'accuracy': 0.7698412698412699,\n",
              " 'f1': 0.8481675392670157,\n",
              " 'precision': 0.801980198019802,\n",
              " 'recall': 0.9}"
            ]
          },
          "metadata": {},
          "execution_count": 17
        }
      ]
    },
    {
      "cell_type": "code",
      "source": [
        "proc_rubert_smetanin, proc_rubert_smetanin_data = eval_rubert_smetanin(pipe, processed_data)\n",
        "proc_rubert_smetanin"
      ],
      "metadata": {
        "colab": {
          "base_uri": "https://localhost:8080/",
          "height": 379
        },
        "id": "ugV_kqij6hZe",
        "outputId": "7e547df4-3a53-4f56-b694-91e520ec0e4d"
      },
      "execution_count": null,
      "outputs": [
        {
          "output_type": "display_data",
          "data": {
            "text/plain": [
              "<Figure size 432x288 with 2 Axes>"
            ],
            "image/png": "[encoded data removed]"
          },
          "metadata": {
            "needs_background": "light"
          }
        },
        {
          "output_type": "execute_result",
          "data": {
            "text/plain": [
              "{'accuracy': 0.7857142857142857,\n",
              " 'f1': 0.8629441624365483,\n",
              " 'precision': 0.794392523364486,\n",
              " 'recall': 0.9444444444444444}"
            ]
          },
          "metadata": {},
          "execution_count": 18
        }
      ]
    },
    {
      "cell_type": "code",
      "source": [
        "save_predictions(uncor_rubert_smetanin_data,\n",
        "                 cor_rubert_smetanin_data,\n",
        "                 proc_rubert_smetanin_data,\n",
        "                 'rubert_smetanin')"
      ],
      "metadata": {
        "colab": {
          "base_uri": "https://localhost:8080/"
        },
        "id": "oYnMQevKz70j",
        "outputId": "eb33a59a-88ee-41a3-f2cc-11779639475d"
      },
      "execution_count": null,
      "outputs": [
        {
          "output_type": "stream",
          "name": "stdout",
          "text": [
            "rubert_smetanin data saved successfully\n"
          ]
        }
      ]
    },
    {
      "cell_type": "code",
      "source": [
        "del pipe\n",
        "del rubert_smetanin_model\n",
        "del rubert_smetanin_tokenizer"
      ],
      "metadata": {
        "id": "Te6kGT3zA_JN"
      },
      "execution_count": null,
      "outputs": []
    },
    {
      "cell_type": "markdown",
      "source": [
        "#### RuBERT (Dale, n.d.)\n",
        "`no metrics`  \n",
        "Модель доступна на [huggingface](https://huggingface.co/cointegrated/rubert-tiny-toxicity)"
      ],
      "metadata": {
        "id": "QLhGNT4ysrpq"
      }
    },
    {
      "cell_type": "code",
      "source": [
        "rubert_dale_tokenizer = AutoTokenizer.from_pretrained('cointegrated/rubert-tiny-toxicity')\n",
        "rubert_dale_model = AutoModelForSequenceClassification.from_pretrained('cointegrated/rubert-tiny-toxicity')"
      ],
      "metadata": {
        "colab": {
          "base_uri": "https://localhost:8080/",
          "height": 237,
          "referenced_widgets": [
            "d16346fb9ce44f5db30d997fbdcefbfa",
            "4b0c6f5099eb4409af254e86e67bc9da",
            "a2321d0df54b4a958e3f913c067b21e7",
            "8ca9cbb266f84739b4736405f8888904",
            "991fa1b65f414f6ba82c235da7ef26dd",
            "706317b222fe4ba0a4321a8be62e2dde",
            "a16f0b2a93d94c84a248013fadf58e47",
            "e0b3c1f7c64d4bd98cf5ed272bd65066",
            "a88168408cac4c249e59554e34210831",
            "a00c9a9fd3a34989a7cb67ba7c3daf02",
            "fcd95c0920c644799c2671ed19336314",
            "e5aa58c86c8747bdb840e9a9d01e98df",
            "5c49cb207e8d424e99af8ede5bccb9b6",
            "62c148276a6c462b97919973d0266038",
            "c3720d8ec1604e6c84bbfed2bfc78f15",
            "534380933729404986261fd01edf8d0c",
            "564d3143624f4b7cb9cd5ef5eb08de78",
            "1df6182f20f94bd485d6dcb3ca9799a6",
            "f518af93ad2945979f8d3977d0ae8b91",
            "d91a4e47f9c74843971b366e3e50ee2a",
            "f07c9a0375f0435bae7cad610808b62a",
            "2d8ab5e0fb9f470090c686253affe91c",
            "33fa50f9eb6e4531af59b1ea343d8082",
            "16b935c90af64f7c8c982f7f89818f62",
            "daf7ea1da3934173a8dee93f29ba8bf5",
            "56cbcb882c3248499d15f2801b10a088",
            "bc7239a6bc154fc78cba32d5d41e678a",
            "f2dcc3bc033c4ff3b8b4498994307a6c",
            "3d09673386094657a3c6f8ab5d859777",
            "4b2ffaff6f1d43f5a86f1ab4293bdf42",
            "e597297a37ae4a6d817aea07855a3434",
            "84ae7dcb69884cc89a9b87d4f2d6df35",
            "703f27c96b214c3bbfbbf941e4c70d15",
            "371d49a947f64b608a4d1fb5975ba5f5",
            "793d4112ff604f5c95eb4ce1f7a12272",
            "f24e4080b703444baa323fe5679a44b2",
            "a2812a9cc4344c878b5c54a17f41fd72",
            "d388556d465948dfbc9ca80bb5843af4",
            "b2935debdf4048cf8f952befe7006d59",
            "e7c73c306aeb4a1099952d437d7f19bb",
            "c2d47324c48e4e6f9fd047da08d78f13",
            "49b3558e18b643939f658207e45f9b29",
            "78181969e7df477f9bf7eb13651b1f37",
            "201a40d88b54470483d6ffbd87c9210c",
            "3b71d8df99cb4192a44aac30421528cd",
            "9f970e6957054a9f87c60765f4886994",
            "b21e930f4c62410d90271075b2dd5d5d",
            "60231b2117d4435b803e86c7d027ba86",
            "d3eb1a15470248489254a44d79160742",
            "a8997d570ca74f24925184b679fc3ab6",
            "500c4dd1c15a417d8d3ac70fa0424a1b",
            "998493f787ea479cac579a2769da45ec",
            "78bf23c8ad074289ab17d96e7bfeaa67",
            "888399741fbc43feb2aeeb85d5bc8d81",
            "f745652094814efba971c12675d3bdec",
            "18c71a3fe1c647e3a1c87851605f21dc",
            "b84d029952f342f4bf57e3717f37e0bf",
            "66742e3a589a4662b6db9b5871737110",
            "7818add05a83440984e958cdd64fbd81",
            "06b2f3d11ba84135b6a98476a46540ae",
            "522c11a734154ef0874e649797890c46",
            "025f11a8ea0341c6b207719cfc68095b",
            "51a3d02b5f0c46f5b3a73f2344595783",
            "00db6dbf86694846b2f6a9d640bec437",
            "1f9a42642f8c4b5b9f0ed6b2f69f1e5c",
            "2fb5c2742f6e433780eb6260332b1b97"
          ]
        },
        "id": "BRjStswntJ6T",
        "outputId": "03489ad8-c360-4f8f-baf5-e516b699b248"
      },
      "execution_count": null,
      "outputs": [
        {
          "output_type": "display_data",
          "data": {
            "text/plain": [
              "Downloading:   0%|          | 0.00/377 [00:00<?, ?B/s]"
            ],
            "application/vnd.jupyter.widget-view+json": {
              "version_major": 2,
              "version_minor": 0,
              "model_id": "d16346fb9ce44f5db30d997fbdcefbfa"
            }
          },
          "metadata": {}
        },
        {
          "output_type": "display_data",
          "data": {
            "text/plain": [
              "Downloading:   0%|          | 0.00/235k [00:00<?, ?B/s]"
            ],
            "application/vnd.jupyter.widget-view+json": {
              "version_major": 2,
              "version_minor": 0,
              "model_id": "e5aa58c86c8747bdb840e9a9d01e98df"
            }
          },
          "metadata": {}
        },
        {
          "output_type": "display_data",
          "data": {
            "text/plain": [
              "Downloading:   0%|          | 0.00/457k [00:00<?, ?B/s]"
            ],
            "application/vnd.jupyter.widget-view+json": {
              "version_major": 2,
              "version_minor": 0,
              "model_id": "33fa50f9eb6e4531af59b1ea343d8082"
            }
          },
          "metadata": {}
        },
        {
          "output_type": "display_data",
          "data": {
            "text/plain": [
              "Downloading:   0%|          | 0.00/112 [00:00<?, ?B/s]"
            ],
            "application/vnd.jupyter.widget-view+json": {
              "version_major": 2,
              "version_minor": 0,
              "model_id": "371d49a947f64b608a4d1fb5975ba5f5"
            }
          },
          "metadata": {}
        },
        {
          "output_type": "display_data",
          "data": {
            "text/plain": [
              "Downloading:   0%|          | 0.00/957 [00:00<?, ?B/s]"
            ],
            "application/vnd.jupyter.widget-view+json": {
              "version_major": 2,
              "version_minor": 0,
              "model_id": "3b71d8df99cb4192a44aac30421528cd"
            }
          },
          "metadata": {}
        },
        {
          "output_type": "display_data",
          "data": {
            "text/plain": [
              "Downloading:   0%|          | 0.00/45.0M [00:00<?, ?B/s]"
            ],
            "application/vnd.jupyter.widget-view+json": {
              "version_major": 2,
              "version_minor": 0,
              "model_id": "18c71a3fe1c647e3a1c87851605f21dc"
            }
          },
          "metadata": {}
        }
      ]
    },
    {
      "cell_type": "code",
      "source": [
        "pipe = TextClassificationPipeline(model=rubert_dale_model,\n",
        "                                  tokenizer=rubert_dale_tokenizer,\n",
        "                                  device=0)"
      ],
      "metadata": {
        "id": "xDh2l61ltJ_S"
      },
      "execution_count": null,
      "outputs": []
    },
    {
      "cell_type": "code",
      "source": [
        "def eval_rubert_dale(pipe, dataset):\n",
        "    \"\"\"\n",
        "    takes pipe object and a dataset in df format, returns dictionaries\n",
        "    with metrics and texts\n",
        "    \"\"\"\n",
        "    text_list = dataset.text.to_list()\n",
        "    golds = dataset.toxicity.to_list()\n",
        "\n",
        "    output = pipe(text_list)\n",
        "    preds = [0 if item['label'] in ['non-toxic', 'obscenity'] else 1 for item in output]\n",
        "\n",
        "    precision, recall, f1, _ = precision_recall_fscore_support(golds, preds,\n",
        "                                                               average='binary')\n",
        "    acc = accuracy_score(golds, preds)\n",
        "    plot_matrix(golds, preds)\n",
        "\n",
        "    return {'accuracy': acc,\n",
        "            'f1': f1,\n",
        "            'precision': precision,\n",
        "            'recall': recall}, \\\n",
        "            {'true_labels': golds,\n",
        "            'text': text_list,\n",
        "            'predicted': preds}"
      ],
      "metadata": {
        "id": "BECngtPXA2t9"
      },
      "execution_count": null,
      "outputs": []
    },
    {
      "cell_type": "code",
      "source": [
        "uncor_rubert_dale, uncor_rubert_dale_data = eval_rubert_dale(pipe, uncorrected_data)\n",
        "uncor_rubert_dale"
      ],
      "metadata": {
        "colab": {
          "base_uri": "https://localhost:8080/",
          "height": 379
        },
        "outputId": "2bdd0580-2925-412c-e604-9a4d69d921b2",
        "id": "3Co-ZXMrA2t9"
      },
      "execution_count": null,
      "outputs": [
        {
          "output_type": "display_data",
          "data": {
            "text/plain": [
              "<Figure size 432x288 with 2 Axes>"
            ],
            "image/png": "[encoded data removed]"
          },
          "metadata": {
            "needs_background": "light"
          }
        },
        {
          "output_type": "execute_result",
          "data": {
            "text/plain": [
              "{'accuracy': 0.5396825396825397,\n",
              " 'f1': 0.6233766233766235,\n",
              " 'precision': 0.75,\n",
              " 'recall': 0.5333333333333333}"
            ]
          },
          "metadata": {},
          "execution_count": 30
        }
      ]
    },
    {
      "cell_type": "code",
      "source": [
        "cor_rubert_dale, cor_rubert_dale_data = eval_rubert_dale(pipe, corrected_data)\n",
        "cor_rubert_dale"
      ],
      "metadata": {
        "colab": {
          "base_uri": "https://localhost:8080/",
          "height": 379
        },
        "outputId": "3d976c38-a89f-4d72-d2b8-a03b2dc846ff",
        "id": "H1NfQjLSA2t-"
      },
      "execution_count": null,
      "outputs": [
        {
          "output_type": "display_data",
          "data": {
            "text/plain": [
              "<Figure size 432x288 with 2 Axes>"
            ],
            "image/png": "[encoded data removed]"
          },
          "metadata": {
            "needs_background": "light"
          }
        },
        {
          "output_type": "execute_result",
          "data": {
            "text/plain": [
              "{'accuracy': 0.6031746031746031,\n",
              " 'f1': 0.7448979591836735,\n",
              " 'precision': 0.6886792452830188,\n",
              " 'recall': 0.8111111111111111}"
            ]
          },
          "metadata": {},
          "execution_count": 31
        }
      ]
    },
    {
      "cell_type": "code",
      "source": [
        "proc_rubert_dale, proc_rubert_dale_data = eval_rubert_dale(pipe, processed_data)\n",
        "proc_rubert_dale"
      ],
      "metadata": {
        "colab": {
          "base_uri": "https://localhost:8080/",
          "height": 379
        },
        "id": "HpslTG8V7E1t",
        "outputId": "c4817568-79b1-4cbd-dd4d-afc51e1eed36"
      },
      "execution_count": null,
      "outputs": [
        {
          "output_type": "display_data",
          "data": {
            "text/plain": [
              "<Figure size 432x288 with 2 Axes>"
            ],
            "image/png": "[encoded data removed]"
          },
          "metadata": {
            "needs_background": "light"
          }
        },
        {
          "output_type": "execute_result",
          "data": {
            "text/plain": [
              "{'accuracy': 0.7142857142857143,\n",
              " 'f1': 0.8269230769230769,\n",
              " 'precision': 0.7288135593220338,\n",
              " 'recall': 0.9555555555555556}"
            ]
          },
          "metadata": {},
          "execution_count": 32
        }
      ]
    },
    {
      "cell_type": "code",
      "source": [
        "save_predictions(uncor_rubert_dale_data,\n",
        "                 cor_rubert_dale_data,\n",
        "                 proc_rubert_dale_data,\n",
        "                 'rubert_dale')"
      ],
      "metadata": {
        "colab": {
          "base_uri": "https://localhost:8080/"
        },
        "id": "DtxmXXUB2kj7",
        "outputId": "351b1a1a-bcc4-45e0-bee0-3501481a0679"
      },
      "execution_count": null,
      "outputs": [
        {
          "output_type": "stream",
          "name": "stdout",
          "text": [
            "rubert_dale data saved successfully\n"
          ]
        }
      ]
    },
    {
      "cell_type": "code",
      "source": [
        "del pipe\n",
        "del rubert_dale_model\n",
        "del rubert_dale_tokenizer"
      ],
      "metadata": {
        "id": "RNJ6VLAfCyMh"
      },
      "execution_count": null,
      "outputs": []
    },
    {
      "cell_type": "markdown",
      "source": [
        "#### wCNN + USE (Barsukov, 2021)\n",
        "`0.872 F-score`  \n",
        "Модель доступна в питоновском модуле [toxicity](https://pypi.org/project/toxicity/)"
      ],
      "metadata": {
        "id": "DaeUOtUHsr1M"
      }
    },
    {
      "cell_type": "code",
      "source": [
        "! pip install toxicity"
      ],
      "metadata": {
        "colab": {
          "base_uri": "https://localhost:8080/"
        },
        "id": "k3l9Oj4MtKli",
        "outputId": "d028801f-9215-4249-b39b-05535d7e304a"
      },
      "execution_count": null,
      "outputs": [
        {
          "output_type": "stream",
          "name": "stdout",
          "text": [
            "Collecting toxicity\n",
            "  Downloading toxicity-0.30.tar.gz (57.6 MB)\n",
            "\u001b[K     |████████████████████████████████| 57.6 MB 1.2 MB/s \n",
            "\u001b[?25hRequirement already satisfied: tensorflow in /usr/local/lib/python3.7/dist-packages (from toxicity) (2.8.0+zzzcolab20220506162203)\n",
            "Requirement already satisfied: numpy in /usr/local/lib/python3.7/dist-packages (from toxicity) (1.21.6)\n",
            "Collecting navec\n",
            "  Downloading navec-0.10.0-py3-none-any.whl (23 kB)\n",
            "Collecting pymorphy2\n",
            "  Downloading pymorphy2-0.9.1-py3-none-any.whl (55 kB)\n",
            "\u001b[K     |████████████████████████████████| 55 kB 4.3 MB/s \n",
            "\u001b[?25hCollecting pymorphy2-dicts-ru<3.0,>=2.4\n",
            "  Downloading pymorphy2_dicts_ru-2.4.417127.4579844-py2.py3-none-any.whl (8.2 MB)\n",
            "\u001b[K     |████████████████████████████████| 8.2 MB 22.1 MB/s \n",
            "\u001b[?25hRequirement already satisfied: docopt>=0.6 in /usr/local/lib/python3.7/dist-packages (from pymorphy2->toxicity) (0.6.2)\n",
            "Collecting dawg-python>=0.7.1\n",
            "  Downloading DAWG_Python-0.7.2-py2.py3-none-any.whl (11 kB)\n",
            "Requirement already satisfied: termcolor>=1.1.0 in /usr/local/lib/python3.7/dist-packages (from tensorflow->toxicity) (1.1.0)\n",
            "Requirement already satisfied: h5py>=2.9.0 in /usr/local/lib/python3.7/dist-packages (from tensorflow->toxicity) (3.1.0)\n",
            "Requirement already satisfied: libclang>=9.0.1 in /usr/local/lib/python3.7/dist-packages (from tensorflow->toxicity) (14.0.1)\n",
            "Requirement already satisfied: tensorboard<2.9,>=2.8 in /usr/local/lib/python3.7/dist-packages (from tensorflow->toxicity) (2.8.0)\n",
            "Requirement already satisfied: grpcio<2.0,>=1.24.3 in /usr/local/lib/python3.7/dist-packages (from tensorflow->toxicity) (1.46.1)\n",
            "Requirement already satisfied: wrapt>=1.11.0 in /usr/local/lib/python3.7/dist-packages (from tensorflow->toxicity) (1.14.1)\n",
            "Requirement already satisfied: keras-preprocessing>=1.1.1 in /usr/local/lib/python3.7/dist-packages (from tensorflow->toxicity) (1.1.2)\n",
            "Requirement already satisfied: tensorflow-io-gcs-filesystem>=0.23.1 in /usr/local/lib/python3.7/dist-packages (from tensorflow->toxicity) (0.25.0)\n",
            "Requirement already satisfied: astunparse>=1.6.0 in /usr/local/lib/python3.7/dist-packages (from tensorflow->toxicity) (1.6.3)\n",
            "Requirement already satisfied: setuptools in /usr/local/lib/python3.7/dist-packages (from tensorflow->toxicity) (57.4.0)\n",
            "Requirement already satisfied: protobuf>=3.9.2 in /usr/local/lib/python3.7/dist-packages (from tensorflow->toxicity) (3.17.3)\n",
            "Requirement already satisfied: google-pasta>=0.1.1 in /usr/local/lib/python3.7/dist-packages (from tensorflow->toxicity) (0.2.0)\n",
            "Requirement already satisfied: keras<2.9,>=2.8.0rc0 in /usr/local/lib/python3.7/dist-packages (from tensorflow->toxicity) (2.8.0)\n",
            "Requirement already satisfied: typing-extensions>=3.6.6 in /usr/local/lib/python3.7/dist-packages (from tensorflow->toxicity) (4.2.0)\n",
            "Requirement already satisfied: flatbuffers>=1.12 in /usr/local/lib/python3.7/dist-packages (from tensorflow->toxicity) (2.0)\n",
            "Requirement already satisfied: absl-py>=0.4.0 in /usr/local/lib/python3.7/dist-packages (from tensorflow->toxicity) (1.0.0)\n",
            "Collecting tf-estimator-nightly==2.8.0.dev2021122109\n",
            "  Downloading tf_estimator_nightly-2.8.0.dev2021122109-py2.py3-none-any.whl (462 kB)\n",
            "\u001b[K     |████████████████████████████████| 462 kB 66.1 MB/s \n",
            "\u001b[?25hRequirement already satisfied: gast>=0.2.1 in /usr/local/lib/python3.7/dist-packages (from tensorflow->toxicity) (0.5.3)\n",
            "Requirement already satisfied: six>=1.12.0 in /usr/local/lib/python3.7/dist-packages (from tensorflow->toxicity) (1.15.0)\n",
            "Requirement already satisfied: opt-einsum>=2.3.2 in /usr/local/lib/python3.7/dist-packages (from tensorflow->toxicity) (3.3.0)\n",
            "Requirement already satisfied: wheel<1.0,>=0.23.0 in /usr/local/lib/python3.7/dist-packages (from astunparse>=1.6.0->tensorflow->toxicity) (0.37.1)\n",
            "Requirement already satisfied: cached-property in /usr/local/lib/python3.7/dist-packages (from h5py>=2.9.0->tensorflow->toxicity) (1.5.2)\n",
            "Requirement already satisfied: google-auth-oauthlib<0.5,>=0.4.1 in /usr/local/lib/python3.7/dist-packages (from tensorboard<2.9,>=2.8->tensorflow->toxicity) (0.4.6)\n",
            "Requirement already satisfied: google-auth<3,>=1.6.3 in /usr/local/lib/python3.7/dist-packages (from tensorboard<2.9,>=2.8->tensorflow->toxicity) (1.35.0)\n",
            "Requirement already satisfied: tensorboard-plugin-wit>=1.6.0 in /usr/local/lib/python3.7/dist-packages (from tensorboard<2.9,>=2.8->tensorflow->toxicity) (1.8.1)\n",
            "Requirement already satisfied: tensorboard-data-server<0.7.0,>=0.6.0 in /usr/local/lib/python3.7/dist-packages (from tensorboard<2.9,>=2.8->tensorflow->toxicity) (0.6.1)\n",
            "Requirement already satisfied: markdown>=2.6.8 in /usr/local/lib/python3.7/dist-packages (from tensorboard<2.9,>=2.8->tensorflow->toxicity) (3.3.7)\n",
            "Requirement already satisfied: werkzeug>=0.11.15 in /usr/local/lib/python3.7/dist-packages (from tensorboard<2.9,>=2.8->tensorflow->toxicity) (1.0.1)\n",
            "Requirement already satisfied: requests<3,>=2.21.0 in /usr/local/lib/python3.7/dist-packages (from tensorboard<2.9,>=2.8->tensorflow->toxicity) (2.23.0)\n",
            "Requirement already satisfied: cachetools<5.0,>=2.0.0 in /usr/local/lib/python3.7/dist-packages (from google-auth<3,>=1.6.3->tensorboard<2.9,>=2.8->tensorflow->toxicity) (4.2.4)\n",
            "Requirement already satisfied: rsa<5,>=3.1.4 in /usr/local/lib/python3.7/dist-packages (from google-auth<3,>=1.6.3->tensorboard<2.9,>=2.8->tensorflow->toxicity) (4.8)\n",
            "Requirement already satisfied: pyasn1-modules>=0.2.1 in /usr/local/lib/python3.7/dist-packages (from google-auth<3,>=1.6.3->tensorboard<2.9,>=2.8->tensorflow->toxicity) (0.2.8)\n",
            "Requirement already satisfied: requests-oauthlib>=0.7.0 in /usr/local/lib/python3.7/dist-packages (from google-auth-oauthlib<0.5,>=0.4.1->tensorboard<2.9,>=2.8->tensorflow->toxicity) (1.3.1)\n",
            "Requirement already satisfied: importlib-metadata>=4.4 in /usr/local/lib/python3.7/dist-packages (from markdown>=2.6.8->tensorboard<2.9,>=2.8->tensorflow->toxicity) (4.11.3)\n",
            "Requirement already satisfied: zipp>=0.5 in /usr/local/lib/python3.7/dist-packages (from importlib-metadata>=4.4->markdown>=2.6.8->tensorboard<2.9,>=2.8->tensorflow->toxicity) (3.8.0)\n",
            "Requirement already satisfied: pyasn1<0.5.0,>=0.4.6 in /usr/local/lib/python3.7/dist-packages (from pyasn1-modules>=0.2.1->google-auth<3,>=1.6.3->tensorboard<2.9,>=2.8->tensorflow->toxicity) (0.4.8)\n",
            "Requirement already satisfied: urllib3!=1.25.0,!=1.25.1,<1.26,>=1.21.1 in /usr/local/lib/python3.7/dist-packages (from requests<3,>=2.21.0->tensorboard<2.9,>=2.8->tensorflow->toxicity) (1.24.3)\n",
            "Requirement already satisfied: chardet<4,>=3.0.2 in /usr/local/lib/python3.7/dist-packages (from requests<3,>=2.21.0->tensorboard<2.9,>=2.8->tensorflow->toxicity) (3.0.4)\n",
            "Requirement already satisfied: certifi>=2017.4.17 in /usr/local/lib/python3.7/dist-packages (from requests<3,>=2.21.0->tensorboard<2.9,>=2.8->tensorflow->toxicity) (2021.10.8)\n",
            "Requirement already satisfied: idna<3,>=2.5 in /usr/local/lib/python3.7/dist-packages (from requests<3,>=2.21.0->tensorboard<2.9,>=2.8->tensorflow->toxicity) (2.10)\n",
            "Requirement already satisfied: oauthlib>=3.0.0 in /usr/local/lib/python3.7/dist-packages (from requests-oauthlib>=0.7.0->google-auth-oauthlib<0.5,>=0.4.1->tensorboard<2.9,>=2.8->tensorflow->toxicity) (3.2.0)\n",
            "Building wheels for collected packages: toxicity\n",
            "  Building wheel for toxicity (setup.py) ... \u001b[?25l\u001b[?25hdone\n",
            "  Created wheel for toxicity: filename=toxicity-0.30-py3-none-any.whl size=57647021 sha256=345575816c09e6b6eee0b78aa9fedf914db8688de69a02b3f4c405bc7ae208f0\n",
            "  Stored in directory: /root/.cache/pip/wheels/94/e6/8a/965d54385b5cf08e61676bd1ecb40a92e8d0b8210a9c47e2d9\n",
            "Successfully built toxicity\n",
            "Installing collected packages: tf-estimator-nightly, pymorphy2-dicts-ru, dawg-python, pymorphy2, navec, toxicity\n",
            "Successfully installed dawg-python-0.7.2 navec-0.10.0 pymorphy2-0.9.1 pymorphy2-dicts-ru-2.4.417127.4579844 tf-estimator-nightly-2.8.0.dev2021122109 toxicity-0.30\n"
          ]
        }
      ]
    },
    {
      "cell_type": "code",
      "source": [
        "from toxicity import ToxicCommentsDetector"
      ],
      "metadata": {
        "id": "1t2QlruxEi44"
      },
      "execution_count": null,
      "outputs": []
    },
    {
      "cell_type": "code",
      "source": [
        "toxicDetector = ToxicCommentsDetector()"
      ],
      "metadata": {
        "colab": {
          "base_uri": "https://localhost:8080/"
        },
        "id": "dOTKWEzsbVIJ",
        "outputId": "d39df716-8011-4c86-c245-df1a0f35aa7e"
      },
      "execution_count": null,
      "outputs": [
        {
          "output_type": "stream",
          "name": "stdout",
          "text": [
            "WARNING:tensorflow:SavedModel saved prior to TF 2.5 detected when loading Keras model. Please ensure that you are saving the model with model.save() or tf.keras.models.save_model(), *NOT* tf.saved_model.save(). To confirm, there should be a file named \"keras_metadata.pb\" in the SavedModel directory.\n"
          ]
        }
      ]
    },
    {
      "cell_type": "code",
      "source": [
        "def eval_cnn_barsukov(detector, dataset):\n",
        "    \"\"\"\n",
        "    takes detector object and a dataset in df format, returns dictionaries\n",
        "    with metrics and texts\n",
        "    \"\"\"\n",
        "    text_list = dataset.text.to_list()\n",
        "    golds = dataset.toxicity.to_list()\n",
        "\n",
        "    output = detector.predict(text_list)\n",
        "    preds = [0 if score < 0.5 else 1 for score in output]\n",
        "\n",
        "    precision, recall, f1, _ = precision_recall_fscore_support(golds, preds,\n",
        "                                                               average='binary')\n",
        "    acc = accuracy_score(golds, preds)\n",
        "    plot_matrix(golds, preds)\n",
        "    return {'accuracy': acc,\n",
        "            'f1': f1,\n",
        "            'precision': precision,\n",
        "            'recall': recall}, \\\n",
        "            {'true_labels': golds,\n",
        "            'text': text_list,\n",
        "            'predicted': preds}"
      ],
      "metadata": {
        "id": "TWnfFGjHEryx"
      },
      "execution_count": null,
      "outputs": []
    },
    {
      "cell_type": "code",
      "source": [
        "uncor_cnn_barsukov, uncor_cnn_barsukov_data = eval_cnn_barsukov(toxicDetector, uncorrected_data)\n",
        "uncor_cnn_barsukov"
      ],
      "metadata": {
        "colab": {
          "base_uri": "https://localhost:8080/",
          "height": 379
        },
        "outputId": "7754d80d-44a7-4129-be12-a7044db42696",
        "id": "lYX76F5qEryx"
      },
      "execution_count": null,
      "outputs": [
        {
          "output_type": "display_data",
          "data": {
            "text/plain": [
              "<Figure size 432x288 with 2 Axes>"
            ],
            "image/png": "[encoded data removed]"
          },
          "metadata": {
            "needs_background": "light"
          }
        },
        {
          "output_type": "execute_result",
          "data": {
            "text/plain": [
              "{'accuracy': 0.7301587301587301,\n",
              " 'f1': 0.8131868131868132,\n",
              " 'precision': 0.8043478260869565,\n",
              " 'recall': 0.8222222222222222}"
            ]
          },
          "metadata": {},
          "execution_count": 40
        }
      ]
    },
    {
      "cell_type": "code",
      "source": [
        "cor_cnn_barsukov, cor_cnn_barsukov_data = eval_cnn_barsukov(toxicDetector, corrected_data)\n",
        "cor_cnn_barsukov"
      ],
      "metadata": {
        "colab": {
          "base_uri": "https://localhost:8080/",
          "height": 379
        },
        "outputId": "6edd15c6-7ade-4f62-ff71-2cd607f58ea0",
        "id": "bCH2Ch4FEryy"
      },
      "execution_count": null,
      "outputs": [
        {
          "output_type": "display_data",
          "data": {
            "text/plain": [
              "<Figure size 432x288 with 2 Axes>"
            ],
            "image/png": "[encoded data removed]"
          },
          "metadata": {
            "needs_background": "light"
          }
        },
        {
          "output_type": "execute_result",
          "data": {
            "text/plain": [
              "{'accuracy': 0.7301587301587301,\n",
              " 'f1': 0.8191489361702127,\n",
              " 'precision': 0.7857142857142857,\n",
              " 'recall': 0.8555555555555555}"
            ]
          },
          "metadata": {},
          "execution_count": 41
        }
      ]
    },
    {
      "cell_type": "code",
      "source": [
        "proc_cnn_barsukov, proc_cnn_barsukov_data = eval_cnn_barsukov(toxicDetector, processed_data)\n",
        "proc_cnn_barsukov"
      ],
      "metadata": {
        "colab": {
          "base_uri": "https://localhost:8080/",
          "height": 379
        },
        "id": "h8SHj8Qy7Piq",
        "outputId": "c901fe0f-f8c6-4168-b91d-c9a527236ed8"
      },
      "execution_count": null,
      "outputs": [
        {
          "output_type": "display_data",
          "data": {
            "text/plain": [
              "<Figure size 432x288 with 2 Axes>"
            ],
            "image/png": "[encoded data removed]"
          },
          "metadata": {
            "needs_background": "light"
          }
        },
        {
          "output_type": "execute_result",
          "data": {
            "text/plain": [
              "{'accuracy': 0.7619047619047619,\n",
              " 'f1': 0.845360824742268,\n",
              " 'precision': 0.7884615384615384,\n",
              " 'recall': 0.9111111111111111}"
            ]
          },
          "metadata": {},
          "execution_count": 42
        }
      ]
    },
    {
      "cell_type": "code",
      "source": [
        "save_predictions(uncor_cnn_barsukov_data,\n",
        "                 cor_cnn_barsukov_data,\n",
        "                 proc_cnn_barsukov_data,\n",
        "                 'cnn_barsukov')"
      ],
      "metadata": {
        "colab": {
          "base_uri": "https://localhost:8080/"
        },
        "id": "WE16hOdN3So5",
        "outputId": "5676bfc8-18b4-4200-c66e-b19b03c7e80f"
      },
      "execution_count": null,
      "outputs": [
        {
          "output_type": "stream",
          "name": "stdout",
          "text": [
            "cnn_barsukov data saved successfully\n"
          ]
        }
      ]
    },
    {
      "cell_type": "markdown",
      "source": [
        "#### Сравнение"
      ],
      "metadata": {
        "id": "YQ-1cruVI-9Y"
      }
    },
    {
      "cell_type": "code",
      "source": [
        "results = pd.DataFrame(uncor_rubert_smetanin, index=['uncor_rubert_smetanin'])\n",
        "results.loc['cor_rubert_smetanin'] = cor_rubert_smetanin\n",
        "results.loc['proc_rubert_smetanin'] = proc_rubert_smetanin\n",
        "results.loc['uncor_rubert_dale'] = uncor_rubert_dale\n",
        "results.loc['cor_rubert_dale'] = cor_rubert_dale\n",
        "results.loc['proc_rubert_dale'] = proc_rubert_dale\n",
        "results.loc['uncor_cnn_barsukov'] = uncor_cnn_barsukov\n",
        "results.loc['cor_cnn_barsukov'] = cor_cnn_barsukov\n",
        "results.loc['proc_cnn_barsukov'] = proc_cnn_barsukov\n",
        "\n",
        "results.style.highlight_max(axis=0)"
      ],
      "metadata": {
        "colab": {
          "base_uri": "https://localhost:8080/",
          "height": 331
        },
        "id": "gH3zaLF4GGYq",
        "outputId": "ef91931b-64a7-4b86-aeca-3af568c5922c"
      },
      "execution_count": null,
      "outputs": [
        {
          "output_type": "execute_result",
          "data": {
            "text/plain": [
              "<pandas.io.formats.style.Styler at 0x7fdd6b05bdd0>"
            ],
            "text/html": [
              "<style type=\"text/css\">\n",
              "#T_04d17_row0_col2, #T_04d17_row2_col0, #T_04d17_row2_col1, #T_04d17_row5_col3 {\n",
              "  background-color: yellow;\n",
              "}\n",
              "</style>\n",
              "<table id=\"T_04d17_\" class=\"dataframe\">\n",
              "  <thead>\n",
              "    <tr>\n",
              "      <th class=\"blank level0\" >&nbsp;</th>\n",
              "      <th class=\"col_heading level0 col0\" >accuracy</th>\n",
              "      <th class=\"col_heading level0 col1\" >f1</th>\n",
              "      <th class=\"col_heading level0 col2\" >precision</th>\n",
              "      <th class=\"col_heading level0 col3\" >recall</th>\n",
              "    </tr>\n",
              "  </thead>\n",
              "  <tbody>\n",
              "    <tr>\n",
              "      <th id=\"T_04d17_level0_row0\" class=\"row_heading level0 row0\" >uncor_rubert_smetanin</th>\n",
              "      <td id=\"T_04d17_row0_col0\" class=\"data row0 col0\" >0.738095</td>\n",
              "      <td id=\"T_04d17_row0_col1\" class=\"data row0 col1\" >0.811429</td>\n",
              "      <td id=\"T_04d17_row0_col2\" class=\"data row0 col2\" >0.835294</td>\n",
              "      <td id=\"T_04d17_row0_col3\" class=\"data row0 col3\" >0.788889</td>\n",
              "    </tr>\n",
              "    <tr>\n",
              "      <th id=\"T_04d17_level0_row1\" class=\"row_heading level0 row1\" >cor_rubert_smetanin</th>\n",
              "      <td id=\"T_04d17_row1_col0\" class=\"data row1 col0\" >0.769841</td>\n",
              "      <td id=\"T_04d17_row1_col1\" class=\"data row1 col1\" >0.848168</td>\n",
              "      <td id=\"T_04d17_row1_col2\" class=\"data row1 col2\" >0.801980</td>\n",
              "      <td id=\"T_04d17_row1_col3\" class=\"data row1 col3\" >0.900000</td>\n",
              "    </tr>\n",
              "    <tr>\n",
              "      <th id=\"T_04d17_level0_row2\" class=\"row_heading level0 row2\" >proc_rubert_smetanin</th>\n",
              "      <td id=\"T_04d17_row2_col0\" class=\"data row2 col0\" >0.785714</td>\n",
              "      <td id=\"T_04d17_row2_col1\" class=\"data row2 col1\" >0.862944</td>\n",
              "      <td id=\"T_04d17_row2_col2\" class=\"data row2 col2\" >0.794393</td>\n",
              "      <td id=\"T_04d17_row2_col3\" class=\"data row2 col3\" >0.944444</td>\n",
              "    </tr>\n",
              "    <tr>\n",
              "      <th id=\"T_04d17_level0_row3\" class=\"row_heading level0 row3\" >uncor_rubert_dale</th>\n",
              "      <td id=\"T_04d17_row3_col0\" class=\"data row3 col0\" >0.539683</td>\n",
              "      <td id=\"T_04d17_row3_col1\" class=\"data row3 col1\" >0.623377</td>\n",
              "      <td id=\"T_04d17_row3_col2\" class=\"data row3 col2\" >0.750000</td>\n",
              "      <td id=\"T_04d17_row3_col3\" class=\"data row3 col3\" >0.533333</td>\n",
              "    </tr>\n",
              "    <tr>\n",
              "      <th id=\"T_04d17_level0_row4\" class=\"row_heading level0 row4\" >cor_rubert_dale</th>\n",
              "      <td id=\"T_04d17_row4_col0\" class=\"data row4 col0\" >0.603175</td>\n",
              "      <td id=\"T_04d17_row4_col1\" class=\"data row4 col1\" >0.744898</td>\n",
              "      <td id=\"T_04d17_row4_col2\" class=\"data row4 col2\" >0.688679</td>\n",
              "      <td id=\"T_04d17_row4_col3\" class=\"data row4 col3\" >0.811111</td>\n",
              "    </tr>\n",
              "    <tr>\n",
              "      <th id=\"T_04d17_level0_row5\" class=\"row_heading level0 row5\" >proc_rubert_dale</th>\n",
              "      <td id=\"T_04d17_row5_col0\" class=\"data row5 col0\" >0.714286</td>\n",
              "      <td id=\"T_04d17_row5_col1\" class=\"data row5 col1\" >0.826923</td>\n",
              "      <td id=\"T_04d17_row5_col2\" class=\"data row5 col2\" >0.728814</td>\n",
              "      <td id=\"T_04d17_row5_col3\" class=\"data row5 col3\" >0.955556</td>\n",
              "    </tr>\n",
              "    <tr>\n",
              "      <th id=\"T_04d17_level0_row6\" class=\"row_heading level0 row6\" >uncor_cnn_barsukov</th>\n",
              "      <td id=\"T_04d17_row6_col0\" class=\"data row6 col0\" >0.730159</td>\n",
              "      <td id=\"T_04d17_row6_col1\" class=\"data row6 col1\" >0.813187</td>\n",
              "      <td id=\"T_04d17_row6_col2\" class=\"data row6 col2\" >0.804348</td>\n",
              "      <td id=\"T_04d17_row6_col3\" class=\"data row6 col3\" >0.822222</td>\n",
              "    </tr>\n",
              "    <tr>\n",
              "      <th id=\"T_04d17_level0_row7\" class=\"row_heading level0 row7\" >cor_cnn_barsukov</th>\n",
              "      <td id=\"T_04d17_row7_col0\" class=\"data row7 col0\" >0.730159</td>\n",
              "      <td id=\"T_04d17_row7_col1\" class=\"data row7 col1\" >0.819149</td>\n",
              "      <td id=\"T_04d17_row7_col2\" class=\"data row7 col2\" >0.785714</td>\n",
              "      <td id=\"T_04d17_row7_col3\" class=\"data row7 col3\" >0.855556</td>\n",
              "    </tr>\n",
              "    <tr>\n",
              "      <th id=\"T_04d17_level0_row8\" class=\"row_heading level0 row8\" >proc_cnn_barsukov</th>\n",
              "      <td id=\"T_04d17_row8_col0\" class=\"data row8 col0\" >0.761905</td>\n",
              "      <td id=\"T_04d17_row8_col1\" class=\"data row8 col1\" >0.845361</td>\n",
              "      <td id=\"T_04d17_row8_col2\" class=\"data row8 col2\" >0.788462</td>\n",
              "      <td id=\"T_04d17_row8_col3\" class=\"data row8 col3\" >0.911111</td>\n",
              "    </tr>\n",
              "  </tbody>\n",
              "</table>\n"
            ]
          },
          "metadata": {},
          "execution_count": 34
        }
      ]
    },
    {
      "cell_type": "code",
      "source": [
        "results_f1 = pd.DataFrame({'uncorrected': uncor_rubert_smetanin['f1'],\n",
        "                           'corrected': cor_rubert_smetanin['f1'],\n",
        "                           'preprocessed': proc_rubert_smetanin['f1']}, index=['rubert_smetanin'])\n",
        "\n",
        "results_f1.loc['rubert_dale'] = {'uncorrected': uncor_rubert_dale['f1'],\n",
        "                                 'corrected': cor_rubert_dale['f1'],\n",
        "                                 'preprocessed': proc_rubert_dale['f1']}\n",
        "\n",
        "results_f1.loc['cnn_barsukov'] = {'uncorrected': uncor_cnn_barsukov['f1'],\n",
        "                                  'corrected': cor_cnn_barsukov['f1'],\n",
        "                                  'preprocessed': proc_cnn_barsukov['f1']}\n",
        "\n",
        "results_f1.style.highlight_max(axis=1, color='orange')"
      ],
      "metadata": {
        "colab": {
          "base_uri": "https://localhost:8080/",
          "height": 143
        },
        "id": "5UUs4hERJhy2",
        "outputId": "caa71160-cb6f-4a3a-88c6-3943687745ca"
      },
      "execution_count": null,
      "outputs": [
        {
          "output_type": "execute_result",
          "data": {
            "text/plain": [
              "<pandas.io.formats.style.Styler at 0x7fdd6b04af10>"
            ],
            "text/html": [
              "<style type=\"text/css\">\n",
              "#T_c8791_row0_col2, #T_c8791_row1_col2, #T_c8791_row2_col2 {\n",
              "  background-color: orange;\n",
              "}\n",
              "</style>\n",
              "<table id=\"T_c8791_\" class=\"dataframe\">\n",
              "  <thead>\n",
              "    <tr>\n",
              "      <th class=\"blank level0\" >&nbsp;</th>\n",
              "      <th class=\"col_heading level0 col0\" >uncorrected</th>\n",
              "      <th class=\"col_heading level0 col1\" >corrected</th>\n",
              "      <th class=\"col_heading level0 col2\" >preprocessed</th>\n",
              "    </tr>\n",
              "  </thead>\n",
              "  <tbody>\n",
              "    <tr>\n",
              "      <th id=\"T_c8791_level0_row0\" class=\"row_heading level0 row0\" >rubert_smetanin</th>\n",
              "      <td id=\"T_c8791_row0_col0\" class=\"data row0 col0\" >0.811429</td>\n",
              "      <td id=\"T_c8791_row0_col1\" class=\"data row0 col1\" >0.848168</td>\n",
              "      <td id=\"T_c8791_row0_col2\" class=\"data row0 col2\" >0.862944</td>\n",
              "    </tr>\n",
              "    <tr>\n",
              "      <th id=\"T_c8791_level0_row1\" class=\"row_heading level0 row1\" >rubert_dale</th>\n",
              "      <td id=\"T_c8791_row1_col0\" class=\"data row1 col0\" >0.623377</td>\n",
              "      <td id=\"T_c8791_row1_col1\" class=\"data row1 col1\" >0.744898</td>\n",
              "      <td id=\"T_c8791_row1_col2\" class=\"data row1 col2\" >0.826923</td>\n",
              "    </tr>\n",
              "    <tr>\n",
              "      <th id=\"T_c8791_level0_row2\" class=\"row_heading level0 row2\" >cnn_barsukov</th>\n",
              "      <td id=\"T_c8791_row2_col0\" class=\"data row2 col0\" >0.813187</td>\n",
              "      <td id=\"T_c8791_row2_col1\" class=\"data row2 col1\" >0.819149</td>\n",
              "      <td id=\"T_c8791_row2_col2\" class=\"data row2 col2\" >0.845361</td>\n",
              "    </tr>\n",
              "  </tbody>\n",
              "</table>\n"
            ]
          },
          "metadata": {},
          "execution_count": 35
        }
      ]
    },
    {
      "cell_type": "markdown",
      "source": [
        "### Классические"
      ],
      "metadata": {
        "id": "ZmWHzwICLrCo"
      }
    },
    {
      "cell_type": "markdown",
      "source": [
        "#### MNB (Smetanin, 2020)  \n",
        "`0.832 F-score`  \n",
        "Есть данные в [статье](https://www.dialog-21.ru/media/5181/smetaninsi-029.pdf):  \"to build the MNB model, we used the Bag-of-Words model\n",
        "and the TF-IDF vectorization\". \n",
        "\n",
        "Preprocessing:  \n",
        "replace URLs and usernames with keywords,  \n",
        "remove punctuation marks,  \n",
        "convert strings into lowercase\". "
      ],
      "metadata": {
        "id": "mQcX1iaMLyob"
      }
    },
    {
      "cell_type": "code",
      "source": [
        "import re\n",
        "import string\n",
        "from sklearn.feature_extraction.text import TfidfVectorizer\n",
        "from sklearn.naive_bayes import MultinomialNB\n",
        "from sklearn.model_selection import train_test_split"
      ],
      "metadata": {
        "id": "-Jc1ZMO_L8mg"
      },
      "execution_count": null,
      "outputs": []
    },
    {
      "cell_type": "code",
      "source": [
        "def preprocess(text):\n",
        "    \"\"\"\n",
        "    preprocess text as described in the paper\n",
        "    \"\"\"\n",
        "    # replace URLs\n",
        "    text =  re.sub('https?[0-9a-zA-Z.:/]*', '#LINK', text)\n",
        "\n",
        "    # remove punctuation\n",
        "    text = text.translate(str.maketrans('', '', string.punctuation))\n",
        "\n",
        "    # convert to lowercase\n",
        "    text = text.lower()\n",
        "\n",
        "    return text"
      ],
      "metadata": {
        "id": "qZVkd3h9k2bA"
      },
      "execution_count": null,
      "outputs": []
    },
    {
      "cell_type": "code",
      "source": [
        "# not publicly available in my repo, please refer to the original upload on kaggle:\n",
        "# https://www.kaggle.com/blackmoon/russian-language-toxic-comments\n",
        "rltc = pd.read_csv('toxicity-detection-thesis/hypothesis_testing_data/kaggle_rltc.csv')"
      ],
      "metadata": {
        "id": "ISUjpJc7pIYb"
      },
      "execution_count": null,
      "outputs": []
    },
    {
      "cell_type": "code",
      "source": [
        "rltc.toxic = rltc.toxic.astype('int64')\n",
        "rltc.comment = rltc.comment.apply(preprocess)\n",
        "rltc.head(5)"
      ],
      "metadata": {
        "colab": {
          "base_uri": "https://localhost:8080/",
          "height": 206
        },
        "id": "vXbU3ujdqbw8",
        "outputId": "ef39d79b-bce8-4dde-931c-d481ac74d093"
      },
      "execution_count": null,
      "outputs": [
        {
          "output_type": "execute_result",
          "data": {
            "text/plain": [
              "                                             comment  toxic\n",
              "0                     верблюдовто за что дебилы бл\\n      1\n",
              "1  хохлы это отдушина затюканого россиянина мол в...      1\n",
              "2                           собаке  собачья смерть\\n      1\n",
              "3  страницу обнови дебил это тоже не оскорбление ...      1\n",
              "4  тебя не убедил 6страничный пдф в том что скрип...      1"
            ],
            "text/html": [
              "\n",
              "  <div id=\"df-8c2b19fc-052b-47a0-a658-fd9ee433c189\">\n",
              "    <div class=\"colab-df-container\">\n",
              "      <div>\n",
              "<style scoped>\n",
              "    .dataframe tbody tr th:only-of-type {\n",
              "        vertical-align: middle;\n",
              "    }\n",
              "\n",
              "    .dataframe tbody tr th {\n",
              "        vertical-align: top;\n",
              "    }\n",
              "\n",
              "    .dataframe thead th {\n",
              "        text-align: right;\n",
              "    }\n",
              "</style>\n",
              "<table border=\"1\" class=\"dataframe\">\n",
              "  <thead>\n",
              "    <tr style=\"text-align: right;\">\n",
              "      <th></th>\n",
              "      <th>comment</th>\n",
              "      <th>toxic</th>\n",
              "    </tr>\n",
              "  </thead>\n",
              "  <tbody>\n",
              "    <tr>\n",
              "      <th>0</th>\n",
              "      <td>верблюдовто за что дебилы бл\\n</td>\n",
              "      <td>1</td>\n",
              "    </tr>\n",
              "    <tr>\n",
              "      <th>1</th>\n",
              "      <td>хохлы это отдушина затюканого россиянина мол в...</td>\n",
              "      <td>1</td>\n",
              "    </tr>\n",
              "    <tr>\n",
              "      <th>2</th>\n",
              "      <td>собаке  собачья смерть\\n</td>\n",
              "      <td>1</td>\n",
              "    </tr>\n",
              "    <tr>\n",
              "      <th>3</th>\n",
              "      <td>страницу обнови дебил это тоже не оскорбление ...</td>\n",
              "      <td>1</td>\n",
              "    </tr>\n",
              "    <tr>\n",
              "      <th>4</th>\n",
              "      <td>тебя не убедил 6страничный пдф в том что скрип...</td>\n",
              "      <td>1</td>\n",
              "    </tr>\n",
              "  </tbody>\n",
              "</table>\n",
              "</div>\n",
              "      <button class=\"colab-df-convert\" onclick=\"convertToInteractive('df-8c2b19fc-052b-47a0-a658-fd9ee433c189')\"\n",
              "              title=\"Convert this dataframe to an interactive table.\"\n",
              "              style=\"display:none;\">\n",
              "        \n",
              "  <svg xmlns=\"http://www.w3.org/2000/svg\" height=\"24px\"viewBox=\"0 0 24 24\"\n",
              "       width=\"24px\">\n",
              "    <path d=\"M0 0h24v24H0V0z\" fill=\"none\"/>\n",
              "    <path d=\"M18.56 5.44l.94 2.06.94-2.06 2.06-.94-2.06-.94-.94-2.06-.94 2.06-2.06.94zm-11 1L8.5 8.5l.94-2.06 2.06-.94-2.06-.94L8.5 2.5l-.94 2.06-2.06.94zm10 10l.94 2.06.94-2.06 2.06-.94-2.06-.94-.94-2.06-.94 2.06-2.06.94z\"/><path d=\"M17.41 7.96l-1.37-1.37c-.4-.4-.92-.59-1.43-.59-.52 0-1.04.2-1.43.59L10.3 9.45l-7.72 7.72c-.78.78-.78 2.05 0 2.83L4 21.41c.39.39.9.59 1.41.59.51 0 1.02-.2 1.41-.59l7.78-7.78 2.81-2.81c.8-.78.8-2.07 0-2.86zM5.41 20L4 18.59l7.72-7.72 1.47 1.35L5.41 20z\"/>\n",
              "  </svg>\n",
              "      </button>\n",
              "      \n",
              "  <style>\n",
              "    .colab-df-container {\n",
              "      display:flex;\n",
              "      flex-wrap:wrap;\n",
              "      gap: 12px;\n",
              "    }\n",
              "\n",
              "    .colab-df-convert {\n",
              "      background-color: #E8F0FE;\n",
              "      border: none;\n",
              "      border-radius: 50%;\n",
              "      cursor: pointer;\n",
              "      display: none;\n",
              "      fill: #1967D2;\n",
              "      height: 32px;\n",
              "      padding: 0 0 0 0;\n",
              "      width: 32px;\n",
              "    }\n",
              "\n",
              "    .colab-df-convert:hover {\n",
              "      background-color: #E2EBFA;\n",
              "      box-shadow: 0px 1px 2px rgba(60, 64, 67, 0.3), 0px 1px 3px 1px rgba(60, 64, 67, 0.15);\n",
              "      fill: #174EA6;\n",
              "    }\n",
              "\n",
              "    [theme=dark] .colab-df-convert {\n",
              "      background-color: #3B4455;\n",
              "      fill: #D2E3FC;\n",
              "    }\n",
              "\n",
              "    [theme=dark] .colab-df-convert:hover {\n",
              "      background-color: #434B5C;\n",
              "      box-shadow: 0px 1px 3px 1px rgba(0, 0, 0, 0.15);\n",
              "      filter: drop-shadow(0px 1px 2px rgba(0, 0, 0, 0.3));\n",
              "      fill: #FFFFFF;\n",
              "    }\n",
              "  </style>\n",
              "\n",
              "      <script>\n",
              "        const buttonEl =\n",
              "          document.querySelector('#df-8c2b19fc-052b-47a0-a658-fd9ee433c189 button.colab-df-convert');\n",
              "        buttonEl.style.display =\n",
              "          google.colab.kernel.accessAllowed ? 'block' : 'none';\n",
              "\n",
              "        async function convertToInteractive(key) {\n",
              "          const element = document.querySelector('#df-8c2b19fc-052b-47a0-a658-fd9ee433c189');\n",
              "          const dataTable =\n",
              "            await google.colab.kernel.invokeFunction('convertToInteractive',\n",
              "                                                     [key], {});\n",
              "          if (!dataTable) return;\n",
              "\n",
              "          const docLinkHtml = 'Like what you see? Visit the ' +\n",
              "            '<a target=\"_blank\" href=https://colab.research.google.com/notebooks/data_table.ipynb>data table notebook</a>'\n",
              "            + ' to learn more about interactive tables.';\n",
              "          element.innerHTML = '';\n",
              "          dataTable['output_type'] = 'display_data';\n",
              "          await google.colab.output.renderOutput(dataTable, element);\n",
              "          const docLink = document.createElement('div');\n",
              "          docLink.innerHTML = docLinkHtml;\n",
              "          element.appendChild(docLink);\n",
              "        }\n",
              "      </script>\n",
              "    </div>\n",
              "  </div>\n",
              "  "
            ]
          },
          "metadata": {},
          "execution_count": 47
        }
      ]
    },
    {
      "cell_type": "code",
      "source": [
        "vectorizer = TfidfVectorizer(min_df=7)\n",
        "vectorized = vectorizer.fit_transform(rltc.comment.values.astype('U')).toarray()\n",
        "\n",
        "x_train, _, y_train, _ = train_test_split(vectorized, rltc.toxic.tolist(),\n",
        "                                          test_size=0.2, random_state=42)"
      ],
      "metadata": {
        "id": "kbeO7cP_qyLP"
      },
      "execution_count": null,
      "outputs": []
    },
    {
      "cell_type": "code",
      "source": [
        "mnb = MultinomialNB()\n",
        "mnb.fit(x_train, y_train)"
      ],
      "metadata": {
        "colab": {
          "base_uri": "https://localhost:8080/"
        },
        "id": "-iEL3DKPrj7a",
        "outputId": "469d72fa-763a-4f89-f4b5-a01862985aca"
      },
      "execution_count": null,
      "outputs": [
        {
          "output_type": "execute_result",
          "data": {
            "text/plain": [
              "MultinomialNB()"
            ]
          },
          "metadata": {},
          "execution_count": 49
        }
      ]
    },
    {
      "cell_type": "code",
      "source": [
        "def eval_mnb_smetanin(clf, dataset):\n",
        "    \"\"\"\n",
        "    takes clf object and a dataset in df format, returns dictionaries\n",
        "    with metrics and texts\n",
        "    \"\"\"\n",
        "    text_list = dataset.text.apply(preprocess).to_list()\n",
        "    golds = dataset.toxicity.to_list()\n",
        "\n",
        "    vectorized = vectorizer.transform(text_list).toarray()\n",
        "    preds = clf.predict(vectorized)\n",
        "\n",
        "    precision, recall, f1, _ = precision_recall_fscore_support(golds, preds,\n",
        "                                                               average='binary')\n",
        "    acc = accuracy_score(golds, preds)\n",
        "    plot_matrix(golds, preds)\n",
        "    return {'accuracy': acc,\n",
        "            'f1': f1,\n",
        "            'precision': precision,\n",
        "            'recall': recall}, \\\n",
        "            {'true_labels': golds,\n",
        "            'text': text_list,\n",
        "            'predicted': preds}"
      ],
      "metadata": {
        "id": "DnBug5txnSAd"
      },
      "execution_count": null,
      "outputs": []
    },
    {
      "cell_type": "code",
      "source": [
        "uncor_mnb_smetanin, uncor_mnb_smetanin_data = eval_mnb_smetanin(mnb, uncorrected_data)\n",
        "uncor_mnb_smetanin"
      ],
      "metadata": {
        "id": "VaLXwXMnL8wb",
        "colab": {
          "base_uri": "https://localhost:8080/",
          "height": 379
        },
        "outputId": "78520cf8-c52f-48df-e7d7-743f6ff14635"
      },
      "execution_count": null,
      "outputs": [
        {
          "output_type": "display_data",
          "data": {
            "text/plain": [
              "<Figure size 432x288 with 2 Axes>"
            ],
            "image/png": "[encoded data removed]"
          },
          "metadata": {
            "needs_background": "light"
          }
        },
        {
          "output_type": "execute_result",
          "data": {
            "text/plain": [
              "{'accuracy': 0.5238095238095238,\n",
              " 'f1': 0.5774647887323944,\n",
              " 'precision': 0.7884615384615384,\n",
              " 'recall': 0.45555555555555555}"
            ]
          },
          "metadata": {},
          "execution_count": 51
        }
      ]
    },
    {
      "cell_type": "code",
      "source": [
        "cor_mnb_smetanin, cor_mnb_smetanin_data = eval_mnb_smetanin(mnb, corrected_data)\n",
        "cor_mnb_smetanin"
      ],
      "metadata": {
        "colab": {
          "base_uri": "https://localhost:8080/",
          "height": 379
        },
        "id": "bX9DFvi4k2jp",
        "outputId": "655921a7-53e8-4f31-da16-535ae2ca087d"
      },
      "execution_count": null,
      "outputs": [
        {
          "output_type": "display_data",
          "data": {
            "text/plain": [
              "<Figure size 432x288 with 2 Axes>"
            ],
            "image/png": "[encoded data removed]"
          },
          "metadata": {
            "needs_background": "light"
          }
        },
        {
          "output_type": "execute_result",
          "data": {
            "text/plain": [
              "{'accuracy': 0.5873015873015873,\n",
              " 'f1': 0.6790123456790124,\n",
              " 'precision': 0.7638888888888888,\n",
              " 'recall': 0.6111111111111112}"
            ]
          },
          "metadata": {},
          "execution_count": 52
        }
      ]
    },
    {
      "cell_type": "code",
      "source": [
        "proc_mnb_smetanin, proc_mnb_smetanin_data = eval_mnb_smetanin(mnb, processed_data)\n",
        "proc_mnb_smetanin"
      ],
      "metadata": {
        "colab": {
          "base_uri": "https://localhost:8080/",
          "height": 379
        },
        "id": "uhk6RFFf9NOs",
        "outputId": "c1ca7ac6-59fd-4d15-c087-c135331e571d"
      },
      "execution_count": null,
      "outputs": [
        {
          "output_type": "display_data",
          "data": {
            "text/plain": [
              "<Figure size 432x288 with 2 Axes>"
            ],
            "image/png": "[encoded data removed]"
          },
          "metadata": {
            "needs_background": "light"
          }
        },
        {
          "output_type": "execute_result",
          "data": {
            "text/plain": [
              "{'accuracy': 0.6428571428571429,\n",
              " 'f1': 0.7428571428571428,\n",
              " 'precision': 0.7647058823529411,\n",
              " 'recall': 0.7222222222222222}"
            ]
          },
          "metadata": {},
          "execution_count": 53
        }
      ]
    },
    {
      "cell_type": "code",
      "source": [
        "save_predictions(uncor_mnb_smetanin_data,\n",
        "                 cor_mnb_smetanin_data,\n",
        "                 proc_mnb_smetanin_data,\n",
        "                 'mnb_smetanin')"
      ],
      "metadata": {
        "colab": {
          "base_uri": "https://localhost:8080/"
        },
        "id": "dzn56QCv3w9D",
        "outputId": "581f0114-c2ca-4342-feeb-06500850f908"
      },
      "execution_count": null,
      "outputs": [
        {
          "output_type": "stream",
          "name": "stdout",
          "text": [
            "mnb_smetanin data saved successfully\n"
          ]
        }
      ]
    },
    {
      "cell_type": "markdown",
      "source": [
        "#### SVM (Saitov & Derczynski, 2021)  \n",
        "`0.88 F-score`  \n",
        "Для этого доступен [колаб](https://colab.research.google.com/drive/1slSZpA_OHZQgz4R4GzqVFdbVhWYz6aEn?usp=sharing) с препроцессингом и обучением"
      ],
      "metadata": {
        "id": "IKQVNRE_LzVZ"
      }
    },
    {
      "cell_type": "code",
      "source": [
        "%cd /content"
      ],
      "metadata": {
        "colab": {
          "base_uri": "https://localhost:8080/"
        },
        "id": "XfIqZQfN9Bj4",
        "outputId": "67501e30-13f7-42f5-ba20-646fb1295982"
      },
      "execution_count": null,
      "outputs": [
        {
          "output_type": "stream",
          "name": "stdout",
          "text": [
            "/content\n"
          ]
        }
      ]
    },
    {
      "cell_type": "code",
      "source": [
        "# ! git clone https://github.com/Sariellee/Russan-Hate-speech-Recognition\n",
        "\n",
        "# my fork with adapted code\n",
        "! git clone https://github.com/alla-g/Russan-Hate-speech-Recognition"
      ],
      "metadata": {
        "id": "qVd3QzKFJpD2",
        "colab": {
          "base_uri": "https://localhost:8080/"
        },
        "outputId": "ae677cba-2488-4f31-8034-f20f4bc1a470"
      },
      "execution_count": null,
      "outputs": [
        {
          "output_type": "stream",
          "name": "stdout",
          "text": [
            "Cloning into 'Russan-Hate-speech-Recognition'...\n",
            "remote: Enumerating objects: 77, done.\u001b[K\n",
            "remote: Counting objects: 100% (50/50), done.\u001b[K\n",
            "remote: Compressing objects: 100% (49/49), done.\u001b[K\n",
            "remote: Total 77 (delta 25), reused 6 (delta 1), pack-reused 27\u001b[K\n",
            "Unpacking objects: 100% (77/77), done.\n"
          ]
        }
      ]
    },
    {
      "cell_type": "code",
      "source": [
        "%cd Russan-Hate-speech-Recognition"
      ],
      "metadata": {
        "colab": {
          "base_uri": "https://localhost:8080/"
        },
        "id": "s4UDIvAhEOJ4",
        "outputId": "18d2c5d8-5797-4571-b88b-b822f7120a72"
      },
      "execution_count": null,
      "outputs": [
        {
          "output_type": "stream",
          "name": "stdout",
          "text": [
            "[Errno 2] No such file or directory: 'Russan-Hate-speech-Recognition'\n",
            "/content/Russan-Hate-speech-Recognition\n"
          ]
        }
      ]
    },
    {
      "cell_type": "code",
      "source": [
        "%pwd"
      ],
      "metadata": {
        "colab": {
          "base_uri": "https://localhost:8080/",
          "height": 36
        },
        "id": "Nxp23ABoF-OL",
        "outputId": "aa8bb76b-1f5b-429d-99d0-0200c946fe00"
      },
      "execution_count": null,
      "outputs": [
        {
          "output_type": "execute_result",
          "data": {
            "text/plain": [
              "'/content/Russan-Hate-speech-Recognition'"
            ],
            "application/vnd.google.colaboratory.intrinsic+json": {
              "type": "string"
            }
          },
          "metadata": {},
          "execution_count": 58
        }
      ]
    },
    {
      "cell_type": "code",
      "source": [
        "! pip install -r requirements.txt"
      ],
      "metadata": {
        "id": "iuYB4wYgL9Y2",
        "colab": {
          "base_uri": "https://localhost:8080/"
        },
        "outputId": "0c7bd2a2-da63-47f5-b292-aa087f086329"
      },
      "execution_count": null,
      "outputs": [
        {
          "output_type": "stream",
          "name": "stdout",
          "text": [
            "Requirement already satisfied: textstat in /usr/local/lib/python3.7/dist-packages (from -r requirements.txt (line 1)) (0.7.3)\n",
            "Requirement already satisfied: pymorphy2 in /usr/local/lib/python3.7/dist-packages (from -r requirements.txt (line 2)) (0.9.1)\n",
            "Requirement already satisfied: dostoevsky in /usr/local/lib/python3.7/dist-packages (from -r requirements.txt (line 3)) (0.6.0)\n",
            "Requirement already satisfied: nltk==3.4 in /usr/local/lib/python3.7/dist-packages (from -r requirements.txt (line 4)) (3.4)\n",
            "Requirement already satisfied: numpy in /usr/local/lib/python3.7/dist-packages (from -r requirements.txt (line 5)) (1.21.6)\n",
            "Requirement already satisfied: pandas in /usr/local/lib/python3.7/dist-packages (from -r requirements.txt (line 6)) (1.3.5)\n",
            "Requirement already satisfied: scikit-learn in /usr/local/lib/python3.7/dist-packages (from -r requirements.txt (line 7)) (1.0.2)\n",
            "Requirement already satisfied: six in /usr/local/lib/python3.7/dist-packages (from nltk==3.4->-r requirements.txt (line 4)) (1.15.0)\n",
            "Requirement already satisfied: singledispatch in /usr/local/lib/python3.7/dist-packages (from nltk==3.4->-r requirements.txt (line 4)) (3.7.0)\n",
            "Requirement already satisfied: pyphen in /usr/local/lib/python3.7/dist-packages (from textstat->-r requirements.txt (line 1)) (0.12.0)\n",
            "Requirement already satisfied: docopt>=0.6 in /usr/local/lib/python3.7/dist-packages (from pymorphy2->-r requirements.txt (line 2)) (0.6.2)\n",
            "Requirement already satisfied: pymorphy2-dicts-ru<3.0,>=2.4 in /usr/local/lib/python3.7/dist-packages (from pymorphy2->-r requirements.txt (line 2)) (2.4.417127.4579844)\n",
            "Requirement already satisfied: dawg-python>=0.7.1 in /usr/local/lib/python3.7/dist-packages (from pymorphy2->-r requirements.txt (line 2)) (0.7.2)\n",
            "Requirement already satisfied: razdel==0.5.0 in /usr/local/lib/python3.7/dist-packages (from dostoevsky->-r requirements.txt (line 3)) (0.5.0)\n",
            "Requirement already satisfied: fasttext==0.9.2 in /usr/local/lib/python3.7/dist-packages (from dostoevsky->-r requirements.txt (line 3)) (0.9.2)\n",
            "Requirement already satisfied: pybind11>=2.2 in /usr/local/lib/python3.7/dist-packages (from fasttext==0.9.2->dostoevsky->-r requirements.txt (line 3)) (2.9.2)\n",
            "Requirement already satisfied: setuptools>=0.7.0 in /usr/local/lib/python3.7/dist-packages (from fasttext==0.9.2->dostoevsky->-r requirements.txt (line 3)) (57.4.0)\n",
            "Requirement already satisfied: python-dateutil>=2.7.3 in /usr/local/lib/python3.7/dist-packages (from pandas->-r requirements.txt (line 6)) (2.8.2)\n",
            "Requirement already satisfied: pytz>=2017.3 in /usr/local/lib/python3.7/dist-packages (from pandas->-r requirements.txt (line 6)) (2022.1)\n",
            "Requirement already satisfied: joblib>=0.11 in /usr/local/lib/python3.7/dist-packages (from scikit-learn->-r requirements.txt (line 7)) (1.1.0)\n",
            "Requirement already satisfied: scipy>=1.1.0 in /usr/local/lib/python3.7/dist-packages (from scikit-learn->-r requirements.txt (line 7)) (1.4.1)\n",
            "Requirement already satisfied: threadpoolctl>=2.0.0 in /usr/local/lib/python3.7/dist-packages (from scikit-learn->-r requirements.txt (line 7)) (3.1.0)\n"
          ]
        }
      ]
    },
    {
      "cell_type": "code",
      "source": [
        "! wget https://storage.b-labs.pro/models/fasttext-social-network-model.bin"
      ],
      "metadata": {
        "colab": {
          "base_uri": "https://localhost:8080/"
        },
        "id": "4WPSWHwPG7iV",
        "outputId": "609378c2-6427-4dd9-8932-33465fe680a4"
      },
      "execution_count": null,
      "outputs": [
        {
          "output_type": "stream",
          "name": "stdout",
          "text": [
            "--2022-05-07 15:16:38--  https://storage.b-labs.pro/models/fasttext-social-network-model.bin\n",
            "Resolving storage.b-labs.pro (storage.b-labs.pro)... 172.67.160.159, 104.21.14.222, 2606:4700:3035::6815:ede, ...\n",
            "Connecting to storage.b-labs.pro (storage.b-labs.pro)|172.67.160.159|:443... connected.\n",
            "HTTP request sent, awaiting response... 200 OK\n",
            "Length: 84051390 (80M) [application/x-sega-cd-rom]\n",
            "Saving to: ‘fasttext-social-network-model.bin’\n",
            "\n",
            "fasttext-social-net 100%[===================>]  80.16M  77.6MB/s    in 1.0s    \n",
            "\n",
            "2022-05-07 15:16:39 (77.6 MB/s) - ‘fasttext-social-network-model.bin’ saved [84051390/84051390]\n",
            "\n"
          ]
        }
      ]
    },
    {
      "cell_type": "code",
      "source": [
        "! python main.py"
      ],
      "metadata": {
        "colab": {
          "base_uri": "https://localhost:8080/"
        },
        "id": "nuHLrpaqB_JK",
        "outputId": "0db42cee-6c56-4e76-8d81-092b6b298c88"
      },
      "execution_count": null,
      "outputs": [
        {
          "output_type": "stream",
          "name": "stdout",
          "text": [
            "[nltk_data] Downloading package punkt to /root/nltk_data...\n",
            "[nltk_data]   Package punkt is already up-to-date!\n",
            "[nltk_data] Downloading package stopwords to /root/nltk_data...\n",
            "[nltk_data]   Package stopwords is already up-to-date!\n",
            "\n",
            "label 0: 10663 samples\n",
            "label 1: 5212 samples\n",
            "data proportion is: 0.67/0.33\n",
            "\n",
            "AFTER REBALANCING\n",
            "\n",
            "label 0: 5451 samples\n",
            "label 1: 5212 samples\n",
            "data proportion is: 0.51/0.49\n",
            "\n",
            "preprocessing stage 1..\n",
            "extraction of features..\n",
            "acquring TF-IDF features..\n",
            "/usr/local/lib/python3.7/dist-packages/sklearn/utils/deprecation.py:87: FutureWarning: Function get_feature_names is deprecated; get_feature_names is deprecated in 1.0 and will be removed in 1.2. Please use get_feature_names_out instead.\n",
            "  warnings.warn(msg, category=FutureWarning)\n",
            "preprocessing stage 2..\n",
            "extracting features..\n",
            "training model..\n",
            "extraction of features..\n",
            "initiating sentiment analyzer..\n",
            "Warning : `load_model` does not return WordVectorModel or SupervisedModel any more, but a `FastText` object which is very similar.\n",
            "Warning : `load_model` does not return WordVectorModel or SupervisedModel any more, but a `FastText` object which is very similar.\n",
            "Warning : `load_model` does not return WordVectorModel or SupervisedModel any more, but a `FastText` object which is very similar.\n",
            "acquring TF-IDF features for uncor..\n",
            "/usr/local/lib/python3.7/dist-packages/sklearn/utils/deprecation.py:87: FutureWarning: Function get_feature_names is deprecated; get_feature_names is deprecated in 1.0 and will be removed in 1.2. Please use get_feature_names_out instead.\n",
            "  warnings.warn(msg, category=FutureWarning)\n",
            "preprocessing stage 2..\n",
            "extracting features..\n",
            "acquring TF-IDF features for cor..\n",
            "/usr/local/lib/python3.7/dist-packages/sklearn/utils/deprecation.py:87: FutureWarning: Function get_feature_names is deprecated; get_feature_names is deprecated in 1.0 and will be removed in 1.2. Please use get_feature_names_out instead.\n",
            "  warnings.warn(msg, category=FutureWarning)\n",
            "preprocessing stage 2..\n",
            "extracting features..\n",
            "acquring TF-IDF features for proc..\n",
            "/usr/local/lib/python3.7/dist-packages/sklearn/utils/deprecation.py:87: FutureWarning: Function get_feature_names is deprecated; get_feature_names is deprecated in 1.0 and will be removed in 1.2. Please use get_feature_names_out instead.\n",
            "  warnings.warn(msg, category=FutureWarning)\n",
            "preprocessing stage 2..\n",
            "extracting features..\n",
            "predicting on uncorrected\n",
            "              precision    recall  f1-score   support\n",
            "\n",
            "           0       0.48      0.33      0.39        36\n",
            "           1       0.76      0.86      0.81        90\n",
            "\n",
            "    accuracy                           0.71       126\n",
            "   macro avg       0.62      0.59      0.60       126\n",
            "weighted avg       0.68      0.71      0.69       126\n",
            "\n",
            "/usr/local/lib/python3.7/dist-packages/sklearn/utils/deprecation.py:87: FutureWarning: Function plot_confusion_matrix is deprecated; Function `plot_confusion_matrix` is deprecated in 1.0 and will be removed in 1.2. Use one of the class methods: ConfusionMatrixDisplay.from_predictions or ConfusionMatrixDisplay.from_estimator.\n",
            "  warnings.warn(msg, category=FutureWarning)\n",
            "МАТРИЦА: [[12 24]\n",
            " [13 77]]\n",
            "<Figure size 640x480 with 3 Axes>\n",
            "predicting on corrected\n",
            "              precision    recall  f1-score   support\n",
            "\n",
            "           0       0.38      0.17      0.23        36\n",
            "           1       0.73      0.89      0.80        90\n",
            "\n",
            "    accuracy                           0.68       126\n",
            "   macro avg       0.55      0.53      0.52       126\n",
            "weighted avg       0.63      0.68      0.64       126\n",
            "\n",
            "/usr/local/lib/python3.7/dist-packages/sklearn/utils/deprecation.py:87: FutureWarning: Function plot_confusion_matrix is deprecated; Function `plot_confusion_matrix` is deprecated in 1.0 and will be removed in 1.2. Use one of the class methods: ConfusionMatrixDisplay.from_predictions or ConfusionMatrixDisplay.from_estimator.\n",
            "  warnings.warn(msg, category=FutureWarning)\n",
            "МАТРИЦА: [[ 6 30]\n",
            " [10 80]]\n",
            "<Figure size 640x480 with 3 Axes>\n",
            "predicting on preprocessed\n",
            "              precision    recall  f1-score   support\n",
            "\n",
            "           0       0.36      0.11      0.17        36\n",
            "           1       0.72      0.92      0.81        90\n",
            "\n",
            "    accuracy                           0.69       126\n",
            "   macro avg       0.54      0.52      0.49       126\n",
            "weighted avg       0.62      0.69      0.63       126\n",
            "\n",
            "/usr/local/lib/python3.7/dist-packages/sklearn/utils/deprecation.py:87: FutureWarning: Function plot_confusion_matrix is deprecated; Function `plot_confusion_matrix` is deprecated in 1.0 and will be removed in 1.2. Use one of the class methods: ConfusionMatrixDisplay.from_predictions or ConfusionMatrixDisplay.from_estimator.\n",
            "  warnings.warn(msg, category=FutureWarning)\n",
            "МАТРИЦА: [[ 4 32]\n",
            " [ 7 83]]\n",
            "<Figure size 640x480 with 3 Axes>\n"
          ]
        }
      ]
    },
    {
      "cell_type": "markdown",
      "source": [
        "#### LogReg (Barsukov, 2021)"
      ],
      "metadata": {
        "id": "vy12yUQstUWw"
      }
    },
    {
      "cell_type": "code",
      "source": [
        "# from https://github.com/nsbarsukov/toxic-comments-detector/blob/master/models/00baseModelLogRegr.ipynb\n",
        "! git clone https://github.com/nsbarsukov/toxic-comments-detector"
      ],
      "metadata": {
        "colab": {
          "base_uri": "https://localhost:8080/"
        },
        "id": "i-yJ1pLw-_PG",
        "outputId": "0ba64799-6249-4dcf-d81e-6cd20dd6a881"
      },
      "execution_count": null,
      "outputs": [
        {
          "output_type": "stream",
          "name": "stdout",
          "text": [
            "Cloning into 'toxic-comments-detector'...\n",
            "remote: Enumerating objects: 876, done.\u001b[K\n",
            "remote: Counting objects: 100% (24/24), done.\u001b[K\n",
            "remote: Compressing objects: 100% (20/20), done.\u001b[K\n",
            "remote: Total 876 (delta 4), reused 4 (delta 4), pack-reused 852\u001b[K\n",
            "Receiving objects: 100% (876/876), 97.15 MiB | 15.01 MiB/s, done.\n",
            "Resolving deltas: 100% (497/497), done.\n"
          ]
        }
      ]
    },
    {
      "cell_type": "code",
      "source": [
        "%cd /content/toxic-comments-detector"
      ],
      "metadata": {
        "colab": {
          "base_uri": "https://localhost:8080/"
        },
        "id": "-ZmjfT6rtxSe",
        "outputId": "a2d6d86f-5796-4c58-d2f1-eb82668a9718"
      },
      "execution_count": null,
      "outputs": [
        {
          "output_type": "stream",
          "name": "stdout",
          "text": [
            "/content/toxic-comments-detector\n"
          ]
        }
      ]
    },
    {
      "cell_type": "markdown",
      "source": [
        "code below is taken from [original notebook](https://github.com/nsbarsukov/toxic-comments-detector/blob/master/models/00baseModelLogRegr.ipynb)"
      ],
      "metadata": {
        "id": "xzI-9O94H_TO"
      }
    },
    {
      "cell_type": "code",
      "source": [
        "import sys\n",
        "import sklearn\n",
        "import nltk\n",
        "\n",
        "# local imports\n",
        "from dev import (\n",
        "    load_cleaned_russian_text_data,\n",
        "    evaluate_model,\n",
        "    SEED\n",
        ")"
      ],
      "metadata": {
        "id": "c_yz__iotxfK"
      },
      "execution_count": null,
      "outputs": []
    },
    {
      "cell_type": "code",
      "source": [
        "X_train, X_test, y_train, y_test = load_cleaned_russian_text_data()"
      ],
      "metadata": {
        "id": "bvi55Pv_txtJ"
      },
      "execution_count": null,
      "outputs": []
    },
    {
      "cell_type": "code",
      "source": [
        "! pip install pymorphy2"
      ],
      "metadata": {
        "id": "EVtn42Psvb4M",
        "colab": {
          "base_uri": "https://localhost:8080/"
        },
        "outputId": "9381b0df-b1ab-4a47-e203-48470bb8c0f3"
      },
      "execution_count": null,
      "outputs": [
        {
          "output_type": "stream",
          "name": "stdout",
          "text": [
            "\u001b[33mWARNING: Ignoring invalid distribution -ensorflow (/usr/local/lib/python3.7/dist-packages)\u001b[0m\n",
            "\u001b[33mWARNING: Ignoring invalid distribution -ensorflow (/usr/local/lib/python3.7/dist-packages)\u001b[0m\n",
            "Requirement already satisfied: pymorphy2 in /usr/local/lib/python3.7/dist-packages (0.9.1)\n",
            "Requirement already satisfied: pymorphy2-dicts-ru<3.0,>=2.4 in /usr/local/lib/python3.7/dist-packages (from pymorphy2) (2.4.417127.4579844)\n",
            "Requirement already satisfied: dawg-python>=0.7.1 in /usr/local/lib/python3.7/dist-packages (from pymorphy2) (0.7.2)\n",
            "Requirement already satisfied: docopt>=0.6 in /usr/local/lib/python3.7/dist-packages (from pymorphy2) (0.6.2)\n",
            "\u001b[33mWARNING: Ignoring invalid distribution -ensorflow (/usr/local/lib/python3.7/dist-packages)\u001b[0m\n"
          ]
        }
      ]
    },
    {
      "cell_type": "code",
      "source": [
        "# add my test data\n",
        "from textPreprocessing import preprocess_text"
      ],
      "metadata": {
        "id": "XxmPzZnuvLKH"
      },
      "execution_count": null,
      "outputs": []
    },
    {
      "cell_type": "code",
      "source": [
        "from sklearn.feature_extraction.text import CountVectorizer\n",
        "import nltk\n",
        "nltk.download('stopwords')\n",
        "from nltk.corpus import stopwords\n",
        "\n",
        "vectorizer = CountVectorizer(\n",
        "    min_df=3,\n",
        "    stop_words=stopwords.words('russian')\n",
        ")\n",
        "\n",
        "vectorizer.fit(X_train.flatten());"
      ],
      "metadata": {
        "colab": {
          "base_uri": "https://localhost:8080/"
        },
        "id": "HtVSdxvNuuMf",
        "outputId": "6c1ce4ab-2e0d-48f5-9734-ce9c922f857c"
      },
      "execution_count": null,
      "outputs": [
        {
          "output_type": "stream",
          "name": "stdout",
          "text": [
            "[nltk_data] Downloading package stopwords to /root/nltk_data...\n",
            "[nltk_data]   Unzipping corpora/stopwords.zip.\n"
          ]
        }
      ]
    },
    {
      "cell_type": "code",
      "source": [
        "X_train = vectorizer.transform(X_train.flatten())\n",
        "\n",
        "X_test = vectorizer.transform(X_test.flatten())"
      ],
      "metadata": {
        "id": "i7b_yHxJuuRU"
      },
      "execution_count": null,
      "outputs": []
    },
    {
      "cell_type": "code",
      "source": [
        "from sklearn.linear_model import LogisticRegression\n",
        "\n",
        "logreg = LogisticRegression()\n",
        "logreg.fit(X_train, y_train);"
      ],
      "metadata": {
        "id": "57jBlEC3uuUu"
      },
      "execution_count": null,
      "outputs": []
    },
    {
      "cell_type": "code",
      "source": [
        "def eval_logreg_barsukov(clf, dataset):\n",
        "    \"\"\"\n",
        "    takes clf object and a dataset in df format, returns dictionaries\n",
        "    with metrics and texts\n",
        "    \"\"\"\n",
        "    text_list = dataset.text.apply(preprocess_text).to_list()\n",
        "    golds = dataset.toxicity.to_list()\n",
        "\n",
        "    vectorized = vectorizer.transform(text_list).toarray()\n",
        "    preds = clf.predict(vectorized)\n",
        "\n",
        "    precision, recall, f1, _ = precision_recall_fscore_support(golds, preds,\n",
        "                                                               average='binary')\n",
        "    acc = accuracy_score(golds, preds)\n",
        "    plot_matrix(golds, preds)\n",
        "    return {'accuracy': acc,\n",
        "            'f1': f1,\n",
        "            'precision': precision,\n",
        "            'recall': recall}, \\\n",
        "            {'true_labels': golds,\n",
        "            'text': text_list,\n",
        "            'predicted': preds}"
      ],
      "metadata": {
        "id": "a9U5u_vfvsZ4"
      },
      "execution_count": null,
      "outputs": []
    },
    {
      "cell_type": "code",
      "source": [
        "uncor_logreg_barsukov, uncor_logreg_barsukov_data = eval_logreg_barsukov(logreg, uncorrected_data)\n",
        "uncor_logreg_barsukov"
      ],
      "metadata": {
        "colab": {
          "base_uri": "https://localhost:8080/",
          "height": 379
        },
        "id": "BWfVe_CHwwDu",
        "outputId": "20bf2794-9dbf-4c37-faa0-8d9a6e5b6c02"
      },
      "execution_count": null,
      "outputs": [
        {
          "output_type": "display_data",
          "data": {
            "text/plain": [
              "<Figure size 432x288 with 2 Axes>"
            ],
            "image/png": "[encoded data removed]"
          },
          "metadata": {
            "needs_background": "light"
          }
        },
        {
          "output_type": "execute_result",
          "data": {
            "text/plain": [
              "{'accuracy': 0.6111111111111112,\n",
              " 'f1': 0.6754966887417219,\n",
              " 'precision': 0.8360655737704918,\n",
              " 'recall': 0.5666666666666667}"
            ]
          },
          "metadata": {},
          "execution_count": 73
        }
      ]
    },
    {
      "cell_type": "code",
      "source": [
        "cor_logreg_barsukov, cor_logreg_barsukov_data = eval_logreg_barsukov(logreg, corrected_data)\n",
        "cor_logreg_barsukov"
      ],
      "metadata": {
        "colab": {
          "base_uri": "https://localhost:8080/",
          "height": 379
        },
        "id": "iDXXHRUPwwqg",
        "outputId": "87c3356c-9e54-424a-cd8d-3b2112151746"
      },
      "execution_count": null,
      "outputs": [
        {
          "output_type": "display_data",
          "data": {
            "text/plain": [
              "<Figure size 432x288 with 2 Axes>"
            ],
            "image/png": "[encoded data removed]"
          },
          "metadata": {
            "needs_background": "light"
          }
        },
        {
          "output_type": "execute_result",
          "data": {
            "text/plain": [
              "{'accuracy': 0.6825396825396826,\n",
              " 'f1': 0.7777777777777778,\n",
              " 'precision': 0.7777777777777778,\n",
              " 'recall': 0.7777777777777778}"
            ]
          },
          "metadata": {},
          "execution_count": 74
        }
      ]
    },
    {
      "cell_type": "code",
      "source": [
        "proc_logreg_barsukov, proc_logreg_barsukov_data = eval_logreg_barsukov(logreg, processed_data)\n",
        "proc_logreg_barsukov"
      ],
      "metadata": {
        "colab": {
          "base_uri": "https://localhost:8080/",
          "height": 379
        },
        "id": "Pox4NZToww_X",
        "outputId": "35d72297-2a83-48bf-c71b-be9966dd9033"
      },
      "execution_count": null,
      "outputs": [
        {
          "output_type": "display_data",
          "data": {
            "text/plain": [
              "<Figure size 432x288 with 2 Axes>"
            ],
            "image/png": "[encoded data removed]"
          },
          "metadata": {
            "needs_background": "light"
          }
        },
        {
          "output_type": "execute_result",
          "data": {
            "text/plain": [
              "{'accuracy': 0.6904761904761905,\n",
              " 'f1': 0.7891891891891891,\n",
              " 'precision': 0.7684210526315789,\n",
              " 'recall': 0.8111111111111111}"
            ]
          },
          "metadata": {},
          "execution_count": 75
        }
      ]
    },
    {
      "cell_type": "code",
      "source": [
        "save_predictions(uncor_logreg_barsukov_data,\n",
        "                 cor_logreg_barsukov_data,\n",
        "                 proc_logreg_barsukov_data,\n",
        "                 'logreg_barsukov')"
      ],
      "metadata": {
        "colab": {
          "base_uri": "https://localhost:8080/"
        },
        "id": "c4r0wMak-ksp",
        "outputId": "4ed67d32-23b2-4e2f-8a52-3f5d583ade53"
      },
      "execution_count": null,
      "outputs": [
        {
          "output_type": "stream",
          "name": "stdout",
          "text": [
            "logreg_barsukov data saved successfully\n"
          ]
        }
      ]
    },
    {
      "cell_type": "markdown",
      "source": [
        "### Мои модели\n",
        "* данные vk + 1 задача\n",
        "* данные vk + 2 задачи\n",
        "* все имеющиеся данные + 1 задача\n",
        "* все имеющиеся данные + 2 задачи "
      ],
      "metadata": {
        "id": "rNukzuE9A_-e"
      }
    },
    {
      "cell_type": "code",
      "source": [
        "%cd /content"
      ],
      "metadata": {
        "colab": {
          "base_uri": "https://localhost:8080/"
        },
        "id": "dlobnPKR_w1n",
        "outputId": "fc41651d-ee0a-4a9f-f375-563b9b307d2f"
      },
      "execution_count": null,
      "outputs": [
        {
          "output_type": "stream",
          "name": "stdout",
          "text": [
            "/content\n"
          ]
        }
      ]
    },
    {
      "cell_type": "code",
      "source": [
        "! git clone https://github.com/hellohaptik/multi-task-NLP.git\n",
        "%cd multi-task-NLP\n",
        "! pip install -r requirements.txt"
      ],
      "metadata": {
        "colab": {
          "base_uri": "https://localhost:8080/",
          "height": 1000
        },
        "id": "EA8lLQTZbjv9",
        "outputId": "f9521ef7-5b7e-4010-fb2b-060503bcbe97"
      },
      "execution_count": null,
      "outputs": [
        {
          "output_type": "stream",
          "name": "stdout",
          "text": [
            "fatal: destination path 'multi-task-NLP' already exists and is not an empty directory.\n",
            "/content/multi-task-NLP\n",
            "\u001b[33mWARNING: Ignoring invalid distribution -ensorflow (/usr/local/lib/python3.7/dist-packages)\u001b[0m\n",
            "\u001b[33mWARNING: Ignoring invalid distribution -ensorflow (/usr/local/lib/python3.7/dist-packages)\u001b[0m\n",
            "Collecting seqeval==0.0.12\n",
            "  Using cached seqeval-0.0.12-py3-none-any.whl\n",
            "Requirement already satisfied: tqdm==4.30.0 in /usr/local/lib/python3.7/dist-packages (from -r requirements.txt (line 2)) (4.30.0)\n",
            "Collecting ipywidgets==7.4.2\n",
            "  Using cached ipywidgets-7.4.2-py2.py3-none-any.whl (111 kB)\n",
            "Requirement already satisfied: Keras==2.3.1 in /usr/local/lib/python3.7/dist-packages (from -r requirements.txt (line 4)) (2.3.1)\n",
            "Requirement already satisfied: transformers==2.8.0 in /usr/local/lib/python3.7/dist-packages (from -r requirements.txt (line 5)) (2.8.0)\n",
            "Requirement already satisfied: joblib==0.13.2 in /usr/local/lib/python3.7/dist-packages (from -r requirements.txt (line 6)) (0.13.2)\n",
            "Requirement already satisfied: torch==1.2.0 in /usr/local/lib/python3.7/dist-packages (from -r requirements.txt (line 7)) (1.2.0)\n",
            "Collecting tensorflow==1.15.2\n",
            "  Using cached tensorflow-1.15.2-cp37-cp37m-manylinux2010_x86_64.whl (110.5 MB)\n",
            "Requirement already satisfied: numpy==1.18.1 in /usr/local/lib/python3.7/dist-packages (from -r requirements.txt (line 9)) (1.18.1)\n",
            "Collecting sphinx_rtd_theme==0.4.3\n",
            "  Using cached sphinx_rtd_theme-0.4.3-py2.py3-none-any.whl (6.4 MB)\n",
            "Collecting pandas==1.0.1\n",
            "  Using cached pandas-1.0.1-cp37-cp37m-manylinux1_x86_64.whl (10.1 MB)\n",
            "Collecting scikit_learn==0.23.1\n",
            "  Using cached scikit_learn-0.23.1-cp37-cp37m-manylinux1_x86_64.whl (6.8 MB)\n",
            "Requirement already satisfied: PyYAML==5.3.1 in /usr/local/lib/python3.7/dist-packages (from -r requirements.txt (line 13)) (5.3.1)\n",
            "Requirement already satisfied: ipykernel>=4.5.1 in /usr/local/lib/python3.7/dist-packages (from ipywidgets==7.4.2->-r requirements.txt (line 3)) (4.10.1)\n",
            "Requirement already satisfied: ipython>=4.0.0 in /usr/local/lib/python3.7/dist-packages (from ipywidgets==7.4.2->-r requirements.txt (line 3)) (5.5.0)\n",
            "Requirement already satisfied: nbformat>=4.2.0 in /usr/local/lib/python3.7/dist-packages (from ipywidgets==7.4.2->-r requirements.txt (line 3)) (5.4.0)\n",
            "Requirement already satisfied: widgetsnbextension~=3.4.0 in /usr/local/lib/python3.7/dist-packages (from ipywidgets==7.4.2->-r requirements.txt (line 3)) (3.4.2)\n",
            "Requirement already satisfied: traitlets>=4.3.1 in /usr/local/lib/python3.7/dist-packages (from ipywidgets==7.4.2->-r requirements.txt (line 3)) (5.1.1)\n",
            "Requirement already satisfied: six>=1.9.0 in /usr/local/lib/python3.7/dist-packages (from Keras==2.3.1->-r requirements.txt (line 4)) (1.15.0)\n",
            "Requirement already satisfied: h5py in /usr/local/lib/python3.7/dist-packages (from Keras==2.3.1->-r requirements.txt (line 4)) (3.1.0)\n",
            "Requirement already satisfied: keras-preprocessing>=1.0.5 in /usr/local/lib/python3.7/dist-packages (from Keras==2.3.1->-r requirements.txt (line 4)) (1.1.2)\n",
            "Requirement already satisfied: keras-applications>=1.0.6 in /usr/local/lib/python3.7/dist-packages (from Keras==2.3.1->-r requirements.txt (line 4)) (1.0.8)\n",
            "Requirement already satisfied: scipy>=0.14 in /usr/local/lib/python3.7/dist-packages (from Keras==2.3.1->-r requirements.txt (line 4)) (1.4.1)\n",
            "Requirement already satisfied: boto3 in /usr/local/lib/python3.7/dist-packages (from transformers==2.8.0->-r requirements.txt (line 5)) (1.23.5)\n",
            "Requirement already satisfied: filelock in /usr/local/lib/python3.7/dist-packages (from transformers==2.8.0->-r requirements.txt (line 5)) (3.7.0)\n",
            "Requirement already satisfied: sacremoses in /usr/local/lib/python3.7/dist-packages (from transformers==2.8.0->-r requirements.txt (line 5)) (0.0.53)\n",
            "Requirement already satisfied: requests in /usr/local/lib/python3.7/dist-packages (from transformers==2.8.0->-r requirements.txt (line 5)) (2.23.0)\n",
            "Requirement already satisfied: regex!=2019.12.17 in /usr/local/lib/python3.7/dist-packages (from transformers==2.8.0->-r requirements.txt (line 5)) (2019.12.20)\n",
            "Requirement already satisfied: tokenizers==0.5.2 in /usr/local/lib/python3.7/dist-packages (from transformers==2.8.0->-r requirements.txt (line 5)) (0.5.2)\n",
            "Requirement already satisfied: sentencepiece in /usr/local/lib/python3.7/dist-packages (from transformers==2.8.0->-r requirements.txt (line 5)) (0.1.96)\n",
            "Requirement already satisfied: gast==0.2.2 in /usr/local/lib/python3.7/dist-packages (from tensorflow==1.15.2->-r requirements.txt (line 8)) (0.2.2)\n",
            "Requirement already satisfied: wrapt>=1.11.1 in /usr/local/lib/python3.7/dist-packages (from tensorflow==1.15.2->-r requirements.txt (line 8)) (1.14.1)\n",
            "Requirement already satisfied: grpcio>=1.8.6 in /usr/local/lib/python3.7/dist-packages (from tensorflow==1.15.2->-r requirements.txt (line 8)) (1.46.1)\n",
            "Requirement already satisfied: google-pasta>=0.1.6 in /usr/local/lib/python3.7/dist-packages (from tensorflow==1.15.2->-r requirements.txt (line 8)) (0.2.0)\n",
            "Requirement already satisfied: opt-einsum>=2.3.2 in /usr/local/lib/python3.7/dist-packages (from tensorflow==1.15.2->-r requirements.txt (line 8)) (3.3.0)\n",
            "Requirement already satisfied: termcolor>=1.1.0 in /usr/local/lib/python3.7/dist-packages (from tensorflow==1.15.2->-r requirements.txt (line 8)) (1.1.0)\n",
            "Requirement already satisfied: astor>=0.6.0 in /usr/local/lib/python3.7/dist-packages (from tensorflow==1.15.2->-r requirements.txt (line 8)) (0.8.1)\n",
            "Requirement already satisfied: wheel>=0.26 in /usr/local/lib/python3.7/dist-packages (from tensorflow==1.15.2->-r requirements.txt (line 8)) (0.37.1)\n",
            "Requirement already satisfied: absl-py>=0.7.0 in /usr/local/lib/python3.7/dist-packages (from tensorflow==1.15.2->-r requirements.txt (line 8)) (1.0.0)\n",
            "Requirement already satisfied: protobuf>=3.6.1 in /usr/local/lib/python3.7/dist-packages (from tensorflow==1.15.2->-r requirements.txt (line 8)) (3.17.3)\n",
            "Requirement already satisfied: tensorboard<1.16.0,>=1.15.0 in /usr/local/lib/python3.7/dist-packages (from tensorflow==1.15.2->-r requirements.txt (line 8)) (1.15.0)\n",
            "Requirement already satisfied: tensorflow-estimator==1.15.1 in /usr/local/lib/python3.7/dist-packages (from tensorflow==1.15.2->-r requirements.txt (line 8)) (1.15.1)\n",
            "Requirement already satisfied: sphinx in /usr/local/lib/python3.7/dist-packages (from sphinx_rtd_theme==0.4.3->-r requirements.txt (line 10)) (1.8.6)\n",
            "Requirement already satisfied: python-dateutil>=2.6.1 in /usr/local/lib/python3.7/dist-packages (from pandas==1.0.1->-r requirements.txt (line 11)) (2.8.2)\n",
            "Requirement already satisfied: pytz>=2017.2 in /usr/local/lib/python3.7/dist-packages (from pandas==1.0.1->-r requirements.txt (line 11)) (2022.1)\n",
            "Requirement already satisfied: threadpoolctl>=2.0.0 in /usr/local/lib/python3.7/dist-packages (from scikit_learn==0.23.1->-r requirements.txt (line 12)) (3.1.0)\n",
            "Requirement already satisfied: jupyter-client in /usr/local/lib/python3.7/dist-packages (from ipykernel>=4.5.1->ipywidgets==7.4.2->-r requirements.txt (line 3)) (5.3.5)\n",
            "Requirement already satisfied: tornado>=4.0 in /usr/local/lib/python3.7/dist-packages (from ipykernel>=4.5.1->ipywidgets==7.4.2->-r requirements.txt (line 3)) (5.1.1)\n",
            "Requirement already satisfied: prompt-toolkit<2.0.0,>=1.0.4 in /usr/local/lib/python3.7/dist-packages (from ipython>=4.0.0->ipywidgets==7.4.2->-r requirements.txt (line 3)) (1.0.18)\n",
            "Requirement already satisfied: decorator in /usr/local/lib/python3.7/dist-packages (from ipython>=4.0.0->ipywidgets==7.4.2->-r requirements.txt (line 3)) (4.4.2)\n",
            "Requirement already satisfied: pygments in /usr/local/lib/python3.7/dist-packages (from ipython>=4.0.0->ipywidgets==7.4.2->-r requirements.txt (line 3)) (2.6.1)\n",
            "Requirement already satisfied: pickleshare in /usr/local/lib/python3.7/dist-packages (from ipython>=4.0.0->ipywidgets==7.4.2->-r requirements.txt (line 3)) (0.7.5)\n",
            "Requirement already satisfied: setuptools>=18.5 in /usr/local/lib/python3.7/dist-packages (from ipython>=4.0.0->ipywidgets==7.4.2->-r requirements.txt (line 3)) (57.4.0)\n",
            "Requirement already satisfied: pexpect in /usr/local/lib/python3.7/dist-packages (from ipython>=4.0.0->ipywidgets==7.4.2->-r requirements.txt (line 3)) (4.8.0)\n",
            "Requirement already satisfied: simplegeneric>0.8 in /usr/local/lib/python3.7/dist-packages (from ipython>=4.0.0->ipywidgets==7.4.2->-r requirements.txt (line 3)) (0.8.1)\n",
            "Requirement already satisfied: jsonschema>=2.6 in /usr/local/lib/python3.7/dist-packages (from nbformat>=4.2.0->ipywidgets==7.4.2->-r requirements.txt (line 3)) (4.3.3)\n",
            "Requirement already satisfied: jupyter-core in /usr/local/lib/python3.7/dist-packages (from nbformat>=4.2.0->ipywidgets==7.4.2->-r requirements.txt (line 3)) (4.10.0)\n",
            "Requirement already satisfied: fastjsonschema in /usr/local/lib/python3.7/dist-packages (from nbformat>=4.2.0->ipywidgets==7.4.2->-r requirements.txt (line 3)) (2.15.3)\n",
            "Requirement already satisfied: importlib-resources>=1.4.0 in /usr/local/lib/python3.7/dist-packages (from jsonschema>=2.6->nbformat>=4.2.0->ipywidgets==7.4.2->-r requirements.txt (line 3)) (5.7.1)\n",
            "Requirement already satisfied: importlib-metadata in /usr/local/lib/python3.7/dist-packages (from jsonschema>=2.6->nbformat>=4.2.0->ipywidgets==7.4.2->-r requirements.txt (line 3)) (4.11.3)\n",
            "Requirement already satisfied: typing-extensions in /usr/local/lib/python3.7/dist-packages (from jsonschema>=2.6->nbformat>=4.2.0->ipywidgets==7.4.2->-r requirements.txt (line 3)) (4.2.0)\n",
            "Requirement already satisfied: pyrsistent!=0.17.0,!=0.17.1,!=0.17.2,>=0.14.0 in /usr/local/lib/python3.7/dist-packages (from jsonschema>=2.6->nbformat>=4.2.0->ipywidgets==7.4.2->-r requirements.txt (line 3)) (0.18.1)\n",
            "Requirement already satisfied: attrs>=17.4.0 in /usr/local/lib/python3.7/dist-packages (from jsonschema>=2.6->nbformat>=4.2.0->ipywidgets==7.4.2->-r requirements.txt (line 3)) (21.4.0)\n",
            "Requirement already satisfied: zipp>=3.1.0 in /usr/local/lib/python3.7/dist-packages (from importlib-resources>=1.4.0->jsonschema>=2.6->nbformat>=4.2.0->ipywidgets==7.4.2->-r requirements.txt (line 3)) (3.8.0)\n",
            "Requirement already satisfied: wcwidth in /usr/local/lib/python3.7/dist-packages (from prompt-toolkit<2.0.0,>=1.0.4->ipython>=4.0.0->ipywidgets==7.4.2->-r requirements.txt (line 3)) (0.2.5)\n",
            "Requirement already satisfied: werkzeug>=0.11.15 in /usr/local/lib/python3.7/dist-packages (from tensorboard<1.16.0,>=1.15.0->tensorflow==1.15.2->-r requirements.txt (line 8)) (1.0.1)\n",
            "Requirement already satisfied: markdown>=2.6.8 in /usr/local/lib/python3.7/dist-packages (from tensorboard<1.16.0,>=1.15.0->tensorflow==1.15.2->-r requirements.txt (line 8)) (3.3.7)\n",
            "Requirement already satisfied: notebook>=4.4.1 in /usr/local/lib/python3.7/dist-packages (from widgetsnbextension~=3.4.0->ipywidgets==7.4.2->-r requirements.txt (line 3)) (5.3.1)\n",
            "Requirement already satisfied: Send2Trash in /usr/local/lib/python3.7/dist-packages (from notebook>=4.4.1->widgetsnbextension~=3.4.0->ipywidgets==7.4.2->-r requirements.txt (line 3)) (1.8.0)\n",
            "Requirement already satisfied: jinja2 in /usr/local/lib/python3.7/dist-packages (from notebook>=4.4.1->widgetsnbextension~=3.4.0->ipywidgets==7.4.2->-r requirements.txt (line 3)) (2.11.3)\n",
            "Requirement already satisfied: ipython-genutils in /usr/local/lib/python3.7/dist-packages (from notebook>=4.4.1->widgetsnbextension~=3.4.0->ipywidgets==7.4.2->-r requirements.txt (line 3)) (0.2.0)\n",
            "Requirement already satisfied: nbconvert in /usr/local/lib/python3.7/dist-packages (from notebook>=4.4.1->widgetsnbextension~=3.4.0->ipywidgets==7.4.2->-r requirements.txt (line 3)) (5.6.1)\n",
            "Requirement already satisfied: terminado>=0.8.1 in /usr/local/lib/python3.7/dist-packages (from notebook>=4.4.1->widgetsnbextension~=3.4.0->ipywidgets==7.4.2->-r requirements.txt (line 3)) (0.13.3)\n",
            "Requirement already satisfied: pyzmq>=13 in /usr/local/lib/python3.7/dist-packages (from jupyter-client->ipykernel>=4.5.1->ipywidgets==7.4.2->-r requirements.txt (line 3)) (22.3.0)\n",
            "Requirement already satisfied: ptyprocess in /usr/local/lib/python3.7/dist-packages (from terminado>=0.8.1->notebook>=4.4.1->widgetsnbextension~=3.4.0->ipywidgets==7.4.2->-r requirements.txt (line 3)) (0.7.0)\n",
            "Requirement already satisfied: botocore<1.27.0,>=1.26.5 in /usr/local/lib/python3.7/dist-packages (from boto3->transformers==2.8.0->-r requirements.txt (line 5)) (1.26.5)\n",
            "Requirement already satisfied: jmespath<2.0.0,>=0.7.1 in /usr/local/lib/python3.7/dist-packages (from boto3->transformers==2.8.0->-r requirements.txt (line 5)) (1.0.0)\n",
            "Requirement already satisfied: s3transfer<0.6.0,>=0.5.0 in /usr/local/lib/python3.7/dist-packages (from boto3->transformers==2.8.0->-r requirements.txt (line 5)) (0.5.2)\n",
            "Requirement already satisfied: urllib3<1.27,>=1.25.4 in /usr/local/lib/python3.7/dist-packages (from botocore<1.27.0,>=1.26.5->boto3->transformers==2.8.0->-r requirements.txt (line 5)) (1.25.11)\n",
            "Requirement already satisfied: cached-property in /usr/local/lib/python3.7/dist-packages (from h5py->Keras==2.3.1->-r requirements.txt (line 4)) (1.5.2)\n",
            "Requirement already satisfied: MarkupSafe>=0.23 in /usr/local/lib/python3.7/dist-packages (from jinja2->notebook>=4.4.1->widgetsnbextension~=3.4.0->ipywidgets==7.4.2->-r requirements.txt (line 3)) (2.0.1)\n",
            "Requirement already satisfied: entrypoints>=0.2.2 in /usr/local/lib/python3.7/dist-packages (from nbconvert->notebook>=4.4.1->widgetsnbextension~=3.4.0->ipywidgets==7.4.2->-r requirements.txt (line 3)) (0.4)\n",
            "Requirement already satisfied: bleach in /usr/local/lib/python3.7/dist-packages (from nbconvert->notebook>=4.4.1->widgetsnbextension~=3.4.0->ipywidgets==7.4.2->-r requirements.txt (line 3)) (5.0.0)\n",
            "Requirement already satisfied: pandocfilters>=1.4.1 in /usr/local/lib/python3.7/dist-packages (from nbconvert->notebook>=4.4.1->widgetsnbextension~=3.4.0->ipywidgets==7.4.2->-r requirements.txt (line 3)) (1.5.0)\n",
            "Requirement already satisfied: defusedxml in /usr/local/lib/python3.7/dist-packages (from nbconvert->notebook>=4.4.1->widgetsnbextension~=3.4.0->ipywidgets==7.4.2->-r requirements.txt (line 3)) (0.7.1)\n",
            "Requirement already satisfied: mistune<2,>=0.8.1 in /usr/local/lib/python3.7/dist-packages (from nbconvert->notebook>=4.4.1->widgetsnbextension~=3.4.0->ipywidgets==7.4.2->-r requirements.txt (line 3)) (0.8.4)\n",
            "Requirement already satisfied: testpath in /usr/local/lib/python3.7/dist-packages (from nbconvert->notebook>=4.4.1->widgetsnbextension~=3.4.0->ipywidgets==7.4.2->-r requirements.txt (line 3)) (0.6.0)\n",
            "Requirement already satisfied: webencodings in /usr/local/lib/python3.7/dist-packages (from bleach->nbconvert->notebook>=4.4.1->widgetsnbextension~=3.4.0->ipywidgets==7.4.2->-r requirements.txt (line 3)) (0.5.1)\n",
            "Requirement already satisfied: idna<3,>=2.5 in /usr/local/lib/python3.7/dist-packages (from requests->transformers==2.8.0->-r requirements.txt (line 5)) (2.10)\n",
            "Requirement already satisfied: certifi>=2017.4.17 in /usr/local/lib/python3.7/dist-packages (from requests->transformers==2.8.0->-r requirements.txt (line 5)) (2021.10.8)\n",
            "Requirement already satisfied: chardet<4,>=3.0.2 in /usr/local/lib/python3.7/dist-packages (from requests->transformers==2.8.0->-r requirements.txt (line 5)) (3.0.4)\n",
            "Requirement already satisfied: click in /usr/local/lib/python3.7/dist-packages (from sacremoses->transformers==2.8.0->-r requirements.txt (line 5)) (7.1.2)\n",
            "Requirement already satisfied: packaging in /usr/local/lib/python3.7/dist-packages (from sphinx->sphinx_rtd_theme==0.4.3->-r requirements.txt (line 10)) (21.3)\n",
            "Requirement already satisfied: alabaster<0.8,>=0.7 in /usr/local/lib/python3.7/dist-packages (from sphinx->sphinx_rtd_theme==0.4.3->-r requirements.txt (line 10)) (0.7.12)\n",
            "Requirement already satisfied: snowballstemmer>=1.1 in /usr/local/lib/python3.7/dist-packages (from sphinx->sphinx_rtd_theme==0.4.3->-r requirements.txt (line 10)) (2.2.0)\n",
            "Requirement already satisfied: docutils<0.18,>=0.11 in /usr/local/lib/python3.7/dist-packages (from sphinx->sphinx_rtd_theme==0.4.3->-r requirements.txt (line 10)) (0.17.1)\n",
            "Requirement already satisfied: sphinxcontrib-websupport in /usr/local/lib/python3.7/dist-packages (from sphinx->sphinx_rtd_theme==0.4.3->-r requirements.txt (line 10)) (1.2.4)\n",
            "Requirement already satisfied: imagesize in /usr/local/lib/python3.7/dist-packages (from sphinx->sphinx_rtd_theme==0.4.3->-r requirements.txt (line 10)) (1.3.0)\n",
            "Requirement already satisfied: babel!=2.0,>=1.3 in /usr/local/lib/python3.7/dist-packages (from sphinx->sphinx_rtd_theme==0.4.3->-r requirements.txt (line 10)) (2.10.1)\n",
            "Requirement already satisfied: pyparsing!=3.0.5,>=2.0.2 in /usr/local/lib/python3.7/dist-packages (from packaging->sphinx->sphinx_rtd_theme==0.4.3->-r requirements.txt (line 10)) (3.0.9)\n",
            "Requirement already satisfied: sphinxcontrib-serializinghtml in /usr/local/lib/python3.7/dist-packages (from sphinxcontrib-websupport->sphinx->sphinx_rtd_theme==0.4.3->-r requirements.txt (line 10)) (1.1.5)\n",
            "\u001b[33mWARNING: Ignoring invalid distribution -ensorflow (/usr/local/lib/python3.7/dist-packages)\u001b[0m\n",
            "Installing collected packages: tensorflow, sphinx-rtd-theme, seqeval, scikit-learn, pandas, ipywidgets\n",
            "  Attempting uninstall: scikit-learn\n",
            "\u001b[33m    WARNING: Ignoring invalid distribution -ensorflow (/usr/local/lib/python3.7/dist-packages)\u001b[0m\n",
            "    Found existing installation: scikit-learn 1.0.2\n",
            "    Uninstalling scikit-learn-1.0.2:\n",
            "      Successfully uninstalled scikit-learn-1.0.2\n",
            "  Attempting uninstall: pandas\n",
            "\u001b[33m    WARNING: Ignoring invalid distribution -ensorflow (/usr/local/lib/python3.7/dist-packages)\u001b[0m\n",
            "    Found existing installation: pandas 1.3.5\n",
            "    Uninstalling pandas-1.3.5:\n",
            "      Successfully uninstalled pandas-1.3.5\n",
            "  Attempting uninstall: ipywidgets\n",
            "\u001b[33m    WARNING: Ignoring invalid distribution -ensorflow (/usr/local/lib/python3.7/dist-packages)\u001b[0m\n",
            "    Found existing installation: ipywidgets 7.7.0\n",
            "    Uninstalling ipywidgets-7.7.0:\n",
            "      Successfully uninstalled ipywidgets-7.7.0\n",
            "\u001b[33mWARNING: Ignoring invalid distribution -ensorflow (/usr/local/lib/python3.7/dist-packages)\u001b[0m\n",
            "\u001b[33mWARNING: Ignoring invalid distribution -ensorflow (/usr/local/lib/python3.7/dist-packages)\u001b[0m\n",
            "\u001b[33mWARNING: Ignoring invalid distribution -ensorflow (/usr/local/lib/python3.7/dist-packages)\u001b[0m\n",
            "\u001b[33mWARNING: Ignoring invalid distribution -ensorflow (/usr/local/lib/python3.7/dist-packages)\u001b[0m\n",
            "\u001b[33mWARNING: Ignoring invalid distribution -ensorflow (/usr/local/lib/python3.7/dist-packages)\u001b[0m\n",
            "\u001b[33mWARNING: Ignoring invalid distribution -ensorflow (/usr/local/lib/python3.7/dist-packages)\u001b[0m\n",
            "\u001b[31mERROR: pip's dependency resolver does not currently take into account all the packages that are installed. This behaviour is the source of the following dependency conflicts.\n",
            "yellowbrick 1.4 requires scikit-learn>=1.0.0, but you have scikit-learn 0.23.1 which is incompatible.\n",
            "xarray 0.20.2 requires pandas>=1.1, but you have pandas 1.0.1 which is incompatible.\n",
            "xarray-einstats 0.2.2 requires numpy>=1.21, but you have numpy 1.18.1 which is incompatible.\n",
            "librosa 0.8.1 requires joblib>=0.14, but you have joblib 0.13.2 which is incompatible.\n",
            "kapre 0.3.7 requires numpy>=1.18.5, but you have numpy 1.18.1 which is incompatible.\n",
            "kapre 0.3.7 requires tensorflow>=2.0.0, but you have tensorflow 1.15.2 which is incompatible.\n",
            "imbalanced-learn 0.8.1 requires scikit-learn>=0.24, but you have scikit-learn 0.23.1 which is incompatible.\n",
            "google-colab 1.0.0 requires pandas>=1.1.0; python_version >= \"3.0\", but you have pandas 1.0.1 which is incompatible.\n",
            "fbprophet 0.7.1 requires pandas>=1.0.4, but you have pandas 1.0.1 which is incompatible.\n",
            "fbprophet 0.7.1 requires tqdm>=4.36.1, but you have tqdm 4.30.0 which is incompatible.\u001b[0m\n",
            "Successfully installed ipywidgets-7.4.2 pandas-1.0.1 scikit-learn-0.23.1 seqeval-0.0.12 sphinx-rtd-theme-0.4.3 tensorflow-1.15.2\n"
          ]
        },
        {
          "output_type": "display_data",
          "data": {
            "application/vnd.colab-display-data+json": {
              "pip_warning": {
                "packages": [
                  "ipywidgets",
                  "pandas",
                  "sklearn",
                  "tensorflow"
                ]
              }
            }
          },
          "metadata": {}
        }
      ]
    },
    {
      "cell_type": "code",
      "source": [
        "import sys\n",
        "sys.path.insert(0,'/content/multi-task-NLP')"
      ],
      "metadata": {
        "id": "rpYyJjRTdVwE"
      },
      "execution_count": null,
      "outputs": []
    },
    {
      "cell_type": "code",
      "source": [
        "from infer_pipeline import inferPipeline\n",
        "from sklearn.metrics import precision_recall_fscore_support, accuracy_score, \\\n",
        "confusion_matrix"
      ],
      "metadata": {
        "colab": {
          "base_uri": "https://localhost:8080/"
        },
        "id": "qxRcawaCb4-H",
        "outputId": "04129481-1202-4984-d33f-419269b4b3d0"
      },
      "execution_count": null,
      "outputs": [
        {
          "output_type": "stream",
          "name": "stderr",
          "text": [
            "Using TensorFlow backend.\n"
          ]
        }
      ]
    },
    {
      "cell_type": "code",
      "source": [
        "def eval_multitask_model(pipe, dataset, need_matrix=False):\n",
        "    \"\"\"\n",
        "    takes a pipe object and a dataset in df format, returns dictionaries\n",
        "    with metrics and texts\n",
        "    \"\"\"\n",
        "    text_list = [[text] for text in dataset.text.to_list()]\n",
        "    golds = dataset.toxicity.to_list()\n",
        "\n",
        "    output = pipe.infer(text_list, ['ToxicityDetection'])\n",
        "    preds = [answer['ToxicityDetection'][0] for answer in output]\n",
        "    precision, recall, f1, _ = precision_recall_fscore_support(golds, preds,\n",
        "                                                               average='binary')\n",
        "    acc = accuracy_score(golds, preds)\n",
        "    if need_matrix:\n",
        "        plot_matrix(golds, preds)\n",
        "    return {'accuracy': acc,\n",
        "            'f1': f1,\n",
        "            'precision': precision,\n",
        "            'recall': recall}, \\\n",
        "            {'true_labels': golds,\n",
        "            'text': text_list,\n",
        "            'predicted': preds}"
      ],
      "metadata": {
        "id": "AuVNDXmjcaCs"
      },
      "execution_count": null,
      "outputs": []
    },
    {
      "cell_type": "markdown",
      "source": [
        "#### vk data, 1 task"
      ],
      "metadata": {
        "id": "Ar7V41ceXDL7"
      }
    },
    {
      "cell_type": "code",
      "source": [
        "# vk data, 1 task\n",
        "!gdown https://drive.google.com/uc?id=1barEeEUgEUXHHkYN-l-s2i8AZYEyTtYp"
      ],
      "metadata": {
        "colab": {
          "base_uri": "https://localhost:8080/"
        },
        "id": "HTsBFO-rplq7",
        "outputId": "ed727b93-f87d-423e-ca9c-b8beded367e1"
      },
      "execution_count": null,
      "outputs": [
        {
          "output_type": "stream",
          "name": "stdout",
          "text": [
            "Downloading...\n",
            "From: https://drive.google.com/uc?id=1barEeEUgEUXHHkYN-l-s2i8AZYEyTtYp\n",
            "To: /content/multi-task-NLP/1Tvk_multi_task_model_3_1160.pt\n",
            "100% 2.14G/2.14G [00:19<00:00, 109MB/s]\n"
          ]
        }
      ]
    },
    {
      "cell_type": "code",
      "source": [
        "vk_1T_pipe = inferPipeline(modelPath = '/content/multi-task-NLP/1Tvk_multi_task_model_3_1160.pt',\n",
        "                           maxSeqLen = 128)"
      ],
      "metadata": {
        "id": "Okxv5fFhcaGE"
      },
      "execution_count": null,
      "outputs": []
    },
    {
      "cell_type": "code",
      "source": [
        "uncor_vk_1T, uncor_vk_1T_data = eval_multitask_model(vk_1T_pipe, uncorrected_data, need_matrix=True)\n",
        "uncor_vk_1T"
      ],
      "metadata": {
        "colab": {
          "base_uri": "https://localhost:8080/",
          "height": 454
        },
        "id": "veWgdwm4yHYw",
        "outputId": "514b801b-3469-406a-9320-55a08937b588"
      },
      "execution_count": null,
      "outputs": [
        {
          "output_type": "stream",
          "name": "stderr",
          "text": [
            "Eval:   0%|          | 0/16 [00:00<?, ?it/s]/usr/local/lib/python3.7/dist-packages/torch/nn/functional.py:1350: UserWarning: nn.functional.sigmoid is deprecated. Use torch.sigmoid instead.\n",
            "  warnings.warn(\"nn.functional.sigmoid is deprecated. Use torch.sigmoid instead.\")\n",
            "Eval: 100%|██████████| 16/16 [00:01<00:00, 13.58it/s]\n"
          ]
        },
        {
          "output_type": "display_data",
          "data": {
            "text/plain": [
              "<Figure size 432x288 with 2 Axes>"
            ],
            "image/png": "[encoded data removed]"
          },
          "metadata": {
            "needs_background": "light"
          }
        },
        {
          "output_type": "execute_result",
          "data": {
            "text/plain": [
              "{'accuracy': 0.3888888888888889,\n",
              " 'f1': 0.34188034188034183,\n",
              " 'precision': 0.7407407407407407,\n",
              " 'recall': 0.2222222222222222}"
            ]
          },
          "metadata": {},
          "execution_count": 44
        }
      ]
    },
    {
      "cell_type": "code",
      "source": [
        "cor_vk_1T, cor_vk_1T_data = eval_multitask_model(vk_1T_pipe, corrected_data, need_matrix=True)\n",
        "cor_vk_1T"
      ],
      "metadata": {
        "colab": {
          "base_uri": "https://localhost:8080/",
          "height": 454
        },
        "id": "mGtTp-kd-Uhs",
        "outputId": "e20f0477-832b-449f-8b00-939ee6a9baef"
      },
      "execution_count": null,
      "outputs": [
        {
          "output_type": "stream",
          "name": "stderr",
          "text": [
            "Eval:   0%|          | 0/16 [00:00<?, ?it/s]/usr/local/lib/python3.7/dist-packages/torch/nn/functional.py:1350: UserWarning: nn.functional.sigmoid is deprecated. Use torch.sigmoid instead.\n",
            "  warnings.warn(\"nn.functional.sigmoid is deprecated. Use torch.sigmoid instead.\")\n",
            "Eval: 100%|██████████| 16/16 [00:01<00:00, 14.09it/s]\n"
          ]
        },
        {
          "output_type": "display_data",
          "data": {
            "text/plain": [
              "<Figure size 432x288 with 2 Axes>"
            ],
            "image/png": "[encoded data removed]"
          },
          "metadata": {
            "needs_background": "light"
          }
        },
        {
          "output_type": "execute_result",
          "data": {
            "text/plain": [
              "{'accuracy': 0.36507936507936506,\n",
              " 'f1': 0.2982456140350877,\n",
              " 'precision': 0.7083333333333334,\n",
              " 'recall': 0.18888888888888888}"
            ]
          },
          "metadata": {},
          "execution_count": 45
        }
      ]
    },
    {
      "cell_type": "code",
      "source": [
        "preproc_vk_1T, preproc_vk_1T_data = eval_multitask_model(vk_1T_pipe, processed_data, need_matrix=True)\n",
        "preproc_vk_1T"
      ],
      "metadata": {
        "colab": {
          "base_uri": "https://localhost:8080/",
          "height": 454
        },
        "id": "jiHc84NO-Uno",
        "outputId": "6abae0ac-4b29-4c17-c152-7545fa84a19e"
      },
      "execution_count": null,
      "outputs": [
        {
          "output_type": "stream",
          "name": "stderr",
          "text": [
            "Eval:   0%|          | 0/16 [00:00<?, ?it/s]/usr/local/lib/python3.7/dist-packages/torch/nn/functional.py:1350: UserWarning: nn.functional.sigmoid is deprecated. Use torch.sigmoid instead.\n",
            "  warnings.warn(\"nn.functional.sigmoid is deprecated. Use torch.sigmoid instead.\")\n",
            "Eval: 100%|██████████| 16/16 [00:01<00:00, 13.86it/s]\n"
          ]
        },
        {
          "output_type": "display_data",
          "data": {
            "text/plain": [
              "<Figure size 432x288 with 2 Axes>"
            ],
            "image/png": "[encoded data removed]"
          },
          "metadata": {
            "needs_background": "light"
          }
        },
        {
          "output_type": "execute_result",
          "data": {
            "text/plain": [
              "{'accuracy': 0.373015873015873,\n",
              " 'f1': 0.34710743801652894,\n",
              " 'precision': 0.6774193548387096,\n",
              " 'recall': 0.23333333333333334}"
            ]
          },
          "metadata": {},
          "execution_count": 46
        }
      ]
    },
    {
      "cell_type": "code",
      "source": [
        "save_predictions(uncor_vk_1T_data,\n",
        "                 cor_vk_1T_data,\n",
        "                 preproc_vk_1T_data,\n",
        "                 'vk_1T')"
      ],
      "metadata": {
        "colab": {
          "base_uri": "https://localhost:8080/"
        },
        "id": "NUM-ZvptdYX4",
        "outputId": "2661878c-fc75-4867-8b71-b0dd96e37b7a"
      },
      "execution_count": null,
      "outputs": [
        {
          "output_type": "stream",
          "name": "stdout",
          "text": [
            "vk_1T data saved successfully\n"
          ]
        }
      ]
    },
    {
      "cell_type": "code",
      "source": [
        "del vk_1T_pipe"
      ],
      "metadata": {
        "id": "NCklaNi92uzX"
      },
      "execution_count": null,
      "outputs": []
    },
    {
      "cell_type": "markdown",
      "source": [
        "#### vk data, 2 tasks"
      ],
      "metadata": {
        "id": "rA92DaZcXKwb"
      }
    },
    {
      "cell_type": "code",
      "source": [
        "# vk data, 2 tasks\n",
        "!gdown https://drive.google.com/uc?id=1--iwGBQHBUXXktC9kqHllnmPzwN9wRYz"
      ],
      "metadata": {
        "colab": {
          "base_uri": "https://localhost:8080/"
        },
        "outputId": "911385ee-4773-44fb-dc7b-80654dac2fa5",
        "id": "PuEwdnFS21uO"
      },
      "execution_count": null,
      "outputs": [
        {
          "output_type": "stream",
          "name": "stdout",
          "text": [
            "Downloading...\n",
            "From: https://drive.google.com/uc?id=1--iwGBQHBUXXktC9kqHllnmPzwN9wRYz\n",
            "To: /content/2Tvk_multi_task_model_3_1880.pt\n",
            "100% 2.14G/2.14G [00:09<00:00, 228MB/s]\n"
          ]
        }
      ]
    },
    {
      "cell_type": "code",
      "source": [
        "vk_2T_pipe = inferPipeline(modelPath = '/content/multi-task-NLP/2Tvk_multi_task_model_3_1880.pt',\n",
        "                           maxSeqLen = 128)"
      ],
      "metadata": {
        "id": "7aadC47p21uO",
        "colab": {
          "base_uri": "https://localhost:8080/",
          "height": 267,
          "referenced_widgets": [
            "d20af2250f6a43ec821690c9ba1725ca",
            "d45f51d781f14bf588b5aed706b37d93",
            "7106a686f710436ba81e2ef78b3266e9",
            "76ced8c966034da5b82293ddfe67aa08",
            "5317067303fd41ffab832c430a71677b",
            "6c114fa1e75e45b38fd8af1acf05f0b0",
            "19f94604e43944c89f5ea455740f1dd0",
            "6c967622460a4197b44a27092d3de1d7",
            "c9e979dfcad741ba816ca5daa5769874",
            "2d2ee06efa5e40fdb6886d002d4b7242",
            "29320ee064644590a8b7eb6da718c8b8",
            "6bf48acd63544ba090e1f689bf3f4870",
            "0c091358bcbf43478a3a17e53156b2ff",
            "7f0e7dd8c14b49a6b512e6d416b738cd",
            "f58a1fe396d5408fb72d713abd2ca6e7",
            "868b1ecec4b44e49bf8e08393f645c71",
            "f3bbfceb18174487945316ec27d82f83",
            "4c5eb191460147e8bb4badbe35ca37f6",
            "b0455531846a4e67a9fb5d45c725826e",
            "25de9b734aa04c5994efd4fef1f0b331",
            "876a9007e6324823bfd358efac03689f",
            "0f9dce5ea484441fbb8e8f76621fd48d",
            "d659e6badb9e4a7fbe31632324c40149",
            "ec735c1535ed41f39bd9b8f5fe525a12",
            "0ae5aa286eb34eaab71b048d71ba428f",
            "d6fb5629f82840f4bac1c9887e0a893d",
            "7816ade1d3a84522802e39aff537d732",
            "345fd3c9959a42a7aebf9974a229d114",
            "334f4f6182db402ab40967dce4a10506",
            "d93caa8c7a1645f7b19efce0315a0a61",
            "4bab1c8a8f9a471b9c28abc018ba0012",
            "f9a2477c5ebb4c2e9f61d882b97c7914",
            "130c48f58e5c4ea783d20c2a8ad6f03e",
            "f9b59e35ec944b4da673f9f9e0058d37",
            "0676f14cb85c41d19da0c9d2d4af85c7",
            "1fce8069fa404175882dc9f72e619879",
            "ab0aac15d8ce404294f369f17da9adb2",
            "e7d8e92f8ae84ce58d3cb62c60502c5c",
            "0077e2c0ec6d4c2f9cd97ce16920448d",
            "f5330c49d118429e87d92ab4ccbb9b38"
          ]
        },
        "outputId": "8e6c9c90-0c54-4804-d093-87a0cbc57a2d"
      },
      "execution_count": null,
      "outputs": [
        {
          "output_type": "display_data",
          "data": {
            "text/plain": [
              "HBox(children=(IntProgress(value=0, description='Downloading', max=1649718, style=ProgressStyle(description_wi…"
            ],
            "application/vnd.jupyter.widget-view+json": {
              "version_major": 2,
              "version_minor": 0,
              "model_id": "d20af2250f6a43ec821690c9ba1725ca"
            }
          },
          "metadata": {}
        },
        {
          "output_type": "stream",
          "name": "stdout",
          "text": [
            "\n"
          ]
        },
        {
          "output_type": "display_data",
          "data": {
            "text/plain": [
              "HBox(children=(IntProgress(value=0, description='Downloading', max=112, style=ProgressStyle(description_width=…"
            ],
            "application/vnd.jupyter.widget-view+json": {
              "version_major": 2,
              "version_minor": 0,
              "model_id": "c9e979dfcad741ba816ca5daa5769874"
            }
          },
          "metadata": {}
        },
        {
          "output_type": "stream",
          "name": "stdout",
          "text": [
            "\n"
          ]
        },
        {
          "output_type": "display_data",
          "data": {
            "text/plain": [
              "HBox(children=(IntProgress(value=0, description='Downloading', max=2, style=ProgressStyle(description_width='i…"
            ],
            "application/vnd.jupyter.widget-view+json": {
              "version_major": 2,
              "version_minor": 0,
              "model_id": "f3bbfceb18174487945316ec27d82f83"
            }
          },
          "metadata": {}
        },
        {
          "output_type": "stream",
          "name": "stdout",
          "text": [
            "\n"
          ]
        },
        {
          "output_type": "display_data",
          "data": {
            "text/plain": [
              "HBox(children=(IntProgress(value=0, description='Downloading', max=642, style=ProgressStyle(description_width=…"
            ],
            "application/vnd.jupyter.widget-view+json": {
              "version_major": 2,
              "version_minor": 0,
              "model_id": "0ae5aa286eb34eaab71b048d71ba428f"
            }
          },
          "metadata": {}
        },
        {
          "output_type": "stream",
          "name": "stdout",
          "text": [
            "\n"
          ]
        },
        {
          "output_type": "display_data",
          "data": {
            "text/plain": [
              "HBox(children=(IntProgress(value=0, description='Downloading', max=711456796, style=ProgressStyle(description_…"
            ],
            "application/vnd.jupyter.widget-view+json": {
              "version_major": 2,
              "version_minor": 0,
              "model_id": "130c48f58e5c4ea783d20c2a8ad6f03e"
            }
          },
          "metadata": {}
        },
        {
          "output_type": "stream",
          "name": "stdout",
          "text": [
            "\n"
          ]
        }
      ]
    },
    {
      "cell_type": "code",
      "source": [
        "uncor_vk_2T, uncor_vk_2T_data = eval_multitask_model(vk_2T_pipe, uncorrected_data, need_matrix=True)\n",
        "uncor_vk_2T"
      ],
      "metadata": {
        "colab": {
          "base_uri": "https://localhost:8080/",
          "height": 454
        },
        "id": "Bk6vtKqc2pqL",
        "outputId": "6a643ff0-2b19-4be5-dd8c-c185bfa4fd7a"
      },
      "execution_count": null,
      "outputs": [
        {
          "output_type": "stream",
          "name": "stderr",
          "text": [
            "Eval:   0%|          | 0/16 [00:00<?, ?it/s]/usr/local/lib/python3.7/dist-packages/torch/nn/functional.py:1350: UserWarning: nn.functional.sigmoid is deprecated. Use torch.sigmoid instead.\n",
            "  warnings.warn(\"nn.functional.sigmoid is deprecated. Use torch.sigmoid instead.\")\n",
            "Eval: 100%|██████████| 16/16 [00:01<00:00, 12.11it/s]\n"
          ]
        },
        {
          "output_type": "display_data",
          "data": {
            "text/plain": [
              "<Figure size 432x288 with 2 Axes>"
            ],
            "image/png": "[encoded data removed]"
          },
          "metadata": {
            "needs_background": "light"
          }
        },
        {
          "output_type": "execute_result",
          "data": {
            "text/plain": [
              "{'accuracy': 0.6190476190476191,\n",
              " 'f1': 0.7209302325581395,\n",
              " 'precision': 0.7560975609756098,\n",
              " 'recall': 0.6888888888888889}"
            ]
          },
          "metadata": {},
          "execution_count": 20
        }
      ]
    },
    {
      "cell_type": "code",
      "source": [
        "cor_vk_2T, cor_vk_2T_data = eval_multitask_model(vk_2T_pipe, corrected_data, need_matrix=True)\n",
        "cor_vk_2T"
      ],
      "metadata": {
        "colab": {
          "base_uri": "https://localhost:8080/",
          "height": 454
        },
        "id": "fGGuOUo1-aAf",
        "outputId": "6a7c20c8-c69d-4fdc-b5a2-9bcdbeaed3d1"
      },
      "execution_count": null,
      "outputs": [
        {
          "output_type": "stream",
          "name": "stderr",
          "text": [
            "Eval:   0%|          | 0/16 [00:00<?, ?it/s]/usr/local/lib/python3.7/dist-packages/torch/nn/functional.py:1350: UserWarning: nn.functional.sigmoid is deprecated. Use torch.sigmoid instead.\n",
            "  warnings.warn(\"nn.functional.sigmoid is deprecated. Use torch.sigmoid instead.\")\n",
            "Eval: 100%|██████████| 16/16 [00:01<00:00, 14.16it/s]\n"
          ]
        },
        {
          "output_type": "display_data",
          "data": {
            "text/plain": [
              "<Figure size 432x288 with 2 Axes>"
            ],
            "image/png": "[encoded data removed]"
          },
          "metadata": {
            "needs_background": "light"
          }
        },
        {
          "output_type": "execute_result",
          "data": {
            "text/plain": [
              "{'accuracy': 0.5317460317460317,\n",
              " 'f1': 0.5986394557823128,\n",
              " 'precision': 0.7719298245614035,\n",
              " 'recall': 0.4888888888888889}"
            ]
          },
          "metadata": {},
          "execution_count": 21
        }
      ]
    },
    {
      "cell_type": "code",
      "source": [
        "preproc_vk_2T, preproc_vk_2T_data = eval_multitask_model(vk_2T_pipe, processed_data, need_matrix=True)\n",
        "preproc_vk_2T"
      ],
      "metadata": {
        "colab": {
          "base_uri": "https://localhost:8080/",
          "height": 454
        },
        "id": "pU4WBbJE-aM9",
        "outputId": "d36dcfe9-6d8f-42e6-8fb5-0ab2dbe18a56"
      },
      "execution_count": null,
      "outputs": [
        {
          "output_type": "stream",
          "name": "stderr",
          "text": [
            "Eval:   0%|          | 0/16 [00:00<?, ?it/s]/usr/local/lib/python3.7/dist-packages/torch/nn/functional.py:1350: UserWarning: nn.functional.sigmoid is deprecated. Use torch.sigmoid instead.\n",
            "  warnings.warn(\"nn.functional.sigmoid is deprecated. Use torch.sigmoid instead.\")\n",
            "Eval: 100%|██████████| 16/16 [00:01<00:00, 13.55it/s]\n"
          ]
        },
        {
          "output_type": "display_data",
          "data": {
            "text/plain": [
              "<Figure size 432x288 with 2 Axes>"
            ],
            "image/png": "[encoded data removed]"
          },
          "metadata": {
            "needs_background": "light"
          }
        },
        {
          "output_type": "execute_result",
          "data": {
            "text/plain": [
              "{'accuracy': 0.5476190476190477,\n",
              " 'f1': 0.6174496644295301,\n",
              " 'precision': 0.7796610169491526,\n",
              " 'recall': 0.5111111111111111}"
            ]
          },
          "metadata": {},
          "execution_count": 22
        }
      ]
    },
    {
      "cell_type": "code",
      "source": [
        "save_predictions(uncor_vk_2T_data,\n",
        "                 cor_vk_2T_data,\n",
        "                 preproc_vk_2T_data,\n",
        "                 'vk_2T')"
      ],
      "metadata": {
        "colab": {
          "base_uri": "https://localhost:8080/"
        },
        "id": "7IeKcgw0DyfB",
        "outputId": "c50e1ddf-1df6-4a28-96cd-3dfa8bf04192"
      },
      "execution_count": null,
      "outputs": [
        {
          "output_type": "stream",
          "name": "stdout",
          "text": [
            "vk_2T data saved successfully\n"
          ]
        }
      ]
    },
    {
      "cell_type": "code",
      "source": [
        "del vk_2T_pipe"
      ],
      "metadata": {
        "id": "aJIwqxiL4Q1A"
      },
      "execution_count": null,
      "outputs": []
    },
    {
      "cell_type": "markdown",
      "source": [
        "#### all data, 1 task"
      ],
      "metadata": {
        "id": "XVIMt0YjX4X1"
      }
    },
    {
      "cell_type": "code",
      "source": [
        "# all data, 1 task\n",
        "!gdown https://drive.google.com/uc?id=1gJ1IPzpaVG81EzyyF7l9m67L_IbH4uZQ"
      ],
      "metadata": {
        "colab": {
          "base_uri": "https://localhost:8080/"
        },
        "outputId": "4c386598-ed33-433f-ba87-d709039bc1ce",
        "id": "J5xGp_4OX4X2"
      },
      "execution_count": null,
      "outputs": [
        {
          "output_type": "stream",
          "name": "stdout",
          "text": [
            "Downloading...\n",
            "From: https://drive.google.com/uc?id=1gJ1IPzpaVG81EzyyF7l9m67L_IbH4uZQ\n",
            "To: /content/1Talldata_multi_task_model_3_3472.pt\n",
            "100% 2.14G/2.14G [00:10<00:00, 195MB/s]\n"
          ]
        }
      ]
    },
    {
      "cell_type": "code",
      "source": [
        "alldata_1T_pipe = inferPipeline(modelPath = '/content/multi-task-NLP/1Talldata_multi_task_model_3_3472.pt',\n",
        "                                maxSeqLen = 128)"
      ],
      "metadata": {
        "id": "yPbZzyX3X4X2"
      },
      "execution_count": null,
      "outputs": []
    },
    {
      "cell_type": "code",
      "source": [
        "uncor_alldata_1T, uncor_alldata_1T_data = eval_multitask_model(alldata_1T_pipe, uncorrected_data, need_matrix=True)\n",
        "uncor_alldata_1T"
      ],
      "metadata": {
        "colab": {
          "base_uri": "https://localhost:8080/",
          "height": 454
        },
        "outputId": "8e4b62eb-972b-4007-fa52-ca87c70dfbc2",
        "id": "pYmI5ngzX4X2"
      },
      "execution_count": null,
      "outputs": [
        {
          "output_type": "stream",
          "name": "stderr",
          "text": [
            "Eval:   0%|          | 0/16 [00:00<?, ?it/s]/usr/local/lib/python3.7/dist-packages/torch/nn/functional.py:1350: UserWarning: nn.functional.sigmoid is deprecated. Use torch.sigmoid instead.\n",
            "  warnings.warn(\"nn.functional.sigmoid is deprecated. Use torch.sigmoid instead.\")\n",
            "Eval: 100%|██████████| 16/16 [00:01<00:00, 13.67it/s]\n"
          ]
        },
        {
          "output_type": "display_data",
          "data": {
            "text/plain": [
              "<Figure size 432x288 with 2 Axes>"
            ],
            "image/png": "[encoded data removed]"
          },
          "metadata": {
            "needs_background": "light"
          }
        },
        {
          "output_type": "execute_result",
          "data": {
            "text/plain": [
              "{'accuracy': 0.5952380952380952,\n",
              " 'f1': 0.6832298136645963,\n",
              " 'precision': 0.7746478873239436,\n",
              " 'recall': 0.6111111111111112}"
            ]
          },
          "metadata": {},
          "execution_count": 30
        }
      ]
    },
    {
      "cell_type": "code",
      "source": [
        "cor_alldata_1T, cor_alldata_1T_data = eval_multitask_model(alldata_1T_pipe, corrected_data, need_matrix=True)\n",
        "cor_alldata_1T"
      ],
      "metadata": {
        "id": "PTEehOe4X4X3",
        "colab": {
          "base_uri": "https://localhost:8080/",
          "height": 454
        },
        "outputId": "931f4d45-e44c-42e5-afbd-781587713435"
      },
      "execution_count": null,
      "outputs": [
        {
          "output_type": "stream",
          "name": "stderr",
          "text": [
            "Eval:   0%|          | 0/16 [00:00<?, ?it/s]/usr/local/lib/python3.7/dist-packages/torch/nn/functional.py:1350: UserWarning: nn.functional.sigmoid is deprecated. Use torch.sigmoid instead.\n",
            "  warnings.warn(\"nn.functional.sigmoid is deprecated. Use torch.sigmoid instead.\")\n",
            "Eval: 100%|██████████| 16/16 [00:01<00:00, 13.24it/s]\n"
          ]
        },
        {
          "output_type": "display_data",
          "data": {
            "text/plain": [
              "<Figure size 432x288 with 2 Axes>"
            ],
            "image/png": "[encoded data removed]"
          },
          "metadata": {
            "needs_background": "light"
          }
        },
        {
          "output_type": "execute_result",
          "data": {
            "text/plain": [
              "{'accuracy': 0.6587301587301587,\n",
              " 'f1': 0.7817258883248731,\n",
              " 'precision': 0.719626168224299,\n",
              " 'recall': 0.8555555555555555}"
            ]
          },
          "metadata": {},
          "execution_count": 31
        }
      ]
    },
    {
      "cell_type": "code",
      "source": [
        "preproc_alldata_1T, preproc_alldata_1T_data = eval_multitask_model(alldata_1T_pipe, processed_data, need_matrix=True)\n",
        "preproc_alldata_1T"
      ],
      "metadata": {
        "id": "JA7wMF78X4X3",
        "colab": {
          "base_uri": "https://localhost:8080/",
          "height": 454
        },
        "outputId": "14fa5b62-3924-4cdf-f09b-6dff2f32cd7e"
      },
      "execution_count": null,
      "outputs": [
        {
          "output_type": "stream",
          "name": "stderr",
          "text": [
            "Eval:   0%|          | 0/16 [00:00<?, ?it/s]/usr/local/lib/python3.7/dist-packages/torch/nn/functional.py:1350: UserWarning: nn.functional.sigmoid is deprecated. Use torch.sigmoid instead.\n",
            "  warnings.warn(\"nn.functional.sigmoid is deprecated. Use torch.sigmoid instead.\")\n",
            "Eval: 100%|██████████| 16/16 [00:01<00:00, 14.12it/s]\n"
          ]
        },
        {
          "output_type": "display_data",
          "data": {
            "text/plain": [
              "<Figure size 432x288 with 2 Axes>"
            ],
            "image/png": "[encoded data removed]"
          },
          "metadata": {
            "needs_background": "light"
          }
        },
        {
          "output_type": "execute_result",
          "data": {
            "text/plain": [
              "{'accuracy': 0.7142857142857143,\n",
              " 'f1': 0.8235294117647058,\n",
              " 'precision': 0.7368421052631579,\n",
              " 'recall': 0.9333333333333333}"
            ]
          },
          "metadata": {},
          "execution_count": 32
        }
      ]
    },
    {
      "cell_type": "code",
      "source": [
        "save_predictions(uncor_alldata_1T_data,\n",
        "                 cor_alldata_1T_data,\n",
        "                 preproc_alldata_1T_data,\n",
        "                 'alldata_1T')"
      ],
      "metadata": {
        "colab": {
          "base_uri": "https://localhost:8080/"
        },
        "id": "sChg60oyEkAZ",
        "outputId": "4261108c-0269-4785-88a8-c602cbee1070"
      },
      "execution_count": null,
      "outputs": [
        {
          "output_type": "stream",
          "name": "stdout",
          "text": [
            "alldata_1T data saved successfully\n"
          ]
        }
      ]
    },
    {
      "cell_type": "code",
      "source": [
        "del alldata_1T_pipe"
      ],
      "metadata": {
        "id": "ZV646eXLX4X3"
      },
      "execution_count": null,
      "outputs": []
    },
    {
      "cell_type": "markdown",
      "source": [
        "#### all data, 2 tasks"
      ],
      "metadata": {
        "id": "dEWnZnedXw6M"
      }
    },
    {
      "cell_type": "code",
      "source": [
        "# all data, 2 tasks\n",
        "!gdown https://drive.google.com/uc?id=1Xu-4-3kYv8HCU2j7zgx84FZm778lzIKk"
      ],
      "metadata": {
        "colab": {
          "base_uri": "https://localhost:8080/"
        },
        "id": "Tuy-PYHc3r0z",
        "outputId": "2f0ee00e-a402-4b15-b078-c804619b1f03"
      },
      "execution_count": null,
      "outputs": [
        {
          "output_type": "stream",
          "name": "stdout",
          "text": [
            "Downloading...\n",
            "From: https://drive.google.com/uc?id=1Xu-4-3kYv8HCU2j7zgx84FZm778lzIKk\n",
            "To: /content/multi-task-NLP/2Talldata_multi_task_model_3_4192.pt\n",
            "100% 2.14G/2.14G [00:15<00:00, 139MB/s]\n"
          ]
        }
      ]
    },
    {
      "cell_type": "code",
      "source": [
        "alldata_2T_pipe = inferPipeline(modelPath = '/content/multi-task-NLP/2Talldata_multi_task_model_3_4192.pt',\n",
        "                                maxSeqLen = 128)"
      ],
      "metadata": {
        "id": "OKjxM4KI4c4B"
      },
      "execution_count": null,
      "outputs": []
    },
    {
      "cell_type": "code",
      "source": [
        "uncor_alldata_2T, uncor_alldata_2T_data = eval_multitask_model(alldata_2T_pipe, uncorrected_data, need_matrix=True)\n",
        "uncor_alldata_2T"
      ],
      "metadata": {
        "colab": {
          "base_uri": "https://localhost:8080/",
          "height": 454
        },
        "outputId": "21f6a217-caa2-4f9a-820a-7a5e877c0af8",
        "id": "HaFWfdVi4c4C"
      },
      "execution_count": null,
      "outputs": [
        {
          "output_type": "stream",
          "name": "stderr",
          "text": [
            "Eval:   0%|          | 0/16 [00:00<?, ?it/s]/usr/local/lib/python3.7/dist-packages/torch/nn/functional.py:1350: UserWarning: nn.functional.sigmoid is deprecated. Use torch.sigmoid instead.\n",
            "  warnings.warn(\"nn.functional.sigmoid is deprecated. Use torch.sigmoid instead.\")\n",
            "Eval: 100%|██████████| 16/16 [00:01<00:00, 12.92it/s]\n"
          ]
        },
        {
          "output_type": "display_data",
          "data": {
            "text/plain": [
              "<Figure size 432x288 with 2 Axes>"
            ],
            "image/png": "[encoded data removed]"
          },
          "metadata": {
            "needs_background": "light"
          }
        },
        {
          "output_type": "execute_result",
          "data": {
            "text/plain": [
              "{'accuracy': 0.6825396825396826,\n",
              " 'f1': 0.7849462365591398,\n",
              " 'precision': 0.7604166666666666,\n",
              " 'recall': 0.8111111111111111}"
            ]
          },
          "metadata": {},
          "execution_count": 38
        }
      ]
    },
    {
      "cell_type": "code",
      "source": [
        "cor_alldata_2T, cor_alldata_2T_data = eval_multitask_model(alldata_2T_pipe, corrected_data, need_matrix=True)\n",
        "cor_alldata_2T"
      ],
      "metadata": {
        "colab": {
          "base_uri": "https://localhost:8080/",
          "height": 454
        },
        "id": "26L_A-OT-phP",
        "outputId": "7571164a-2a40-4b44-8b77-6e42080350f9"
      },
      "execution_count": null,
      "outputs": [
        {
          "output_type": "stream",
          "name": "stderr",
          "text": [
            "Eval:   0%|          | 0/16 [00:00<?, ?it/s]/usr/local/lib/python3.7/dist-packages/torch/nn/functional.py:1350: UserWarning: nn.functional.sigmoid is deprecated. Use torch.sigmoid instead.\n",
            "  warnings.warn(\"nn.functional.sigmoid is deprecated. Use torch.sigmoid instead.\")\n",
            "Eval: 100%|██████████| 16/16 [00:01<00:00, 14.47it/s]\n"
          ]
        },
        {
          "output_type": "display_data",
          "data": {
            "text/plain": [
              "<Figure size 432x288 with 2 Axes>"
            ],
            "image/png": "[encoded data removed]"
          },
          "metadata": {
            "needs_background": "light"
          }
        },
        {
          "output_type": "execute_result",
          "data": {
            "text/plain": [
              "{'accuracy': 0.6587301587301587,\n",
              " 'f1': 0.7772020725388602,\n",
              " 'precision': 0.7281553398058253,\n",
              " 'recall': 0.8333333333333334}"
            ]
          },
          "metadata": {},
          "execution_count": 39
        }
      ]
    },
    {
      "cell_type": "code",
      "source": [
        "preproc_alldata_2T, preproc_alldata_2T_data = eval_multitask_model(alldata_2T_pipe, processed_data, need_matrix=True)\n",
        "preproc_alldata_2T"
      ],
      "metadata": {
        "colab": {
          "base_uri": "https://localhost:8080/",
          "height": 454
        },
        "id": "MOTT9xkW-pqF",
        "outputId": "3936a065-cd5f-43db-ed51-69917d192fc3"
      },
      "execution_count": null,
      "outputs": [
        {
          "output_type": "stream",
          "name": "stderr",
          "text": [
            "Eval:   0%|          | 0/16 [00:00<?, ?it/s]/usr/local/lib/python3.7/dist-packages/torch/nn/functional.py:1350: UserWarning: nn.functional.sigmoid is deprecated. Use torch.sigmoid instead.\n",
            "  warnings.warn(\"nn.functional.sigmoid is deprecated. Use torch.sigmoid instead.\")\n",
            "Eval: 100%|██████████| 16/16 [00:01<00:00, 13.78it/s]\n"
          ]
        },
        {
          "output_type": "display_data",
          "data": {
            "text/plain": [
              "<Figure size 432x288 with 2 Axes>"
            ],
            "image/png": "[encoded data removed]"
          },
          "metadata": {
            "needs_background": "light"
          }
        },
        {
          "output_type": "execute_result",
          "data": {
            "text/plain": [
              "{'accuracy': 0.6666666666666666,\n",
              " 'f1': 0.7878787878787877,\n",
              " 'precision': 0.7222222222222222,\n",
              " 'recall': 0.8666666666666667}"
            ]
          },
          "metadata": {},
          "execution_count": 40
        }
      ]
    },
    {
      "cell_type": "code",
      "source": [
        "save_predictions(uncor_alldata_2T_data,\n",
        "                 cor_alldata_2T_data,\n",
        "                 preproc_alldata_2T_data,\n",
        "                 'alldata_2T')"
      ],
      "metadata": {
        "colab": {
          "base_uri": "https://localhost:8080/"
        },
        "id": "vlyL0eMXEtGA",
        "outputId": "d912000b-ba51-46d3-f438-506801bc30dc"
      },
      "execution_count": null,
      "outputs": [
        {
          "output_type": "stream",
          "name": "stdout",
          "text": [
            "alldata_2T data saved successfully\n"
          ]
        }
      ]
    },
    {
      "cell_type": "code",
      "source": [
        "del alldata_2T_pipe"
      ],
      "metadata": {
        "id": "0b_ea_K74c4C"
      },
      "execution_count": null,
      "outputs": []
    },
    {
      "cell_type": "code",
      "source": [
        "import json\n",
        "# save to load after restarting runtime\n",
        "my_metrics = {'uncor_alldata_2T': uncor_alldata_2T,\n",
        "              'cor_alldata_2T': cor_alldata_2T,\n",
        "              'preproc_alldata_2T': preproc_alldata_2T,\n",
        "              'uncor_vk_2T': uncor_vk_2T,\n",
        "              'cor_vk_2T': cor_vk_2T,\n",
        "              'preproc_vk_2T': preproc_vk_2T,\n",
        "              'uncor_vk_1T': uncor_vk_1T,\n",
        "              'cor_vk_1T': cor_vk_1T,\n",
        "              'preproc_vk_1T': preproc_vk_1T,\n",
        "              'uncor_alldata_1T': uncor_alldata_1T,\n",
        "              'cor_alldata_1T': cor_alldata_1T,\n",
        "              'preproc_alldata_1T': preproc_alldata_1T}\n",
        "\n",
        "with open('metrics.json', 'w') as f:\n",
        "    json.dump(my_metrics, f)"
      ],
      "metadata": {
        "id": "Ud4qa3xY54aK"
      },
      "execution_count": null,
      "outputs": []
    },
    {
      "cell_type": "markdown",
      "source": [
        "#### Сравнение"
      ],
      "metadata": {
        "id": "rE117NchcivY"
      }
    },
    {
      "cell_type": "code",
      "source": [
        "! pip install pandas -U\n",
        "! pip install numpy -U"
      ],
      "metadata": {
        "colab": {
          "base_uri": "https://localhost:8080/",
          "height": 901
        },
        "id": "LrBR7Ug-9SR1",
        "outputId": "a82743df-103c-4a49-9f1f-71e82bfe4436"
      },
      "execution_count": null,
      "outputs": [
        {
          "output_type": "stream",
          "name": "stdout",
          "text": [
            "Requirement already satisfied: pandas in /usr/local/lib/python3.7/dist-packages (1.0.1)\n",
            "Collecting pandas\n",
            "  Downloading pandas-1.3.5-cp37-cp37m-manylinux_2_17_x86_64.manylinux2014_x86_64.whl (11.3 MB)\n",
            "\u001b[K     |████████████████████████████████| 11.3 MB 5.4 MB/s \n",
            "\u001b[?25hRequirement already satisfied: python-dateutil>=2.7.3 in /usr/local/lib/python3.7/dist-packages (from pandas) (2.8.2)\n",
            "Requirement already satisfied: pytz>=2017.3 in /usr/local/lib/python3.7/dist-packages (from pandas) (2022.1)\n",
            "Requirement already satisfied: numpy>=1.17.3 in /usr/local/lib/python3.7/dist-packages (from pandas) (1.18.1)\n",
            "Requirement already satisfied: six>=1.5 in /usr/local/lib/python3.7/dist-packages (from python-dateutil>=2.7.3->pandas) (1.15.0)\n",
            "Installing collected packages: pandas\n",
            "  Attempting uninstall: pandas\n",
            "    Found existing installation: pandas 1.0.1\n",
            "    Uninstalling pandas-1.0.1:\n",
            "      Successfully uninstalled pandas-1.0.1\n",
            "\u001b[31mERROR: pip's dependency resolver does not currently take into account all the packages that are installed. This behaviour is the source of the following dependency conflicts.\n",
            "fbprophet 0.7.1 requires tqdm>=4.36.1, but you have tqdm 4.30.0 which is incompatible.\u001b[0m\n",
            "Successfully installed pandas-1.3.5\n"
          ]
        },
        {
          "output_type": "display_data",
          "data": {
            "application/vnd.colab-display-data+json": {
              "pip_warning": {
                "packages": [
                  "pandas"
                ]
              }
            }
          },
          "metadata": {}
        },
        {
          "output_type": "stream",
          "name": "stdout",
          "text": [
            "Requirement already satisfied: numpy in /usr/local/lib/python3.7/dist-packages (1.18.1)\n",
            "Collecting numpy\n",
            "  Downloading numpy-1.21.6-cp37-cp37m-manylinux_2_12_x86_64.manylinux2010_x86_64.whl (15.7 MB)\n",
            "\u001b[K     |████████████████████████████████| 15.7 MB 5.6 MB/s \n",
            "\u001b[?25hInstalling collected packages: numpy\n",
            "  Attempting uninstall: numpy\n",
            "    Found existing installation: numpy 1.18.1\n",
            "    Uninstalling numpy-1.18.1:\n",
            "      Successfully uninstalled numpy-1.18.1\n",
            "\u001b[31mERROR: pip's dependency resolver does not currently take into account all the packages that are installed. This behaviour is the source of the following dependency conflicts.\n",
            "yellowbrick 1.4 requires scikit-learn>=1.0.0, but you have scikit-learn 0.23.1 which is incompatible.\n",
            "torchvision 0.12.0+cu113 requires torch==1.11.0, but you have torch 1.2.0 which is incompatible.\n",
            "torchtext 0.12.0 requires torch==1.11.0, but you have torch 1.2.0 which is incompatible.\n",
            "tensorflow-probability 0.16.0 requires gast>=0.3.2, but you have gast 0.2.2 which is incompatible.\n",
            "spacy 2.2.4 requires tqdm<5.0.0,>=4.38.0, but you have tqdm 4.30.0 which is incompatible.\n",
            "librosa 0.8.1 requires joblib>=0.14, but you have joblib 0.13.2 which is incompatible.\n",
            "kapre 0.3.7 requires tensorflow>=2.0.0, but you have tensorflow 1.15.2 which is incompatible.\n",
            "imbalanced-learn 0.8.1 requires scikit-learn>=0.24, but you have scikit-learn 0.23.1 which is incompatible.\n",
            "fbprophet 0.7.1 requires tqdm>=4.36.1, but you have tqdm 4.30.0 which is incompatible.\n",
            "datascience 0.10.6 requires folium==0.2.1, but you have folium 0.8.3 which is incompatible.\n",
            "albumentations 0.1.12 requires imgaug<0.2.7,>=0.2.5, but you have imgaug 0.2.9 which is incompatible.\u001b[0m\n",
            "Successfully installed numpy-1.21.6\n"
          ]
        },
        {
          "output_type": "display_data",
          "data": {
            "application/vnd.colab-display-data+json": {
              "pip_warning": {
                "packages": [
                  "numpy"
                ]
              }
            }
          },
          "metadata": {}
        }
      ]
    },
    {
      "cell_type": "code",
      "source": [
        "import json\n",
        "import pandas as pd\n",
        "import numpy as np"
      ],
      "metadata": {
        "id": "p4PCYMBU9XF9"
      },
      "execution_count": null,
      "outputs": []
    },
    {
      "cell_type": "code",
      "source": [
        "# load after restart runtime\n",
        "with open('/content/multi-task-NLP/metrics.json', 'r') as f:\n",
        "    my_metrics = json.load(f)"
      ],
      "metadata": {
        "id": "O21ih8IR83pR"
      },
      "execution_count": null,
      "outputs": []
    },
    {
      "cell_type": "code",
      "source": [
        "my_results = pd.DataFrame.from_dict(my_metrics, orient='index')\n",
        "my_results.style.highlight_max(axis=0)"
      ],
      "metadata": {
        "colab": {
          "base_uri": "https://localhost:8080/",
          "height": 425
        },
        "id": "WaAMGabLbE1j",
        "outputId": "e52dcd15-b840-412a-ccca-a25edfa06fba"
      },
      "execution_count": null,
      "outputs": [
        {
          "output_type": "execute_result",
          "data": {
            "text/plain": [
              "<pandas.io.formats.style.Styler at 0x7f816aa0b890>"
            ],
            "text/html": [
              "<style type=\"text/css\">\n",
              "#T_48cad_row5_col2, #T_48cad_row11_col0, #T_48cad_row11_col1, #T_48cad_row11_col3 {\n",
              "  background-color: yellow;\n",
              "}\n",
              "</style>\n",
              "<table id=\"T_48cad_\" class=\"dataframe\">\n",
              "  <thead>\n",
              "    <tr>\n",
              "      <th class=\"blank level0\" >&nbsp;</th>\n",
              "      <th class=\"col_heading level0 col0\" >accuracy</th>\n",
              "      <th class=\"col_heading level0 col1\" >f1</th>\n",
              "      <th class=\"col_heading level0 col2\" >precision</th>\n",
              "      <th class=\"col_heading level0 col3\" >recall</th>\n",
              "    </tr>\n",
              "  </thead>\n",
              "  <tbody>\n",
              "    <tr>\n",
              "      <th id=\"T_48cad_level0_row0\" class=\"row_heading level0 row0\" >uncor_alldata_2T</th>\n",
              "      <td id=\"T_48cad_row0_col0\" class=\"data row0 col0\" >0.682540</td>\n",
              "      <td id=\"T_48cad_row0_col1\" class=\"data row0 col1\" >0.784946</td>\n",
              "      <td id=\"T_48cad_row0_col2\" class=\"data row0 col2\" >0.760417</td>\n",
              "      <td id=\"T_48cad_row0_col3\" class=\"data row0 col3\" >0.811111</td>\n",
              "    </tr>\n",
              "    <tr>\n",
              "      <th id=\"T_48cad_level0_row1\" class=\"row_heading level0 row1\" >cor_alldata_2T</th>\n",
              "      <td id=\"T_48cad_row1_col0\" class=\"data row1 col0\" >0.658730</td>\n",
              "      <td id=\"T_48cad_row1_col1\" class=\"data row1 col1\" >0.777202</td>\n",
              "      <td id=\"T_48cad_row1_col2\" class=\"data row1 col2\" >0.728155</td>\n",
              "      <td id=\"T_48cad_row1_col3\" class=\"data row1 col3\" >0.833333</td>\n",
              "    </tr>\n",
              "    <tr>\n",
              "      <th id=\"T_48cad_level0_row2\" class=\"row_heading level0 row2\" >preproc_alldata_2T</th>\n",
              "      <td id=\"T_48cad_row2_col0\" class=\"data row2 col0\" >0.666667</td>\n",
              "      <td id=\"T_48cad_row2_col1\" class=\"data row2 col1\" >0.787879</td>\n",
              "      <td id=\"T_48cad_row2_col2\" class=\"data row2 col2\" >0.722222</td>\n",
              "      <td id=\"T_48cad_row2_col3\" class=\"data row2 col3\" >0.866667</td>\n",
              "    </tr>\n",
              "    <tr>\n",
              "      <th id=\"T_48cad_level0_row3\" class=\"row_heading level0 row3\" >uncor_vk_2T</th>\n",
              "      <td id=\"T_48cad_row3_col0\" class=\"data row3 col0\" >0.619048</td>\n",
              "      <td id=\"T_48cad_row3_col1\" class=\"data row3 col1\" >0.720930</td>\n",
              "      <td id=\"T_48cad_row3_col2\" class=\"data row3 col2\" >0.756098</td>\n",
              "      <td id=\"T_48cad_row3_col3\" class=\"data row3 col3\" >0.688889</td>\n",
              "    </tr>\n",
              "    <tr>\n",
              "      <th id=\"T_48cad_level0_row4\" class=\"row_heading level0 row4\" >cor_vk_2T</th>\n",
              "      <td id=\"T_48cad_row4_col0\" class=\"data row4 col0\" >0.531746</td>\n",
              "      <td id=\"T_48cad_row4_col1\" class=\"data row4 col1\" >0.598639</td>\n",
              "      <td id=\"T_48cad_row4_col2\" class=\"data row4 col2\" >0.771930</td>\n",
              "      <td id=\"T_48cad_row4_col3\" class=\"data row4 col3\" >0.488889</td>\n",
              "    </tr>\n",
              "    <tr>\n",
              "      <th id=\"T_48cad_level0_row5\" class=\"row_heading level0 row5\" >preproc_vk_2T</th>\n",
              "      <td id=\"T_48cad_row5_col0\" class=\"data row5 col0\" >0.547619</td>\n",
              "      <td id=\"T_48cad_row5_col1\" class=\"data row5 col1\" >0.617450</td>\n",
              "      <td id=\"T_48cad_row5_col2\" class=\"data row5 col2\" >0.779661</td>\n",
              "      <td id=\"T_48cad_row5_col3\" class=\"data row5 col3\" >0.511111</td>\n",
              "    </tr>\n",
              "    <tr>\n",
              "      <th id=\"T_48cad_level0_row6\" class=\"row_heading level0 row6\" >uncor_vk_1T</th>\n",
              "      <td id=\"T_48cad_row6_col0\" class=\"data row6 col0\" >0.388889</td>\n",
              "      <td id=\"T_48cad_row6_col1\" class=\"data row6 col1\" >0.341880</td>\n",
              "      <td id=\"T_48cad_row6_col2\" class=\"data row6 col2\" >0.740741</td>\n",
              "      <td id=\"T_48cad_row6_col3\" class=\"data row6 col3\" >0.222222</td>\n",
              "    </tr>\n",
              "    <tr>\n",
              "      <th id=\"T_48cad_level0_row7\" class=\"row_heading level0 row7\" >cor_vk_1T</th>\n",
              "      <td id=\"T_48cad_row7_col0\" class=\"data row7 col0\" >0.365079</td>\n",
              "      <td id=\"T_48cad_row7_col1\" class=\"data row7 col1\" >0.298246</td>\n",
              "      <td id=\"T_48cad_row7_col2\" class=\"data row7 col2\" >0.708333</td>\n",
              "      <td id=\"T_48cad_row7_col3\" class=\"data row7 col3\" >0.188889</td>\n",
              "    </tr>\n",
              "    <tr>\n",
              "      <th id=\"T_48cad_level0_row8\" class=\"row_heading level0 row8\" >preproc_vk_1T</th>\n",
              "      <td id=\"T_48cad_row8_col0\" class=\"data row8 col0\" >0.373016</td>\n",
              "      <td id=\"T_48cad_row8_col1\" class=\"data row8 col1\" >0.347107</td>\n",
              "      <td id=\"T_48cad_row8_col2\" class=\"data row8 col2\" >0.677419</td>\n",
              "      <td id=\"T_48cad_row8_col3\" class=\"data row8 col3\" >0.233333</td>\n",
              "    </tr>\n",
              "    <tr>\n",
              "      <th id=\"T_48cad_level0_row9\" class=\"row_heading level0 row9\" >uncor_alldata_1T</th>\n",
              "      <td id=\"T_48cad_row9_col0\" class=\"data row9 col0\" >0.595238</td>\n",
              "      <td id=\"T_48cad_row9_col1\" class=\"data row9 col1\" >0.683230</td>\n",
              "      <td id=\"T_48cad_row9_col2\" class=\"data row9 col2\" >0.774648</td>\n",
              "      <td id=\"T_48cad_row9_col3\" class=\"data row9 col3\" >0.611111</td>\n",
              "    </tr>\n",
              "    <tr>\n",
              "      <th id=\"T_48cad_level0_row10\" class=\"row_heading level0 row10\" >cor_alldata_1T</th>\n",
              "      <td id=\"T_48cad_row10_col0\" class=\"data row10 col0\" >0.658730</td>\n",
              "      <td id=\"T_48cad_row10_col1\" class=\"data row10 col1\" >0.781726</td>\n",
              "      <td id=\"T_48cad_row10_col2\" class=\"data row10 col2\" >0.719626</td>\n",
              "      <td id=\"T_48cad_row10_col3\" class=\"data row10 col3\" >0.855556</td>\n",
              "    </tr>\n",
              "    <tr>\n",
              "      <th id=\"T_48cad_level0_row11\" class=\"row_heading level0 row11\" >preproc_alldata_1T</th>\n",
              "      <td id=\"T_48cad_row11_col0\" class=\"data row11 col0\" >0.714286</td>\n",
              "      <td id=\"T_48cad_row11_col1\" class=\"data row11 col1\" >0.823529</td>\n",
              "      <td id=\"T_48cad_row11_col2\" class=\"data row11 col2\" >0.736842</td>\n",
              "      <td id=\"T_48cad_row11_col3\" class=\"data row11 col3\" >0.933333</td>\n",
              "    </tr>\n",
              "  </tbody>\n",
              "</table>\n"
            ]
          },
          "metadata": {},
          "execution_count": 4
        }
      ]
    },
    {
      "cell_type": "code",
      "source": [
        "my_results_f1 = pd.DataFrame({'uncorrected': my_metrics['uncor_vk_1T']['f1'],\n",
        "                              'corrected': my_metrics['cor_vk_1T']['f1'],\n",
        "                              'preprocessed': my_metrics['preproc_vk_1T']['f1']},\n",
        "                             index=['vkdata_onetask'])\n",
        "\n",
        "my_results_f1.loc['vkdata_twotasks'] = {'uncorrected': my_metrics['uncor_vk_2T']['f1'],\n",
        "                                        'corrected': my_metrics['cor_vk_2T']['f1'],\n",
        "                                        'preprocessed': my_metrics['preproc_vk_2T']['f1']}\n",
        "\n",
        "my_results_f1.loc['alldata_onetask'] = {'uncorrected': my_metrics['uncor_alldata_1T']['f1'],\n",
        "                                         'corrected': my_metrics['cor_alldata_1T']['f1'],\n",
        "                                         'preprocessed': my_metrics['preproc_alldata_1T']['f1']}\n",
        "\n",
        "my_results_f1.loc['alldata_twotasks'] = {'uncorrected': my_metrics['uncor_alldata_2T']['f1'],\n",
        "                                         'corrected': my_metrics['cor_alldata_2T']['f1'],\n",
        "                                         'preprocessed': my_metrics['preproc_alldata_2T']['f1']}\n",
        "\n",
        "my_results_f1.style.highlight_max(axis=1, color='orange')"
      ],
      "metadata": {
        "colab": {
          "base_uri": "https://localhost:8080/",
          "height": 175
        },
        "outputId": "f709a039-977a-4ff8-dccd-d421fe5ac4f9",
        "id": "sG1TQDs_civa"
      },
      "execution_count": null,
      "outputs": [
        {
          "output_type": "execute_result",
          "data": {
            "text/plain": [
              "<pandas.io.formats.style.Styler at 0x7f816a65aad0>"
            ],
            "text/html": [
              "<style type=\"text/css\">\n",
              "#T_06c3e_row0_col2, #T_06c3e_row1_col0, #T_06c3e_row2_col2, #T_06c3e_row3_col2 {\n",
              "  background-color: orange;\n",
              "}\n",
              "</style>\n",
              "<table id=\"T_06c3e_\" class=\"dataframe\">\n",
              "  <thead>\n",
              "    <tr>\n",
              "      <th class=\"blank level0\" >&nbsp;</th>\n",
              "      <th class=\"col_heading level0 col0\" >uncorrected</th>\n",
              "      <th class=\"col_heading level0 col1\" >corrected</th>\n",
              "      <th class=\"col_heading level0 col2\" >preprocessed</th>\n",
              "    </tr>\n",
              "  </thead>\n",
              "  <tbody>\n",
              "    <tr>\n",
              "      <th id=\"T_06c3e_level0_row0\" class=\"row_heading level0 row0\" >vkdata_onetask</th>\n",
              "      <td id=\"T_06c3e_row0_col0\" class=\"data row0 col0\" >0.341880</td>\n",
              "      <td id=\"T_06c3e_row0_col1\" class=\"data row0 col1\" >0.298246</td>\n",
              "      <td id=\"T_06c3e_row0_col2\" class=\"data row0 col2\" >0.347107</td>\n",
              "    </tr>\n",
              "    <tr>\n",
              "      <th id=\"T_06c3e_level0_row1\" class=\"row_heading level0 row1\" >vkdata_twotasks</th>\n",
              "      <td id=\"T_06c3e_row1_col0\" class=\"data row1 col0\" >0.720930</td>\n",
              "      <td id=\"T_06c3e_row1_col1\" class=\"data row1 col1\" >0.598639</td>\n",
              "      <td id=\"T_06c3e_row1_col2\" class=\"data row1 col2\" >0.617450</td>\n",
              "    </tr>\n",
              "    <tr>\n",
              "      <th id=\"T_06c3e_level0_row2\" class=\"row_heading level0 row2\" >alldata_onetask</th>\n",
              "      <td id=\"T_06c3e_row2_col0\" class=\"data row2 col0\" >0.683230</td>\n",
              "      <td id=\"T_06c3e_row2_col1\" class=\"data row2 col1\" >0.781726</td>\n",
              "      <td id=\"T_06c3e_row2_col2\" class=\"data row2 col2\" >0.823529</td>\n",
              "    </tr>\n",
              "    <tr>\n",
              "      <th id=\"T_06c3e_level0_row3\" class=\"row_heading level0 row3\" >alldata_twotasks</th>\n",
              "      <td id=\"T_06c3e_row3_col0\" class=\"data row3 col0\" >0.784946</td>\n",
              "      <td id=\"T_06c3e_row3_col1\" class=\"data row3 col1\" >0.777202</td>\n",
              "      <td id=\"T_06c3e_row3_col2\" class=\"data row3 col2\" >0.787879</td>\n",
              "    </tr>\n",
              "  </tbody>\n",
              "</table>\n"
            ]
          },
          "metadata": {},
          "execution_count": 5
        }
      ]
    },
    {
      "cell_type": "code",
      "source": [
        "# models that were tested before"
      ],
      "metadata": {
        "colab": {
          "base_uri": "https://localhost:8080/",
          "height": 143
        },
        "outputId": "caa71160-cb6f-4a3a-88c6-3943687745ca",
        "id": "T2kul1QvCSeO"
      },
      "execution_count": null,
      "outputs": [
        {
          "output_type": "execute_result",
          "data": {
            "text/plain": [
              "<pandas.io.formats.style.Styler at 0x7fdd6b04af10>"
            ],
            "text/html": [
              "<style type=\"text/css\">\n",
              "#T_c8791_row0_col2, #T_c8791_row1_col2, #T_c8791_row2_col2 {\n",
              "  background-color: orange;\n",
              "}\n",
              "</style>\n",
              "<table id=\"T_c8791_\" class=\"dataframe\">\n",
              "  <thead>\n",
              "    <tr>\n",
              "      <th class=\"blank level0\" >&nbsp;</th>\n",
              "      <th class=\"col_heading level0 col0\" >uncorrected</th>\n",
              "      <th class=\"col_heading level0 col1\" >corrected</th>\n",
              "      <th class=\"col_heading level0 col2\" >preprocessed</th>\n",
              "    </tr>\n",
              "  </thead>\n",
              "  <tbody>\n",
              "    <tr>\n",
              "      <th id=\"T_c8791_level0_row0\" class=\"row_heading level0 row0\" >rubert_smetanin</th>\n",
              "      <td id=\"T_c8791_row0_col0\" class=\"data row0 col0\" >0.811429</td>\n",
              "      <td id=\"T_c8791_row0_col1\" class=\"data row0 col1\" >0.848168</td>\n",
              "      <td id=\"T_c8791_row0_col2\" class=\"data row0 col2\" >0.862944</td>\n",
              "    </tr>\n",
              "    <tr>\n",
              "      <th id=\"T_c8791_level0_row1\" class=\"row_heading level0 row1\" >rubert_dale</th>\n",
              "      <td id=\"T_c8791_row1_col0\" class=\"data row1 col0\" >0.623377</td>\n",
              "      <td id=\"T_c8791_row1_col1\" class=\"data row1 col1\" >0.744898</td>\n",
              "      <td id=\"T_c8791_row1_col2\" class=\"data row1 col2\" >0.826923</td>\n",
              "    </tr>\n",
              "    <tr>\n",
              "      <th id=\"T_c8791_level0_row2\" class=\"row_heading level0 row2\" >cnn_barsukov</th>\n",
              "      <td id=\"T_c8791_row2_col0\" class=\"data row2 col0\" >0.813187</td>\n",
              "      <td id=\"T_c8791_row2_col1\" class=\"data row2 col1\" >0.819149</td>\n",
              "      <td id=\"T_c8791_row2_col2\" class=\"data row2 col2\" >0.845361</td>\n",
              "    </tr>\n",
              "  </tbody>\n",
              "</table>\n"
            ]
          },
          "metadata": {},
          "execution_count": 35
        }
      ]
    },
    {
      "cell_type": "markdown",
      "source": [
        "model           | uncorrected | corrected | preprocessed \n",
        "----------------|-------------|-----------|-------------\n",
        "mnb_smetanin    | 0.5775      | 0.6790    | **0.7429**\n",
        "svm_saitov      | **0.81**    | 0.80      | **0.81**\n",
        "logreg_barsukov | 0.6755      | 0.7778    | **0.7891**"
      ],
      "metadata": {
        "id": "uJuc24YchHdG"
      }
    },
    {
      "cell_type": "markdown",
      "source": [
        ""
      ],
      "metadata": {
        "id": "kttyX6MR4X7F"
      }
    }
  ]
}