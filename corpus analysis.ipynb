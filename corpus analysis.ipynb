{
 "cells": [
  {
   "cell_type": "markdown",
   "metadata": {},
   "source": [
    "# Анализ собранного корпуса\n",
    "\n",
    "Тетрадка со вспомогательными функциями для подсчёта разных статистик по собранным и размеченным данным"
   ]
  },
  {
   "cell_type": "code",
   "execution_count": 19,
   "metadata": {},
   "outputs": [],
   "source": [
    "import pandas as pd\n",
    "from pprint import pprint\n",
    "from numpy import mean"
   ]
  },
  {
   "cell_type": "code",
   "execution_count": 3,
   "metadata": {},
   "outputs": [
    {
     "data": {
      "text/html": [
       "<div>\n",
       "<style scoped>\n",
       "    .dataframe tbody tr th:only-of-type {\n",
       "        vertical-align: middle;\n",
       "    }\n",
       "\n",
       "    .dataframe tbody tr th {\n",
       "        vertical-align: top;\n",
       "    }\n",
       "\n",
       "    .dataframe thead th {\n",
       "        text-align: right;\n",
       "    }\n",
       "</style>\n",
       "<table border=\"1\" class=\"dataframe\">\n",
       "  <thead>\n",
       "    <tr style=\"text-align: right;\">\n",
       "      <th></th>\n",
       "      <th>comment_id</th>\n",
       "      <th>source</th>\n",
       "      <th>comments</th>\n",
       "      <th>distortion</th>\n",
       "      <th>toxicity</th>\n",
       "      <th>corrected</th>\n",
       "      <th>Столбец1</th>\n",
       "    </tr>\n",
       "  </thead>\n",
       "  <tbody>\n",
       "    <tr>\n",
       "      <th>0</th>\n",
       "      <td>0</td>\n",
       "      <td>медуза</td>\n",
       "      <td>Григорий Спел)))</td>\n",
       "      <td>0</td>\n",
       "      <td>0</td>\n",
       "      <td>NaN</td>\n",
       "      <td>NaN</td>\n",
       "    </tr>\n",
       "    <tr>\n",
       "      <th>1</th>\n",
       "      <td>1</td>\n",
       "      <td>медуза</td>\n",
       "      <td>Только новую серию Намедни закончил смотреть и...</td>\n",
       "      <td>0</td>\n",
       "      <td>0</td>\n",
       "      <td>NaN</td>\n",
       "      <td>NaN</td>\n",
       "    </tr>\n",
       "    <tr>\n",
       "      <th>2</th>\n",
       "      <td>2</td>\n",
       "      <td>медуза</td>\n",
       "      <td>А будет ли фильм Русские русские?</td>\n",
       "      <td>0</td>\n",
       "      <td>0</td>\n",
       "      <td>NaN</td>\n",
       "      <td>NaN</td>\n",
       "    </tr>\n",
       "    <tr>\n",
       "      <th>3</th>\n",
       "      <td>3</td>\n",
       "      <td>медуза</td>\n",
       "      <td>[id415480453|Олег], есть же, \"Цвет нации\".</td>\n",
       "      <td>0</td>\n",
       "      <td>0</td>\n",
       "      <td>NaN</td>\n",
       "      <td>NaN</td>\n",
       "    </tr>\n",
       "    <tr>\n",
       "      <th>4</th>\n",
       "      <td>4</td>\n",
       "      <td>медуза</td>\n",
       "      <td>Что бы ни делал Леонид Геннадьевич - шедеврально.</td>\n",
       "      <td>0</td>\n",
       "      <td>0</td>\n",
       "      <td>NaN</td>\n",
       "      <td>NaN</td>\n",
       "    </tr>\n",
       "    <tr>\n",
       "      <th>...</th>\n",
       "      <td>...</td>\n",
       "      <td>...</td>\n",
       "      <td>...</td>\n",
       "      <td>...</td>\n",
       "      <td>...</td>\n",
       "      <td>...</td>\n",
       "      <td>...</td>\n",
       "    </tr>\n",
       "    <tr>\n",
       "      <th>2995</th>\n",
       "      <td>2995</td>\n",
       "      <td>дождь</td>\n",
       "      <td>[id138280294|Антон], не повторяйся бот</td>\n",
       "      <td>0</td>\n",
       "      <td>1</td>\n",
       "      <td>NaN</td>\n",
       "      <td>NaN</td>\n",
       "    </tr>\n",
       "    <tr>\n",
       "      <th>2996</th>\n",
       "      <td>2996</td>\n",
       "      <td>дождь</td>\n",
       "      <td>[id49464409|Анатолий],  Это констатация факта....</td>\n",
       "      <td>0</td>\n",
       "      <td>0</td>\n",
       "      <td>NaN</td>\n",
       "      <td>NaN</td>\n",
       "    </tr>\n",
       "    <tr>\n",
       "      <th>2997</th>\n",
       "      <td>2997</td>\n",
       "      <td>дождь</td>\n",
       "      <td>[id138280294|Антон], утром методичку новую дали</td>\n",
       "      <td>0</td>\n",
       "      <td>0</td>\n",
       "      <td>NaN</td>\n",
       "      <td>NaN</td>\n",
       "    </tr>\n",
       "    <tr>\n",
       "      <th>2998</th>\n",
       "      <td>2998</td>\n",
       "      <td>дождь</td>\n",
       "      <td>[id49464409|Анатолий], ага, Байден все делает ...</td>\n",
       "      <td>0</td>\n",
       "      <td>0</td>\n",
       "      <td>NaN</td>\n",
       "      <td>NaN</td>\n",
       "    </tr>\n",
       "    <tr>\n",
       "      <th>2999</th>\n",
       "      <td>2999</td>\n",
       "      <td>дождь</td>\n",
       "      <td>Есть ещё в России настоящие офицеры! Преподава...</td>\n",
       "      <td>0</td>\n",
       "      <td>0</td>\n",
       "      <td>NaN</td>\n",
       "      <td>NaN</td>\n",
       "    </tr>\n",
       "  </tbody>\n",
       "</table>\n",
       "<p>3000 rows × 7 columns</p>\n",
       "</div>"
      ],
      "text/plain": [
       "      comment_id  source                                           comments  \\\n",
       "0              0  медуза                                   Григорий Спел)))   \n",
       "1              1  медуза  Только новую серию Намедни закончил смотреть и...   \n",
       "2              2  медуза                  А будет ли фильм Русские русские?   \n",
       "3              3  медуза         [id415480453|Олег], есть же, \"Цвет нации\".   \n",
       "4              4  медуза  Что бы ни делал Леонид Геннадьевич - шедеврально.   \n",
       "...          ...     ...                                                ...   \n",
       "2995        2995   дождь             [id138280294|Антон], не повторяйся бот   \n",
       "2996        2996   дождь  [id49464409|Анатолий],  Это констатация факта....   \n",
       "2997        2997   дождь    [id138280294|Антон], утром методичку новую дали   \n",
       "2998        2998   дождь  [id49464409|Анатолий], ага, Байден все делает ...   \n",
       "2999        2999   дождь  Есть ещё в России настоящие офицеры! Преподава...   \n",
       "\n",
       "      distortion  toxicity corrected Столбец1  \n",
       "0              0         0       NaN      NaN  \n",
       "1              0         0       NaN      NaN  \n",
       "2              0         0       NaN      NaN  \n",
       "3              0         0       NaN      NaN  \n",
       "4              0         0       NaN      NaN  \n",
       "...          ...       ...       ...      ...  \n",
       "2995           0         1       NaN      NaN  \n",
       "2996           0         0       NaN      NaN  \n",
       "2997           0         0       NaN      NaN  \n",
       "2998           0         0       NaN      NaN  \n",
       "2999           0         0       NaN      NaN  \n",
       "\n",
       "[3000 rows x 7 columns]"
      ]
     },
     "execution_count": 3,
     "metadata": {},
     "output_type": "execute_result"
    }
   ],
   "source": [
    "df = pd.read_csv('distorted_toxicity.tsv', encoding='UTF-8', sep='\\t')\n",
    "df"
   ]
  },
  {
   "cell_type": "markdown",
   "metadata": {},
   "source": [
    "### Statistics"
   ]
  },
  {
   "cell_type": "code",
   "execution_count": 14,
   "metadata": {},
   "outputs": [],
   "source": [
    "comments = df.comments.to_list()\n",
    "toxic = df[df.toxicity == 1].comments.to_list()\n",
    "nontoxic = df[df.toxicity == 0].comments.to_list()\n",
    "distorted = df[df.distortion == 1].comments.to_list()\n",
    "nondistorted = df[df.distortion == 0].comments.to_list()"
   ]
  },
  {
   "cell_type": "code",
   "execution_count": 35,
   "metadata": {},
   "outputs": [],
   "source": [
    "from string import punctuation, digits"
   ]
  },
  {
   "cell_type": "code",
   "execution_count": 48,
   "metadata": {},
   "outputs": [],
   "source": [
    "def count_data_statistics(all_data, first_class_list, second_class_list):\n",
    "    \"\"\"\n",
    "    counts mean n of tokens, punctuation marks and digits in three given classes of text\n",
    "    \"\"\"\n",
    "    all_lengths, first_cl_lengths, second_cl_lengths = [], [], []\n",
    "    for text_list, len_list in zip([all_data, first_class_list, second_class_list],\n",
    "                                     [all_lengths, first_cl_lengths, second_cl_lengths]):\n",
    "        for comment in text_list:\n",
    "            len_list.append(len(str(comment).split()))\n",
    "    \n",
    "    return {'mean tokens in all data': mean(all_lengths),\n",
    "            'mean tokens in first class': mean(first_cl_lengths),\n",
    "            'mean tokens in second class': mean(second_cl_lengths),\n",
    "            'mean punctiation in all data': mean([sum([1 for char in str(text) if char in punctuation]) \\\n",
    "                                               for text in all_data]),\n",
    "            'mean punctiation in first class': mean([sum([1 for char in str(text) if char in punctuation]) \\\n",
    "                                                  for text in first_class_list]),\n",
    "            'mean punctiation in second class': mean([sum([1 for char in str(text) if char in punctuation]) \\\n",
    "                                                   for text in second_class_list]),\n",
    "            'mean digits in all data': mean([sum([1 for char in str(text) if char in digits]) \\\n",
    "                                               for text in all_data]),\n",
    "            'mean digits in first class': mean([sum([1 for char in str(text) if char in digits]) \\\n",
    "                                               for text in first_class_list]),\n",
    "            'mean digits in second class': mean([sum([1 for char in str(text) if char in digits]) \\\n",
    "                                               for text in second_class_list])}"
   ]
  },
  {
   "cell_type": "markdown",
   "metadata": {},
   "source": [
    "#### Count statistics for the first distortion + toxicity corpus"
   ]
  },
  {
   "cell_type": "code",
   "execution_count": 49,
   "metadata": {},
   "outputs": [
    {
     "name": "stdout",
     "output_type": "stream",
     "text": [
      "{'mean digits in all data': 5.352,\n",
      " 'mean digits in first class': 5.606060606060606,\n",
      " 'mean digits in second class': 5.293562935629356,\n",
      " 'mean punctiation in all data': 6.417666666666666,\n",
      " 'mean punctiation in first class': 7.590017825311943,\n",
      " 'mean punctiation in second class': 6.148011480114802,\n",
      " 'mean tokens in all data': 15.331333333333333,\n",
      " 'mean tokens in first class': 18.83957219251337,\n",
      " 'mean tokens in second class': 14.524395243952439}\n",
      "{'mean digits in all data': 5.352,\n",
      " 'mean digits in first class': 5.968253968253968,\n",
      " 'mean digits in second class': 5.324982602644398,\n",
      " 'mean punctiation in all data': 6.417666666666666,\n",
      " 'mean punctiation in first class': 9.023809523809524,\n",
      " 'mean punctiation in second class': 6.3034098816979816,\n",
      " 'mean tokens in all data': 15.331333333333333,\n",
      " 'mean tokens in first class': 19.77777777777778,\n",
      " 'mean tokens in second class': 15.136395267919276}\n"
     ]
    }
   ],
   "source": [
    "# mean elements\n",
    "pprint(count_data_statistics(comments, toxic, nontoxic))\n",
    "pprint(count_data_statistics(comments, distorted, nondistorted))"
   ]
  },
  {
   "cell_type": "code",
   "execution_count": 6,
   "metadata": {},
   "outputs": [
    {
     "data": {
      "text/plain": [
       "2524"
      ]
     },
     "execution_count": 6,
     "metadata": {},
     "output_type": "execute_result"
    }
   ],
   "source": [
    "# length in tokens\n",
    "corrs = df.corrected.dropna().to_list()\n",
    "\n",
    "rephrase = []\n",
    "for corr in corrs:\n",
    "    rephrase.extend(str(corr).split())\n",
    "len(rephrase)"
   ]
  },
  {
   "cell_type": "code",
   "execution_count": 7,
   "metadata": {},
   "outputs": [
    {
     "data": {
      "text/plain": [
       "48518"
      ]
     },
     "execution_count": 7,
     "metadata": {},
     "output_type": "execute_result"
    }
   ],
   "source": [
    "len(tokens) + len(rephrase)"
   ]
  },
  {
   "cell_type": "code",
   "execution_count": 34,
   "metadata": {
    "scrolled": true
   },
   "outputs": [
    {
     "name": "stderr",
     "output_type": "stream",
     "text": [
      "C:\\Users\\User\\Anaconda3\\lib\\site-packages\\statsmodels\\tools\\_testing.py:19: FutureWarning: pandas.util.testing is deprecated. Use the functions in the public API at pandas.testing instead.\n",
      "  import pandas.util.testing as tm\n"
     ]
    },
    {
     "name": "stdout",
     "output_type": "stream",
     "text": [
      "distortion     0   1\n",
      "toxicity            \n",
      "0           2403  36\n",
      "1            471  90\n"
     ]
    },
    {
     "data": {
      "image/png": "[encoded data removed]",
      "text/plain": [
       "<Figure size 432x288 with 2 Axes>"
      ]
     },
     "metadata": {
      "needs_background": "light"
     },
     "output_type": "display_data"
    }
   ],
   "source": [
    "# class distribution\n",
    "\n",
    "import seaborn as sn\n",
    "import matplotlib.pyplot as plt\n",
    "\n",
    "confusion_matrix = pd.crosstab(df['toxicity'], df['distortion'], rownames=['toxicity'], colnames=['distortion'])\n",
    "                               \n",
    "print(confusion_matrix)\n",
    "\n",
    "sn.heatmap(confusion_matrix, annot=True, fmt='g')\n",
    "plt.show()"
   ]
  },
  {
   "cell_type": "markdown",
   "metadata": {},
   "source": [
    "#### Separate and save two parallel test datasets"
   ]
  },
  {
   "cell_type": "code",
   "execution_count": 9,
   "metadata": {},
   "outputs": [],
   "source": [
    "source_df = df.loc[df['distortion'] == 1]\n",
    "uncorrected_data = source_df[['comments', 'toxicity']]\n",
    "corrected_data = source_df[['corrected', 'toxicity']]"
   ]
  },
  {
   "cell_type": "code",
   "execution_count": 10,
   "metadata": {},
   "outputs": [
    {
     "data": {
      "text/html": [
       "<div>\n",
       "<style scoped>\n",
       "    .dataframe tbody tr th:only-of-type {\n",
       "        vertical-align: middle;\n",
       "    }\n",
       "\n",
       "    .dataframe tbody tr th {\n",
       "        vertical-align: top;\n",
       "    }\n",
       "\n",
       "    .dataframe thead th {\n",
       "        text-align: right;\n",
       "    }\n",
       "</style>\n",
       "<table border=\"1\" class=\"dataframe\">\n",
       "  <thead>\n",
       "    <tr style=\"text-align: right;\">\n",
       "      <th></th>\n",
       "      <th>comment_id</th>\n",
       "      <th>source</th>\n",
       "      <th>comments</th>\n",
       "      <th>distortion</th>\n",
       "      <th>toxicity</th>\n",
       "      <th>corrected</th>\n",
       "      <th>Столбец1</th>\n",
       "    </tr>\n",
       "  </thead>\n",
       "  <tbody>\n",
       "    <tr>\n",
       "      <th>25</th>\n",
       "      <td>25</td>\n",
       "      <td>медуза</td>\n",
       "      <td>[id695904995|Ярослав], как же обо%рался ОКР ко...</td>\n",
       "      <td>1</td>\n",
       "      <td>1</td>\n",
       "      <td>[id695904995|Ярослав], как же обосрался ОКР ко...</td>\n",
       "      <td>NaN</td>\n",
       "    </tr>\n",
       "  </tbody>\n",
       "</table>\n",
       "</div>"
      ],
      "text/plain": [
       "    comment_id  source                                           comments  \\\n",
       "25          25  медуза  [id695904995|Ярослав], как же обо%рался ОКР ко...   \n",
       "\n",
       "    distortion  toxicity                                          corrected  \\\n",
       "25           1         1  [id695904995|Ярослав], как же обосрался ОКР ко...   \n",
       "\n",
       "   Столбец1  \n",
       "25      NaN  "
      ]
     },
     "execution_count": 10,
     "metadata": {},
     "output_type": "execute_result"
    }
   ],
   "source": [
    "source_df.head(1)"
   ]
  },
  {
   "cell_type": "code",
   "execution_count": 11,
   "metadata": {},
   "outputs": [],
   "source": [
    "uncorrected_data.to_csv('uncorrected_data_NEW.tsv', sep='\\t')\n",
    "corrected_data.to_csv('corrected_data_NEW.tsv', sep='\\t')"
   ]
  },
  {
   "cell_type": "markdown",
   "metadata": {},
   "source": [
    "#### Count statistics for second stage datasets"
   ]
  },
  {
   "cell_type": "code",
   "execution_count": 51,
   "metadata": {},
   "outputs": [
    {
     "name": "stdout",
     "output_type": "stream",
     "text": [
      "{'mean digits in all data': 5.2427777777777775,\n",
      " 'mean digits in first class': 5.291111111111111,\n",
      " 'mean digits in second class': 5.194444444444445,\n",
      " 'mean punctiation in all data': 7.441666666666666,\n",
      " 'mean punctiation in first class': 9.124444444444444,\n",
      " 'mean punctiation in second class': 5.7588888888888885,\n",
      " 'mean tokens in all data': 19.590555555555557,\n",
      " 'mean tokens in first class': 24.09777777777778,\n",
      " 'mean tokens in second class': 15.083333333333334}\n"
     ]
    },
    {
     "data": {
      "text/plain": [
       "0    900\n",
       "1    900\n",
       "Name: target, dtype: int64"
      ]
     },
     "execution_count": 51,
     "metadata": {},
     "output_type": "execute_result"
    }
   ],
   "source": [
    "# vk distortion corpus\n",
    "df2 = pd.read_csv('distortion_data.tsv', encoding='UTF-8', sep='\\t')\n",
    "\n",
    "all_texts = df2.text.to_list()\n",
    "distorted = df2[df2.target == 1].text.to_list()\n",
    "nondistorted = df2[df2.target == 0].text.to_list()\n",
    "\n",
    "pprint(count_data_statistics(all_texts, distorted, nondistorted))\n",
    "df2.target.value_counts()"
   ]
  },
  {
   "cell_type": "code",
   "execution_count": 56,
   "metadata": {},
   "outputs": [
    {
     "name": "stdout",
     "output_type": "stream",
     "text": [
      "{'mean digits in all data': 5.541594753192959,\n",
      " 'mean digits in first class': 5.6541889483065955,\n",
      " 'mean digits in second class': 5.5145547945205475,\n",
      " 'mean punctiation in all data': 6.662754573696928,\n",
      " 'mean punctiation in first class': 7.634581105169341,\n",
      " 'mean punctiation in second class': 6.429366438356165,\n",
      " 'mean tokens in all data': 15.894028305143252,\n",
      " 'mean tokens in first class': 18.818181818181817,\n",
      " 'mean tokens in second class': 15.191780821917808}\n"
     ]
    },
    {
     "data": {
      "text/plain": [
       "0    2336\n",
       "1     561\n",
       "Name: target, dtype: int64"
      ]
     },
     "execution_count": 56,
     "metadata": {},
     "output_type": "execute_result"
    }
   ],
   "source": [
    "# vk toxicity corpus\n",
    "df3 = pd.read_csv('toxicity_data.tsv', encoding='UTF-8', sep='\\t')\n",
    "df3.dropna(inplace=True)\n",
    "all_texts = df3.text.to_list()\n",
    "toxic = df3[df3.target == 1].text.to_list()\n",
    "nontoxic = df3[df3.target == 0].text.to_list()\n",
    "\n",
    "pprint(count_data_statistics(all_texts, toxic, nontoxic))\n",
    "df3.target.value_counts()"
   ]
  },
  {
   "cell_type": "code",
   "execution_count": 62,
   "metadata": {},
   "outputs": [
    {
     "name": "stdout",
     "output_type": "stream",
     "text": [
      "{'mean digits in all data': 0.65625,\n",
      " 'mean digits in first class': 0.28067343173431736,\n",
      " 'mean digits in second class': 1.0318265682656826,\n",
      " 'mean punctiation in all data': 4.505419741697417,\n",
      " 'mean punctiation in first class': 4.395987084870849,\n",
      " 'mean punctiation in second class': 4.614852398523985,\n",
      " 'mean tokens in all data': 16.516259225092252,\n",
      " 'mean tokens in first class': 15.017758302583026,\n",
      " 'mean tokens in second class': 18.014760147601475}\n"
     ]
    },
    {
     "data": {
      "text/plain": [
       "0    4336\n",
       "1    4336\n",
       "Name: target, dtype: int64"
      ]
     },
     "execution_count": 62,
     "metadata": {},
     "output_type": "execute_result"
    }
   ],
   "source": [
    "# all data toxicity corpus\n",
    "df4 = pd.concat([pd.read_csv('combined_train.tsv', encoding='UTF-8', sep='\\t'),\n",
    "                pd.read_csv('combined_val.tsv', encoding='UTF-8', sep='\\t')],\n",
    "                ignore_index=True)\n",
    "\n",
    "all_texts = df4.doc.to_list()\n",
    "toxic = df4[df4.target == 1].doc.to_list()\n",
    "nontoxic = df4[df4.target == 0].doc.to_list()\n",
    "\n",
    "pprint(count_data_statistics(all_texts, toxic, nontoxic))\n",
    "df4.target.value_counts()"
   ]
  },
  {
   "cell_type": "code",
   "execution_count": null,
   "metadata": {},
   "outputs": [],
   "source": []
  }
 ],
 "metadata": {
  "kernelspec": {
   "display_name": "Python 3 (ipykernel)",
   "language": "python",
   "name": "python3"
  },
  "language_info": {
   "codemirror_mode": {
    "name": "ipython",
    "version": 3
   },
   "file_extension": ".py",
   "mimetype": "text/x-python",
   "name": "python",
   "nbconvert_exporter": "python",
   "pygments_lexer": "ipython3",
   "version": "3.7.3"
  }
 },
 "nbformat": 4,
 "nbformat_minor": 2
}
